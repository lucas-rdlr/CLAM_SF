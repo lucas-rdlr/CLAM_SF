{
 "cells": [
  {
   "attachments": {},
   "cell_type": "markdown",
   "metadata": {},
   "source": [
    "### Slideflow"
   ]
  },
  {
   "attachments": {},
   "cell_type": "markdown",
   "metadata": {},
   "source": [
    "#### Creating and loading a project"
   ]
  },
  {
   "cell_type": "code",
   "execution_count": 2,
   "metadata": {},
   "outputs": [],
   "source": [
    "import slideflow as sf\n",
    "import os\n",
    "\n",
    "os.environ[\"SF_SLIDE_BACKEND\"] = \"libvips\"\n",
    "os.environ[\"SF_BACKEND\"] = \"torch\"\n",
    "\n",
    "# Create project\n",
    "project = sf.create_project(\n",
    "root = 'slideflow',              # name\n",
    "annotations = \"annotations.csv\", # csv with binary labels\n",
    "slides = '0_V'                   # folder containing ndpi files\n",
    ")\n",
    "\n",
    "# Prepare a project and dataset\n",
    "project = sf.load_project('slideflow')\n",
    "dataset = project.dataset(tile_px=224, tile_um='45x', sources=['MyProject'])\n",
    "dataset.summary() # 2450309 TFRecords\n",
    "\n",
    "from slideflow.model import build_feature_extractor\n",
    "\n",
    "dataset.extract_tiles(qc='otsu')\n",
    "\n",
    "resnet50 = build_feature_extractor(\n",
    "    'resnet50_imagenet',\n",
    "    tile_px=224\n",
    ")\n",
    "\n",
    "# Calculate features for this dataset.\n",
    "features = sf.DatasetFeatures(resnet50, dataset)\n",
    "features.to_torch('bags_folder')"
   ]
  },
  {
   "attachments": {},
   "cell_type": "markdown",
   "metadata": {},
   "source": [
    "#### Dataset"
   ]
  },
  {
   "cell_type": "code",
   "execution_count": 4,
   "metadata": {},
   "outputs": [
    {
     "data": {
      "application/vnd.jupyter.widget-view+json": {
       "model_id": "818c015d6f154da0a1da3b231f1902d1",
       "version_major": 2,
       "version_minor": 0
      },
      "text/plain": [
       "Output()"
      ]
     },
     "metadata": {},
     "output_type": "display_data"
    },
    {
     "data": {
      "text/html": [
       "<pre style=\"white-space:pre;overflow-x:auto;line-height:normal;font-family:Menlo,'DejaVu Sans Mono',consolas,'Courier New',monospace\"></pre>\n"
      ],
      "text/plain": []
     },
     "metadata": {},
     "output_type": "display_data"
    },
    {
     "data": {
      "text/html": [
       "<pre style=\"white-space:pre;overflow-x:auto;line-height:normal;font-family:Menlo,'DejaVu Sans Mono',consolas,'Courier New',monospace\">\n",
       "</pre>\n"
      ],
      "text/plain": [
       "\n"
      ]
     },
     "metadata": {},
     "output_type": "display_data"
    },
    {
     "name": "stdout",
     "output_type": "stream",
     "text": [
      "Overview:\n",
      "╒═════════════════════╤═════════════════════════╕\n",
      "│ Configuration file: │ slideflow/datasets.json │\n",
      "│ Tile size (px):     │ 224                     │\n",
      "│ Tile size (um):     │ 45x                     │\n",
      "│ Slides:             │ 69                      │\n",
      "│ Patients:           │ 69                      │\n",
      "│ Slides with ROIs:   │ 0                       │\n",
      "│ Patients with ROIs: │ 0                       │\n",
      "╘═════════════════════╧═════════════════════════╛\n",
      "\n",
      "Filters:\n",
      "╒═══════════════╤════╕\n",
      "│ Filters:      │ {} │\n",
      "├───────────────┼────┤\n",
      "│ Filter Blank: │ [] │\n",
      "├───────────────┼────┤\n",
      "│ Min Tiles:    │ 0  │\n",
      "╘═══════════════╧════╛\n",
      "\n",
      "Sources:\n",
      "\n",
      "MyProject\n",
      "╒═══════════╤═════════════════════╕\n",
      "│ slides    │ 0_V                 │\n",
      "│ roi       │ 0_V/rois            │\n",
      "│ tiles     │ slideflow/tiles     │\n",
      "│ tfrecords │ slideflow/tfrecords │\n",
      "│ label     │ 224px_45x           │\n",
      "╘═══════════╧═════════════════════╛\n",
      "\n",
      "Number of tiles in TFRecords: 2450309\n",
      "Annotation columns:\n",
      "Index(['patient', 'category', 'slide', 'dataset'], dtype='object')\n"
     ]
    }
   ],
   "source": [
    "# Prepare a project and dataset\n",
    "project = sf.load_project('slideflow')\n",
    "dataset = project.dataset(tile_px=224, tile_um='45x', sources=['MyProject'])\n",
    "dataset.summary()"
   ]
  },
  {
   "cell_type": "code",
   "execution_count": 36,
   "metadata": {},
   "outputs": [
    {
     "data": {
      "text/html": [
       "<pre style=\"white-space:pre;overflow-x:auto;line-height:normal;font-family:Menlo,'DejaVu Sans Mono',consolas,'Courier New',monospace\"><span style=\"color: #7fbfbf; text-decoration-color: #7fbfbf\">[11:51:05 AM] </span><span style=\"color: #000080; text-decoration-color: #000080\">INFO    </span> Filtering tiles by grayspace fraction                                                       \n",
       "</pre>\n"
      ],
      "text/plain": [
       "\u001b[2;36m[11:51:05 AM]\u001b[0m\u001b[2;36m \u001b[0m\u001b[34mINFO    \u001b[0m Filtering tiles by grayspace fraction                                                       \n"
      ]
     },
     "metadata": {},
     "output_type": "display_data"
    },
    {
     "data": {
      "text/html": [
       "<pre style=\"white-space:pre;overflow-x:auto;line-height:normal;font-family:Menlo,'DejaVu Sans Mono',consolas,'Courier New',monospace\"><span style=\"color: #7fbfbf; text-decoration-color: #7fbfbf\">              </span><span style=\"color: #000080; text-decoration-color: #000080\">INFO    </span> Working on dataset source <span style=\"font-weight: bold\">MyProject</span>...                                                      \n",
       "</pre>\n"
      ],
      "text/plain": [
       "\u001b[2;36m             \u001b[0m\u001b[2;36m \u001b[0m\u001b[34mINFO    \u001b[0m Working on dataset source \u001b[1mMyProject\u001b[0m...                                                      \n"
      ]
     },
     "metadata": {},
     "output_type": "display_data"
    },
    {
     "data": {
      "application/vnd.jupyter.widget-view+json": {
       "model_id": "791d8dc654da43d680bc6b11ba629476",
       "version_major": 2,
       "version_minor": 0
      },
      "text/plain": [
       "Output()"
      ]
     },
     "metadata": {},
     "output_type": "display_data"
    },
    {
     "data": {
      "text/html": [
       "<pre style=\"white-space:pre;overflow-x:auto;line-height:normal;font-family:Menlo,'DejaVu Sans Mono',consolas,'Courier New',monospace\"></pre>\n"
      ],
      "text/plain": []
     },
     "metadata": {},
     "output_type": "display_data"
    },
    {
     "data": {
      "text/html": [
       "<pre style=\"white-space:pre;overflow-x:auto;line-height:normal;font-family:Menlo,'DejaVu Sans Mono',consolas,'Courier New',monospace\">\n",
       "</pre>\n"
      ],
      "text/plain": [
       "\n"
      ]
     },
     "metadata": {},
     "output_type": "display_data"
    },
    {
     "data": {
      "text/html": [
       "<pre style=\"white-space:pre;overflow-x:auto;line-height:normal;font-family:Menlo,'DejaVu Sans Mono',consolas,'Courier New',monospace\"><span style=\"color: #7fbfbf; text-decoration-color: #7fbfbf\">[11:51:06 AM] </span><span style=\"color: #000080; text-decoration-color: #000080\">INFO    </span> Extracting tiles from 57 slides (tile_px=224, tile_um=45x)                                  \n",
       "</pre>\n"
      ],
      "text/plain": [
       "\u001b[2;36m[11:51:06 AM]\u001b[0m\u001b[2;36m \u001b[0m\u001b[34mINFO    \u001b[0m Extracting tiles from 57 slides (tile_px=224, tile_um=45x)                                  \n"
      ]
     },
     "metadata": {},
     "output_type": "display_data"
    },
    {
     "data": {
      "text/html": [
       "<pre style=\"white-space:pre;overflow-x:auto;line-height:normal;font-family:Menlo,'DejaVu Sans Mono',consolas,'Courier New',monospace\"><span style=\"color: #7fbfbf; text-decoration-color: #7fbfbf\">              </span><span style=\"color: #000080; text-decoration-color: #000080\">INFO    </span> Using 12 processes (pool=spawn)                                                             \n",
       "</pre>\n"
      ],
      "text/plain": [
       "\u001b[2;36m             \u001b[0m\u001b[2;36m \u001b[0m\u001b[34mINFO    \u001b[0m Using 12 processes (pool=spawn)                                                             \n"
      ]
     },
     "metadata": {},
     "output_type": "display_data"
    },
    {
     "data": {
      "application/vnd.jupyter.widget-view+json": {
       "model_id": "ced498cdd4e44569ab5f162df6bb5b18",
       "version_major": 2,
       "version_minor": 0
      },
      "text/plain": [
       "Output()"
      ]
     },
     "metadata": {},
     "output_type": "display_data"
    },
    {
     "data": {
      "text/html": [
       "<pre style=\"white-space:pre;overflow-x:auto;line-height:normal;font-family:Menlo,'DejaVu Sans Mono',consolas,'Courier New',monospace\"><span style=\"color: #7fbfbf; text-decoration-color: #7fbfbf\">              </span><span style=\"color: #000080; text-decoration-color: #000080\">INFO    </span> No ROI for 20B0715-V, using whole slide.                                                    \n",
       "</pre>\n"
      ],
      "text/plain": [
       "\u001b[2;36m             \u001b[0m\u001b[2;36m \u001b[0m\u001b[34mINFO    \u001b[0m No ROI for 20B0715-V, using whole slide.                                                    \n"
      ]
     },
     "metadata": {},
     "output_type": "display_data"
    },
    {
     "data": {
      "text/html": [
       "<pre style=\"white-space:pre;overflow-x:auto;line-height:normal;font-family:Menlo,'DejaVu Sans Mono',consolas,'Courier New',monospace\"><span style=\"color: #7fbfbf; text-decoration-color: #7fbfbf\">[11:54:56 AM] </span><span style=\"color: #000080; text-decoration-color: #000080\">INFO    </span> Finished tile extraction for <span style=\"color: #008000; text-decoration-color: #008000\">20B0715-V</span> (47866 tiles of 48923 possible)                      \n",
       "</pre>\n"
      ],
      "text/plain": [
       "\u001b[2;36m[11:54:56 AM]\u001b[0m\u001b[2;36m \u001b[0m\u001b[34mINFO    \u001b[0m Finished tile extraction for \u001b[32m20B0715-V\u001b[0m (47866 tiles of 48923 possible)                      \n"
      ]
     },
     "metadata": {},
     "output_type": "display_data"
    },
    {
     "data": {
      "text/html": [
       "<pre style=\"white-space:pre;overflow-x:auto;line-height:normal;font-family:Menlo,'DejaVu Sans Mono',consolas,'Courier New',monospace\"><span style=\"color: #7fbfbf; text-decoration-color: #7fbfbf\">[11:54:59 AM] </span><span style=\"color: #000080; text-decoration-color: #000080\">INFO    </span> No ROI for 17B2392-V, using whole slide.                                                    \n",
       "</pre>\n"
      ],
      "text/plain": [
       "\u001b[2;36m[11:54:59 AM]\u001b[0m\u001b[2;36m \u001b[0m\u001b[34mINFO    \u001b[0m No ROI for 17B2392-V, using whole slide.                                                    \n"
      ]
     },
     "metadata": {},
     "output_type": "display_data"
    },
    {
     "data": {
      "text/html": [
       "<pre style=\"white-space:pre;overflow-x:auto;line-height:normal;font-family:Menlo,'DejaVu Sans Mono',consolas,'Courier New',monospace\">/home/user/stage-lucas/lib/python3.10/site-packages/numpy/core/fromnumeric.py:3464: RuntimeWarning: Mean of empty \n",
       "slice.\n",
       "  return _methods._mean(a, axis=axis, dtype=dtype,\n",
       "</pre>\n"
      ],
      "text/plain": [
       "/home/user/stage-lucas/lib/python3.10/site-packages/numpy/core/fromnumeric.py:3464: RuntimeWarning: Mean of empty \n",
       "slice.\n",
       "  return _methods._mean(a, axis=axis, dtype=dtype,\n"
      ]
     },
     "metadata": {},
     "output_type": "display_data"
    },
    {
     "data": {
      "text/html": [
       "<pre style=\"white-space:pre;overflow-x:auto;line-height:normal;font-family:Menlo,'DejaVu Sans Mono',consolas,'Courier New',monospace\">/home/user/stage-lucas/lib/python3.10/site-packages/numpy/core/_methods.py:192: RuntimeWarning: invalid value \n",
       "encountered in scalar divide\n",
       "  ret = ret.dtype.type(ret / rcount)\n",
       "</pre>\n"
      ],
      "text/plain": [
       "/home/user/stage-lucas/lib/python3.10/site-packages/numpy/core/_methods.py:192: RuntimeWarning: invalid value \n",
       "encountered in scalar divide\n",
       "  ret = ret.dtype.type(ret / rcount)\n"
      ]
     },
     "metadata": {},
     "output_type": "display_data"
    },
    {
     "data": {
      "text/html": [
       "<pre style=\"white-space:pre;overflow-x:auto;line-height:normal;font-family:Menlo,'DejaVu Sans Mono',consolas,'Courier New',monospace\"><span style=\"color: #7fbfbf; text-decoration-color: #7fbfbf\">[11:56:04 AM] </span><span style=\"color: #000080; text-decoration-color: #000080\">INFO    </span> Finished tile extraction for <span style=\"color: #008000; text-decoration-color: #008000\">17B2392-V</span> (8784 tiles of 46080 possible)                       \n",
       "</pre>\n"
      ],
      "text/plain": [
       "\u001b[2;36m[11:56:04 AM]\u001b[0m\u001b[2;36m \u001b[0m\u001b[34mINFO    \u001b[0m Finished tile extraction for \u001b[32m17B2392-V\u001b[0m (8784 tiles of 46080 possible)                       \n"
      ]
     },
     "metadata": {},
     "output_type": "display_data"
    },
    {
     "data": {
      "text/html": [
       "<pre style=\"white-space:pre;overflow-x:auto;line-height:normal;font-family:Menlo,'DejaVu Sans Mono',consolas,'Courier New',monospace\"><span style=\"color: #7fbfbf; text-decoration-color: #7fbfbf\">[11:56:05 AM] </span><span style=\"color: #000080; text-decoration-color: #000080\">INFO    </span> No ROI for 18B3529-V, using whole slide.                                                    \n",
       "</pre>\n"
      ],
      "text/plain": [
       "\u001b[2;36m[11:56:05 AM]\u001b[0m\u001b[2;36m \u001b[0m\u001b[34mINFO    \u001b[0m No ROI for 18B3529-V, using whole slide.                                                    \n"
      ]
     },
     "metadata": {},
     "output_type": "display_data"
    },
    {
     "data": {
      "text/html": [
       "<pre style=\"white-space:pre;overflow-x:auto;line-height:normal;font-family:Menlo,'DejaVu Sans Mono',consolas,'Courier New',monospace\"><span style=\"color: #7fbfbf; text-decoration-color: #7fbfbf\">[11:58:40 AM] </span><span style=\"color: #000080; text-decoration-color: #000080\">INFO    </span> Finished tile extraction for <span style=\"color: #008000; text-decoration-color: #008000\">18B3529-V</span> (28790 tiles of 29077 possible)                      \n",
       "</pre>\n"
      ],
      "text/plain": [
       "\u001b[2;36m[11:58:40 AM]\u001b[0m\u001b[2;36m \u001b[0m\u001b[34mINFO    \u001b[0m Finished tile extraction for \u001b[32m18B3529-V\u001b[0m (28790 tiles of 29077 possible)                      \n"
      ]
     },
     "metadata": {},
     "output_type": "display_data"
    },
    {
     "data": {
      "text/html": [
       "<pre style=\"white-space:pre;overflow-x:auto;line-height:normal;font-family:Menlo,'DejaVu Sans Mono',consolas,'Courier New',monospace\"><span style=\"color: #7fbfbf; text-decoration-color: #7fbfbf\">[11:58:41 AM] </span><span style=\"color: #000080; text-decoration-color: #000080\">INFO    </span> No ROI for 18B1466-V, using whole slide.                                                    \n",
       "</pre>\n"
      ],
      "text/plain": [
       "\u001b[2;36m[11:58:41 AM]\u001b[0m\u001b[2;36m \u001b[0m\u001b[34mINFO    \u001b[0m No ROI for 18B1466-V, using whole slide.                                                    \n"
      ]
     },
     "metadata": {},
     "output_type": "display_data"
    },
    {
     "data": {
      "text/html": [
       "<pre style=\"white-space:pre;overflow-x:auto;line-height:normal;font-family:Menlo,'DejaVu Sans Mono',consolas,'Courier New',monospace\"><span style=\"color: #7fbfbf; text-decoration-color: #7fbfbf\">[11:59:44 AM] </span><span style=\"color: #000080; text-decoration-color: #000080\">INFO    </span> Finished tile extraction for <span style=\"color: #008000; text-decoration-color: #008000\">18B1466-V</span> (5579 tiles of 5689 possible)                        \n",
       "</pre>\n"
      ],
      "text/plain": [
       "\u001b[2;36m[11:59:44 AM]\u001b[0m\u001b[2;36m \u001b[0m\u001b[34mINFO    \u001b[0m Finished tile extraction for \u001b[32m18B1466-V\u001b[0m (5579 tiles of 5689 possible)                        \n"
      ]
     },
     "metadata": {},
     "output_type": "display_data"
    },
    {
     "data": {
      "text/html": [
       "<pre style=\"white-space:pre;overflow-x:auto;line-height:normal;font-family:Menlo,'DejaVu Sans Mono',consolas,'Courier New',monospace\"><span style=\"color: #7fbfbf; text-decoration-color: #7fbfbf\">              </span><span style=\"color: #000080; text-decoration-color: #000080\">INFO    </span> No ROI for 18B0543-V, using whole slide.                                                    \n",
       "</pre>\n"
      ],
      "text/plain": [
       "\u001b[2;36m             \u001b[0m\u001b[2;36m \u001b[0m\u001b[34mINFO    \u001b[0m No ROI for 18B0543-V, using whole slide.                                                    \n"
      ]
     },
     "metadata": {},
     "output_type": "display_data"
    },
    {
     "data": {
      "text/html": [
       "<pre style=\"white-space:pre;overflow-x:auto;line-height:normal;font-family:Menlo,'DejaVu Sans Mono',consolas,'Courier New',monospace\"><span style=\"color: #7fbfbf; text-decoration-color: #7fbfbf\">[12:03:04 PM] </span><span style=\"color: #000080; text-decoration-color: #000080\">INFO    </span> Finished tile extraction for <span style=\"color: #008000; text-decoration-color: #008000\">18B0543-V</span> (38093 tiles of 38403 possible)                      \n",
       "</pre>\n"
      ],
      "text/plain": [
       "\u001b[2;36m[12:03:04 PM]\u001b[0m\u001b[2;36m \u001b[0m\u001b[34mINFO    \u001b[0m Finished tile extraction for \u001b[32m18B0543-V\u001b[0m (38093 tiles of 38403 possible)                      \n"
      ]
     },
     "metadata": {},
     "output_type": "display_data"
    },
    {
     "data": {
      "text/html": [
       "<pre style=\"white-space:pre;overflow-x:auto;line-height:normal;font-family:Menlo,'DejaVu Sans Mono',consolas,'Courier New',monospace\"><span style=\"color: #7fbfbf; text-decoration-color: #7fbfbf\">[12:03:05 PM] </span><span style=\"color: #000080; text-decoration-color: #000080\">INFO    </span> No ROI for 19B3906-V, using whole slide.                                                    \n",
       "</pre>\n"
      ],
      "text/plain": [
       "\u001b[2;36m[12:03:05 PM]\u001b[0m\u001b[2;36m \u001b[0m\u001b[34mINFO    \u001b[0m No ROI for 19B3906-V, using whole slide.                                                    \n"
      ]
     },
     "metadata": {},
     "output_type": "display_data"
    },
    {
     "data": {
      "text/html": [
       "<pre style=\"white-space:pre;overflow-x:auto;line-height:normal;font-family:Menlo,'DejaVu Sans Mono',consolas,'Courier New',monospace\"><span style=\"color: #7fbfbf; text-decoration-color: #7fbfbf\">[12:06:44 PM] </span><span style=\"color: #000080; text-decoration-color: #000080\">INFO    </span> Finished tile extraction for <span style=\"color: #008000; text-decoration-color: #008000\">19B3906-V</span> (46236 tiles of 46687 possible)                      \n",
       "</pre>\n"
      ],
      "text/plain": [
       "\u001b[2;36m[12:06:44 PM]\u001b[0m\u001b[2;36m \u001b[0m\u001b[34mINFO    \u001b[0m Finished tile extraction for \u001b[32m19B3906-V\u001b[0m (46236 tiles of 46687 possible)                      \n"
      ]
     },
     "metadata": {},
     "output_type": "display_data"
    },
    {
     "data": {
      "text/html": [
       "<pre style=\"white-space:pre;overflow-x:auto;line-height:normal;font-family:Menlo,'DejaVu Sans Mono',consolas,'Courier New',monospace\"><span style=\"color: #7fbfbf; text-decoration-color: #7fbfbf\">              </span><span style=\"color: #000080; text-decoration-color: #000080\">INFO    </span> No ROI for 17B0492-V, using whole slide.                                                    \n",
       "</pre>\n"
      ],
      "text/plain": [
       "\u001b[2;36m             \u001b[0m\u001b[2;36m \u001b[0m\u001b[34mINFO    \u001b[0m No ROI for 17B0492-V, using whole slide.                                                    \n"
      ]
     },
     "metadata": {},
     "output_type": "display_data"
    },
    {
     "data": {
      "text/html": [
       "<pre style=\"white-space:pre;overflow-x:auto;line-height:normal;font-family:Menlo,'DejaVu Sans Mono',consolas,'Courier New',monospace\">/home/user/stage-lucas/lib/python3.10/site-packages/numpy/core/fromnumeric.py:3464: RuntimeWarning: Mean of empty \n",
       "slice.\n",
       "  return _methods._mean(a, axis=axis, dtype=dtype,\n",
       "</pre>\n"
      ],
      "text/plain": [
       "/home/user/stage-lucas/lib/python3.10/site-packages/numpy/core/fromnumeric.py:3464: RuntimeWarning: Mean of empty \n",
       "slice.\n",
       "  return _methods._mean(a, axis=axis, dtype=dtype,\n"
      ]
     },
     "metadata": {},
     "output_type": "display_data"
    },
    {
     "data": {
      "text/html": [
       "<pre style=\"white-space:pre;overflow-x:auto;line-height:normal;font-family:Menlo,'DejaVu Sans Mono',consolas,'Courier New',monospace\">/home/user/stage-lucas/lib/python3.10/site-packages/numpy/core/_methods.py:192: RuntimeWarning: invalid value \n",
       "encountered in scalar divide\n",
       "  ret = ret.dtype.type(ret / rcount)\n",
       "</pre>\n"
      ],
      "text/plain": [
       "/home/user/stage-lucas/lib/python3.10/site-packages/numpy/core/_methods.py:192: RuntimeWarning: invalid value \n",
       "encountered in scalar divide\n",
       "  ret = ret.dtype.type(ret / rcount)\n"
      ]
     },
     "metadata": {},
     "output_type": "display_data"
    },
    {
     "data": {
      "text/html": [
       "<pre style=\"white-space:pre;overflow-x:auto;line-height:normal;font-family:Menlo,'DejaVu Sans Mono',consolas,'Courier New',monospace\"><span style=\"color: #7fbfbf; text-decoration-color: #7fbfbf\">[12:15:25 PM] </span><span style=\"color: #000080; text-decoration-color: #000080\">INFO    </span> Finished tile extraction for <span style=\"color: #008000; text-decoration-color: #008000\">17B0492-V</span> (109763 tiles of 200448 possible)                    \n",
       "</pre>\n"
      ],
      "text/plain": [
       "\u001b[2;36m[12:15:25 PM]\u001b[0m\u001b[2;36m \u001b[0m\u001b[34mINFO    \u001b[0m Finished tile extraction for \u001b[32m17B0492-V\u001b[0m (109763 tiles of 200448 possible)                    \n"
      ]
     },
     "metadata": {},
     "output_type": "display_data"
    },
    {
     "data": {
      "text/html": [
       "<pre style=\"white-space:pre;overflow-x:auto;line-height:normal;font-family:Menlo,'DejaVu Sans Mono',consolas,'Courier New',monospace\"><span style=\"color: #7fbfbf; text-decoration-color: #7fbfbf\">              </span><span style=\"color: #000080; text-decoration-color: #000080\">INFO    </span> No ROI for 20B0597-V, using whole slide.                                                    \n",
       "</pre>\n"
      ],
      "text/plain": [
       "\u001b[2;36m             \u001b[0m\u001b[2;36m \u001b[0m\u001b[34mINFO    \u001b[0m No ROI for 20B0597-V, using whole slide.                                                    \n"
      ]
     },
     "metadata": {},
     "output_type": "display_data"
    },
    {
     "data": {
      "text/html": [
       "<pre style=\"white-space:pre;overflow-x:auto;line-height:normal;font-family:Menlo,'DejaVu Sans Mono',consolas,'Courier New',monospace\"><span style=\"color: #7fbfbf; text-decoration-color: #7fbfbf\">[12:17:58 PM] </span><span style=\"color: #000080; text-decoration-color: #000080\">INFO    </span> Finished tile extraction for <span style=\"color: #008000; text-decoration-color: #008000\">20B0597-V</span> (33429 tiles of 34193 possible)                      \n",
       "</pre>\n"
      ],
      "text/plain": [
       "\u001b[2;36m[12:17:58 PM]\u001b[0m\u001b[2;36m \u001b[0m\u001b[34mINFO    \u001b[0m Finished tile extraction for \u001b[32m20B0597-V\u001b[0m (33429 tiles of 34193 possible)                      \n"
      ]
     },
     "metadata": {},
     "output_type": "display_data"
    },
    {
     "data": {
      "text/html": [
       "<pre style=\"white-space:pre;overflow-x:auto;line-height:normal;font-family:Menlo,'DejaVu Sans Mono',consolas,'Courier New',monospace\"><span style=\"color: #7fbfbf; text-decoration-color: #7fbfbf\">              </span><span style=\"color: #000080; text-decoration-color: #000080\">INFO    </span> No ROI for 18B0440-V, using whole slide.                                                    \n",
       "</pre>\n"
      ],
      "text/plain": [
       "\u001b[2;36m             \u001b[0m\u001b[2;36m \u001b[0m\u001b[34mINFO    \u001b[0m No ROI for 18B0440-V, using whole slide.                                                    \n"
      ]
     },
     "metadata": {},
     "output_type": "display_data"
    },
    {
     "data": {
      "text/html": [
       "<pre style=\"white-space:pre;overflow-x:auto;line-height:normal;font-family:Menlo,'DejaVu Sans Mono',consolas,'Courier New',monospace\">/home/user/stage-lucas/lib/python3.10/site-packages/numpy/core/fromnumeric.py:3464: RuntimeWarning: Mean of empty \n",
       "slice.\n",
       "  return _methods._mean(a, axis=axis, dtype=dtype,\n",
       "</pre>\n"
      ],
      "text/plain": [
       "/home/user/stage-lucas/lib/python3.10/site-packages/numpy/core/fromnumeric.py:3464: RuntimeWarning: Mean of empty \n",
       "slice.\n",
       "  return _methods._mean(a, axis=axis, dtype=dtype,\n"
      ]
     },
     "metadata": {},
     "output_type": "display_data"
    },
    {
     "data": {
      "text/html": [
       "<pre style=\"white-space:pre;overflow-x:auto;line-height:normal;font-family:Menlo,'DejaVu Sans Mono',consolas,'Courier New',monospace\">/home/user/stage-lucas/lib/python3.10/site-packages/numpy/core/_methods.py:192: RuntimeWarning: invalid value \n",
       "encountered in scalar divide\n",
       "  ret = ret.dtype.type(ret / rcount)\n",
       "</pre>\n"
      ],
      "text/plain": [
       "/home/user/stage-lucas/lib/python3.10/site-packages/numpy/core/_methods.py:192: RuntimeWarning: invalid value \n",
       "encountered in scalar divide\n",
       "  ret = ret.dtype.type(ret / rcount)\n"
      ]
     },
     "metadata": {},
     "output_type": "display_data"
    },
    {
     "data": {
      "text/html": [
       "<pre style=\"white-space:pre;overflow-x:auto;line-height:normal;font-family:Menlo,'DejaVu Sans Mono',consolas,'Courier New',monospace\"><span style=\"color: #7fbfbf; text-decoration-color: #7fbfbf\">[12:19:41 PM] </span><span style=\"color: #000080; text-decoration-color: #000080\">INFO    </span> Finished tile extraction for <span style=\"color: #008000; text-decoration-color: #008000\">18B0440-V</span> (16379 tiles of 78336 possible)                      \n",
       "</pre>\n"
      ],
      "text/plain": [
       "\u001b[2;36m[12:19:41 PM]\u001b[0m\u001b[2;36m \u001b[0m\u001b[34mINFO    \u001b[0m Finished tile extraction for \u001b[32m18B0440-V\u001b[0m (16379 tiles of 78336 possible)                      \n"
      ]
     },
     "metadata": {},
     "output_type": "display_data"
    },
    {
     "data": {
      "text/html": [
       "<pre style=\"white-space:pre;overflow-x:auto;line-height:normal;font-family:Menlo,'DejaVu Sans Mono',consolas,'Courier New',monospace\"><span style=\"color: #7fbfbf; text-decoration-color: #7fbfbf\">[12:19:42 PM] </span><span style=\"color: #000080; text-decoration-color: #000080\">INFO    </span> No ROI for 20B1369-V, using whole slide.                                                    \n",
       "</pre>\n"
      ],
      "text/plain": [
       "\u001b[2;36m[12:19:42 PM]\u001b[0m\u001b[2;36m \u001b[0m\u001b[34mINFO    \u001b[0m No ROI for 20B1369-V, using whole slide.                                                    \n"
      ]
     },
     "metadata": {},
     "output_type": "display_data"
    },
    {
     "data": {
      "text/html": [
       "<pre style=\"white-space:pre;overflow-x:auto;line-height:normal;font-family:Menlo,'DejaVu Sans Mono',consolas,'Courier New',monospace\"><span style=\"color: #7fbfbf; text-decoration-color: #7fbfbf\">[12:20:58 PM] </span><span style=\"color: #000080; text-decoration-color: #000080\">INFO    </span> Finished tile extraction for <span style=\"color: #008000; text-decoration-color: #008000\">20B1369-V</span> (1251 tiles of 1265 possible)                        \n",
       "</pre>\n"
      ],
      "text/plain": [
       "\u001b[2;36m[12:20:58 PM]\u001b[0m\u001b[2;36m \u001b[0m\u001b[34mINFO    \u001b[0m Finished tile extraction for \u001b[32m20B1369-V\u001b[0m (1251 tiles of 1265 possible)                        \n"
      ]
     },
     "metadata": {},
     "output_type": "display_data"
    },
    {
     "data": {
      "text/html": [
       "<pre style=\"white-space:pre;overflow-x:auto;line-height:normal;font-family:Menlo,'DejaVu Sans Mono',consolas,'Courier New',monospace\"><span style=\"color: #7fbfbf; text-decoration-color: #7fbfbf\">[12:20:59 PM] </span><span style=\"color: #000080; text-decoration-color: #000080\">INFO    </span> No ROI for 19B3612-V, using whole slide.                                                    \n",
       "</pre>\n"
      ],
      "text/plain": [
       "\u001b[2;36m[12:20:59 PM]\u001b[0m\u001b[2;36m \u001b[0m\u001b[34mINFO    \u001b[0m No ROI for 19B3612-V, using whole slide.                                                    \n"
      ]
     },
     "metadata": {},
     "output_type": "display_data"
    },
    {
     "data": {
      "text/html": [
       "<pre style=\"white-space:pre;overflow-x:auto;line-height:normal;font-family:Menlo,'DejaVu Sans Mono',consolas,'Courier New',monospace\"><span style=\"color: #7fbfbf; text-decoration-color: #7fbfbf\">[12:24:54 PM] </span><span style=\"color: #000080; text-decoration-color: #000080\">INFO    </span> Finished tile extraction for <span style=\"color: #008000; text-decoration-color: #008000\">19B3612-V</span> (58913 tiles of 59057 possible)                      \n",
       "</pre>\n"
      ],
      "text/plain": [
       "\u001b[2;36m[12:24:54 PM]\u001b[0m\u001b[2;36m \u001b[0m\u001b[34mINFO    \u001b[0m Finished tile extraction for \u001b[32m19B3612-V\u001b[0m (58913 tiles of 59057 possible)                      \n"
      ]
     },
     "metadata": {},
     "output_type": "display_data"
    },
    {
     "data": {
      "text/html": [
       "<pre style=\"white-space:pre;overflow-x:auto;line-height:normal;font-family:Menlo,'DejaVu Sans Mono',consolas,'Courier New',monospace\"><span style=\"color: #7fbfbf; text-decoration-color: #7fbfbf\">              </span><span style=\"color: #000080; text-decoration-color: #000080\">INFO    </span> No ROI for 16B1229-V, using whole slide.                                                    \n",
       "</pre>\n"
      ],
      "text/plain": [
       "\u001b[2;36m             \u001b[0m\u001b[2;36m \u001b[0m\u001b[34mINFO    \u001b[0m No ROI for 16B1229-V, using whole slide.                                                    \n"
      ]
     },
     "metadata": {},
     "output_type": "display_data"
    },
    {
     "data": {
      "text/html": [
       "<pre style=\"white-space:pre;overflow-x:auto;line-height:normal;font-family:Menlo,'DejaVu Sans Mono',consolas,'Courier New',monospace\">/home/user/stage-lucas/lib/python3.10/site-packages/numpy/core/fromnumeric.py:3464: RuntimeWarning: Mean of empty \n",
       "slice.\n",
       "  return _methods._mean(a, axis=axis, dtype=dtype,\n",
       "</pre>\n"
      ],
      "text/plain": [
       "/home/user/stage-lucas/lib/python3.10/site-packages/numpy/core/fromnumeric.py:3464: RuntimeWarning: Mean of empty \n",
       "slice.\n",
       "  return _methods._mean(a, axis=axis, dtype=dtype,\n"
      ]
     },
     "metadata": {},
     "output_type": "display_data"
    },
    {
     "data": {
      "text/html": [
       "<pre style=\"white-space:pre;overflow-x:auto;line-height:normal;font-family:Menlo,'DejaVu Sans Mono',consolas,'Courier New',monospace\">/home/user/stage-lucas/lib/python3.10/site-packages/numpy/core/_methods.py:192: RuntimeWarning: invalid value \n",
       "encountered in scalar divide\n",
       "  ret = ret.dtype.type(ret / rcount)\n",
       "</pre>\n"
      ],
      "text/plain": [
       "/home/user/stage-lucas/lib/python3.10/site-packages/numpy/core/_methods.py:192: RuntimeWarning: invalid value \n",
       "encountered in scalar divide\n",
       "  ret = ret.dtype.type(ret / rcount)\n"
      ]
     },
     "metadata": {},
     "output_type": "display_data"
    },
    {
     "data": {
      "text/html": [
       "<pre style=\"white-space:pre;overflow-x:auto;line-height:normal;font-family:Menlo,'DejaVu Sans Mono',consolas,'Courier New',monospace\"><span style=\"color: #7fbfbf; text-decoration-color: #7fbfbf\">[12:27:47 PM] </span><span style=\"color: #000080; text-decoration-color: #000080\">INFO    </span> Finished tile extraction for <span style=\"color: #008000; text-decoration-color: #008000\">16B1229-V</span> (33703 tiles of 102144 possible)                     \n",
       "</pre>\n"
      ],
      "text/plain": [
       "\u001b[2;36m[12:27:47 PM]\u001b[0m\u001b[2;36m \u001b[0m\u001b[34mINFO    \u001b[0m Finished tile extraction for \u001b[32m16B1229-V\u001b[0m (33703 tiles of 102144 possible)                     \n"
      ]
     },
     "metadata": {},
     "output_type": "display_data"
    },
    {
     "data": {
      "text/html": [
       "<pre style=\"white-space:pre;overflow-x:auto;line-height:normal;font-family:Menlo,'DejaVu Sans Mono',consolas,'Courier New',monospace\"><span style=\"color: #7fbfbf; text-decoration-color: #7fbfbf\">[12:27:48 PM] </span><span style=\"color: #000080; text-decoration-color: #000080\">INFO    </span> No ROI for 20B1068-V, using whole slide.                                                    \n",
       "</pre>\n"
      ],
      "text/plain": [
       "\u001b[2;36m[12:27:48 PM]\u001b[0m\u001b[2;36m \u001b[0m\u001b[34mINFO    \u001b[0m No ROI for 20B1068-V, using whole slide.                                                    \n"
      ]
     },
     "metadata": {},
     "output_type": "display_data"
    },
    {
     "data": {
      "text/html": [
       "<pre style=\"white-space:pre;overflow-x:auto;line-height:normal;font-family:Menlo,'DejaVu Sans Mono',consolas,'Courier New',monospace\">/home/user/stage-lucas/lib/python3.10/site-packages/numpy/core/fromnumeric.py:3464: RuntimeWarning: Mean of empty \n",
       "slice.\n",
       "  return _methods._mean(a, axis=axis, dtype=dtype,\n",
       "</pre>\n"
      ],
      "text/plain": [
       "/home/user/stage-lucas/lib/python3.10/site-packages/numpy/core/fromnumeric.py:3464: RuntimeWarning: Mean of empty \n",
       "slice.\n",
       "  return _methods._mean(a, axis=axis, dtype=dtype,\n"
      ]
     },
     "metadata": {},
     "output_type": "display_data"
    },
    {
     "data": {
      "text/html": [
       "<pre style=\"white-space:pre;overflow-x:auto;line-height:normal;font-family:Menlo,'DejaVu Sans Mono',consolas,'Courier New',monospace\">/home/user/stage-lucas/lib/python3.10/site-packages/numpy/core/_methods.py:192: RuntimeWarning: invalid value \n",
       "encountered in scalar divide\n",
       "  ret = ret.dtype.type(ret / rcount)\n",
       "</pre>\n"
      ],
      "text/plain": [
       "/home/user/stage-lucas/lib/python3.10/site-packages/numpy/core/_methods.py:192: RuntimeWarning: invalid value \n",
       "encountered in scalar divide\n",
       "  ret = ret.dtype.type(ret / rcount)\n"
      ]
     },
     "metadata": {},
     "output_type": "display_data"
    },
    {
     "data": {
      "text/html": [
       "<pre style=\"white-space:pre;overflow-x:auto;line-height:normal;font-family:Menlo,'DejaVu Sans Mono',consolas,'Courier New',monospace\"><span style=\"color: #7fbfbf; text-decoration-color: #7fbfbf\">[12:30:12 PM] </span><span style=\"color: #000080; text-decoration-color: #000080\">INFO    </span> Finished tile extraction for <span style=\"color: #008000; text-decoration-color: #008000\">20B1068-V</span> (24823 tiles of 88320 possible)                      \n",
       "</pre>\n"
      ],
      "text/plain": [
       "\u001b[2;36m[12:30:12 PM]\u001b[0m\u001b[2;36m \u001b[0m\u001b[34mINFO    \u001b[0m Finished tile extraction for \u001b[32m20B1068-V\u001b[0m (24823 tiles of 88320 possible)                      \n"
      ]
     },
     "metadata": {},
     "output_type": "display_data"
    },
    {
     "data": {
      "text/html": [
       "<pre style=\"white-space:pre;overflow-x:auto;line-height:normal;font-family:Menlo,'DejaVu Sans Mono',consolas,'Courier New',monospace\"><span style=\"color: #7fbfbf; text-decoration-color: #7fbfbf\">              </span><span style=\"color: #000080; text-decoration-color: #000080\">INFO    </span> No ROI for 19B0996-V, using whole slide.                                                    \n",
       "</pre>\n"
      ],
      "text/plain": [
       "\u001b[2;36m             \u001b[0m\u001b[2;36m \u001b[0m\u001b[34mINFO    \u001b[0m No ROI for 19B0996-V, using whole slide.                                                    \n"
      ]
     },
     "metadata": {},
     "output_type": "display_data"
    },
    {
     "data": {
      "text/html": [
       "<pre style=\"white-space:pre;overflow-x:auto;line-height:normal;font-family:Menlo,'DejaVu Sans Mono',consolas,'Courier New',monospace\">/home/user/stage-lucas/lib/python3.10/site-packages/numpy/core/fromnumeric.py:3464: RuntimeWarning: Mean of empty \n",
       "slice.\n",
       "  return _methods._mean(a, axis=axis, dtype=dtype,\n",
       "</pre>\n"
      ],
      "text/plain": [
       "/home/user/stage-lucas/lib/python3.10/site-packages/numpy/core/fromnumeric.py:3464: RuntimeWarning: Mean of empty \n",
       "slice.\n",
       "  return _methods._mean(a, axis=axis, dtype=dtype,\n"
      ]
     },
     "metadata": {},
     "output_type": "display_data"
    },
    {
     "data": {
      "text/html": [
       "<pre style=\"white-space:pre;overflow-x:auto;line-height:normal;font-family:Menlo,'DejaVu Sans Mono',consolas,'Courier New',monospace\">/home/user/stage-lucas/lib/python3.10/site-packages/numpy/core/_methods.py:192: RuntimeWarning: invalid value \n",
       "encountered in scalar divide\n",
       "  ret = ret.dtype.type(ret / rcount)\n",
       "</pre>\n"
      ],
      "text/plain": [
       "/home/user/stage-lucas/lib/python3.10/site-packages/numpy/core/_methods.py:192: RuntimeWarning: invalid value \n",
       "encountered in scalar divide\n",
       "  ret = ret.dtype.type(ret / rcount)\n"
      ]
     },
     "metadata": {},
     "output_type": "display_data"
    },
    {
     "data": {
      "text/html": [
       "<pre style=\"white-space:pre;overflow-x:auto;line-height:normal;font-family:Menlo,'DejaVu Sans Mono',consolas,'Courier New',monospace\"><span style=\"color: #7fbfbf; text-decoration-color: #7fbfbf\">[12:44:30 PM] </span><span style=\"color: #000080; text-decoration-color: #000080\">INFO    </span> Finished tile extraction for <span style=\"color: #008000; text-decoration-color: #008000\">19B0996-V</span> (85292 tiles of 270336 possible)                     \n",
       "</pre>\n"
      ],
      "text/plain": [
       "\u001b[2;36m[12:44:30 PM]\u001b[0m\u001b[2;36m \u001b[0m\u001b[34mINFO    \u001b[0m Finished tile extraction for \u001b[32m19B0996-V\u001b[0m (85292 tiles of 270336 possible)                     \n"
      ]
     },
     "metadata": {},
     "output_type": "display_data"
    },
    {
     "data": {
      "text/html": [
       "<pre style=\"white-space:pre;overflow-x:auto;line-height:normal;font-family:Menlo,'DejaVu Sans Mono',consolas,'Courier New',monospace\"><span style=\"color: #7fbfbf; text-decoration-color: #7fbfbf\">              </span><span style=\"color: #000080; text-decoration-color: #000080\">INFO    </span> No ROI for 16B1199-V, using whole slide.                                                    \n",
       "</pre>\n"
      ],
      "text/plain": [
       "\u001b[2;36m             \u001b[0m\u001b[2;36m \u001b[0m\u001b[34mINFO    \u001b[0m No ROI for 16B1199-V, using whole slide.                                                    \n"
      ]
     },
     "metadata": {},
     "output_type": "display_data"
    },
    {
     "data": {
      "text/html": [
       "<pre style=\"white-space:pre;overflow-x:auto;line-height:normal;font-family:Menlo,'DejaVu Sans Mono',consolas,'Courier New',monospace\"><span style=\"color: #7fbfbf; text-decoration-color: #7fbfbf\">[12:46:29 PM] </span><span style=\"color: #000080; text-decoration-color: #000080\">INFO    </span> Finished tile extraction for <span style=\"color: #008000; text-decoration-color: #008000\">16B1199-V</span> (22221 tiles of 22325 possible)                      \n",
       "</pre>\n"
      ],
      "text/plain": [
       "\u001b[2;36m[12:46:29 PM]\u001b[0m\u001b[2;36m \u001b[0m\u001b[34mINFO    \u001b[0m Finished tile extraction for \u001b[32m16B1199-V\u001b[0m (22221 tiles of 22325 possible)                      \n"
      ]
     },
     "metadata": {},
     "output_type": "display_data"
    },
    {
     "data": {
      "text/html": [
       "<pre style=\"white-space:pre;overflow-x:auto;line-height:normal;font-family:Menlo,'DejaVu Sans Mono',consolas,'Courier New',monospace\"><span style=\"color: #7fbfbf; text-decoration-color: #7fbfbf\">[12:46:30 PM] </span><span style=\"color: #000080; text-decoration-color: #000080\">INFO    </span> No ROI for 17B3010-V, using whole slide.                                                    \n",
       "</pre>\n"
      ],
      "text/plain": [
       "\u001b[2;36m[12:46:30 PM]\u001b[0m\u001b[2;36m \u001b[0m\u001b[34mINFO    \u001b[0m No ROI for 17B3010-V, using whole slide.                                                    \n"
      ]
     },
     "metadata": {},
     "output_type": "display_data"
    },
    {
     "data": {
      "text/html": [
       "<pre style=\"white-space:pre;overflow-x:auto;line-height:normal;font-family:Menlo,'DejaVu Sans Mono',consolas,'Courier New',monospace\"><span style=\"color: #7fbfbf; text-decoration-color: #7fbfbf\">[12:48:40 PM] </span><span style=\"color: #000080; text-decoration-color: #000080\">INFO    </span> Finished tile extraction for <span style=\"color: #008000; text-decoration-color: #008000\">17B3010-V</span> (22313 tiles of 22604 possible)                      \n",
       "</pre>\n"
      ],
      "text/plain": [
       "\u001b[2;36m[12:48:40 PM]\u001b[0m\u001b[2;36m \u001b[0m\u001b[34mINFO    \u001b[0m Finished tile extraction for \u001b[32m17B3010-V\u001b[0m (22313 tiles of 22604 possible)                      \n"
      ]
     },
     "metadata": {},
     "output_type": "display_data"
    },
    {
     "data": {
      "text/html": [
       "<pre style=\"white-space:pre;overflow-x:auto;line-height:normal;font-family:Menlo,'DejaVu Sans Mono',consolas,'Courier New',monospace\"><span style=\"color: #7fbfbf; text-decoration-color: #7fbfbf\">              </span><span style=\"color: #000080; text-decoration-color: #000080\">INFO    </span> No ROI for 19B1102-V, using whole slide.                                                    \n",
       "</pre>\n"
      ],
      "text/plain": [
       "\u001b[2;36m             \u001b[0m\u001b[2;36m \u001b[0m\u001b[34mINFO    \u001b[0m No ROI for 19B1102-V, using whole slide.                                                    \n"
      ]
     },
     "metadata": {},
     "output_type": "display_data"
    },
    {
     "data": {
      "text/html": [
       "<pre style=\"white-space:pre;overflow-x:auto;line-height:normal;font-family:Menlo,'DejaVu Sans Mono',consolas,'Courier New',monospace\"><span style=\"color: #7fbfbf; text-decoration-color: #7fbfbf\">[12:50:59 PM] </span><span style=\"color: #000080; text-decoration-color: #000080\">INFO    </span> Finished tile extraction for <span style=\"color: #008000; text-decoration-color: #008000\">19B1102-V</span> (21329 tiles of 21362 possible)                      \n",
       "</pre>\n"
      ],
      "text/plain": [
       "\u001b[2;36m[12:50:59 PM]\u001b[0m\u001b[2;36m \u001b[0m\u001b[34mINFO    \u001b[0m Finished tile extraction for \u001b[32m19B1102-V\u001b[0m (21329 tiles of 21362 possible)                      \n"
      ]
     },
     "metadata": {},
     "output_type": "display_data"
    },
    {
     "data": {
      "text/html": [
       "<pre style=\"white-space:pre;overflow-x:auto;line-height:normal;font-family:Menlo,'DejaVu Sans Mono',consolas,'Courier New',monospace\"><span style=\"color: #7fbfbf; text-decoration-color: #7fbfbf\">              </span><span style=\"color: #000080; text-decoration-color: #000080\">INFO    </span> No ROI for 19B3424-V, using whole slide.                                                    \n",
       "</pre>\n"
      ],
      "text/plain": [
       "\u001b[2;36m             \u001b[0m\u001b[2;36m \u001b[0m\u001b[34mINFO    \u001b[0m No ROI for 19B3424-V, using whole slide.                                                    \n"
      ]
     },
     "metadata": {},
     "output_type": "display_data"
    },
    {
     "data": {
      "text/html": [
       "<pre style=\"white-space:pre;overflow-x:auto;line-height:normal;font-family:Menlo,'DejaVu Sans Mono',consolas,'Courier New',monospace\">/home/user/stage-lucas/lib/python3.10/site-packages/numpy/core/fromnumeric.py:3464: RuntimeWarning: Mean of empty \n",
       "slice.\n",
       "  return _methods._mean(a, axis=axis, dtype=dtype,\n",
       "</pre>\n"
      ],
      "text/plain": [
       "/home/user/stage-lucas/lib/python3.10/site-packages/numpy/core/fromnumeric.py:3464: RuntimeWarning: Mean of empty \n",
       "slice.\n",
       "  return _methods._mean(a, axis=axis, dtype=dtype,\n"
      ]
     },
     "metadata": {},
     "output_type": "display_data"
    },
    {
     "data": {
      "text/html": [
       "<pre style=\"white-space:pre;overflow-x:auto;line-height:normal;font-family:Menlo,'DejaVu Sans Mono',consolas,'Courier New',monospace\">/home/user/stage-lucas/lib/python3.10/site-packages/numpy/core/_methods.py:192: RuntimeWarning: invalid value \n",
       "encountered in scalar divide\n",
       "  ret = ret.dtype.type(ret / rcount)\n",
       "</pre>\n"
      ],
      "text/plain": [
       "/home/user/stage-lucas/lib/python3.10/site-packages/numpy/core/_methods.py:192: RuntimeWarning: invalid value \n",
       "encountered in scalar divide\n",
       "  ret = ret.dtype.type(ret / rcount)\n"
      ]
     },
     "metadata": {},
     "output_type": "display_data"
    },
    {
     "data": {
      "text/html": [
       "<pre style=\"white-space:pre;overflow-x:auto;line-height:normal;font-family:Menlo,'DejaVu Sans Mono',consolas,'Courier New',monospace\"><span style=\"color: #7fbfbf; text-decoration-color: #7fbfbf\">[01:01:25 PM] </span><span style=\"color: #000080; text-decoration-color: #000080\">INFO    </span> Finished tile extraction for <span style=\"color: #008000; text-decoration-color: #008000\">19B3424-V</span> (107024 tiles of 207360 possible)                    \n",
       "</pre>\n"
      ],
      "text/plain": [
       "\u001b[2;36m[01:01:25 PM]\u001b[0m\u001b[2;36m \u001b[0m\u001b[34mINFO    \u001b[0m Finished tile extraction for \u001b[32m19B3424-V\u001b[0m (107024 tiles of 207360 possible)                    \n"
      ]
     },
     "metadata": {},
     "output_type": "display_data"
    },
    {
     "data": {
      "text/html": [
       "<pre style=\"white-space:pre;overflow-x:auto;line-height:normal;font-family:Menlo,'DejaVu Sans Mono',consolas,'Courier New',monospace\"><span style=\"color: #7fbfbf; text-decoration-color: #7fbfbf\">              </span><span style=\"color: #000080; text-decoration-color: #000080\">INFO    </span> No ROI for 18B3183-V, using whole slide.                                                    \n",
       "</pre>\n"
      ],
      "text/plain": [
       "\u001b[2;36m             \u001b[0m\u001b[2;36m \u001b[0m\u001b[34mINFO    \u001b[0m No ROI for 18B3183-V, using whole slide.                                                    \n"
      ]
     },
     "metadata": {},
     "output_type": "display_data"
    },
    {
     "data": {
      "text/html": [
       "<pre style=\"white-space:pre;overflow-x:auto;line-height:normal;font-family:Menlo,'DejaVu Sans Mono',consolas,'Courier New',monospace\">/home/user/stage-lucas/lib/python3.10/site-packages/numpy/core/fromnumeric.py:3464: RuntimeWarning: Mean of empty \n",
       "slice.\n",
       "  return _methods._mean(a, axis=axis, dtype=dtype,\n",
       "</pre>\n"
      ],
      "text/plain": [
       "/home/user/stage-lucas/lib/python3.10/site-packages/numpy/core/fromnumeric.py:3464: RuntimeWarning: Mean of empty \n",
       "slice.\n",
       "  return _methods._mean(a, axis=axis, dtype=dtype,\n"
      ]
     },
     "metadata": {},
     "output_type": "display_data"
    },
    {
     "data": {
      "text/html": [
       "<pre style=\"white-space:pre;overflow-x:auto;line-height:normal;font-family:Menlo,'DejaVu Sans Mono',consolas,'Courier New',monospace\">/home/user/stage-lucas/lib/python3.10/site-packages/numpy/core/_methods.py:192: RuntimeWarning: invalid value \n",
       "encountered in scalar divide\n",
       "  ret = ret.dtype.type(ret / rcount)\n",
       "</pre>\n"
      ],
      "text/plain": [
       "/home/user/stage-lucas/lib/python3.10/site-packages/numpy/core/_methods.py:192: RuntimeWarning: invalid value \n",
       "encountered in scalar divide\n",
       "  ret = ret.dtype.type(ret / rcount)\n"
      ]
     },
     "metadata": {},
     "output_type": "display_data"
    },
    {
     "data": {
      "text/html": [
       "<pre style=\"white-space:pre;overflow-x:auto;line-height:normal;font-family:Menlo,'DejaVu Sans Mono',consolas,'Courier New',monospace\"><span style=\"color: #7fbfbf; text-decoration-color: #7fbfbf\">[01:04:18 PM] </span><span style=\"color: #000080; text-decoration-color: #000080\">INFO    </span> Finished tile extraction for <span style=\"color: #008000; text-decoration-color: #008000\">18B3183-V</span> (20765 tiles of 115200 possible)                     \n",
       "</pre>\n"
      ],
      "text/plain": [
       "\u001b[2;36m[01:04:18 PM]\u001b[0m\u001b[2;36m \u001b[0m\u001b[34mINFO    \u001b[0m Finished tile extraction for \u001b[32m18B3183-V\u001b[0m (20765 tiles of 115200 possible)                     \n"
      ]
     },
     "metadata": {},
     "output_type": "display_data"
    },
    {
     "data": {
      "text/html": [
       "<pre style=\"white-space:pre;overflow-x:auto;line-height:normal;font-family:Menlo,'DejaVu Sans Mono',consolas,'Courier New',monospace\"><span style=\"color: #7fbfbf; text-decoration-color: #7fbfbf\">              </span><span style=\"color: #000080; text-decoration-color: #000080\">INFO    </span> No ROI for 16B1100-V, using whole slide.                                                    \n",
       "</pre>\n"
      ],
      "text/plain": [
       "\u001b[2;36m             \u001b[0m\u001b[2;36m \u001b[0m\u001b[34mINFO    \u001b[0m No ROI for 16B1100-V, using whole slide.                                                    \n"
      ]
     },
     "metadata": {},
     "output_type": "display_data"
    },
    {
     "data": {
      "text/html": [
       "<pre style=\"white-space:pre;overflow-x:auto;line-height:normal;font-family:Menlo,'DejaVu Sans Mono',consolas,'Courier New',monospace\">/home/user/stage-lucas/lib/python3.10/site-packages/numpy/core/fromnumeric.py:3464: RuntimeWarning: Mean of empty \n",
       "slice.\n",
       "  return _methods._mean(a, axis=axis, dtype=dtype,\n",
       "</pre>\n"
      ],
      "text/plain": [
       "/home/user/stage-lucas/lib/python3.10/site-packages/numpy/core/fromnumeric.py:3464: RuntimeWarning: Mean of empty \n",
       "slice.\n",
       "  return _methods._mean(a, axis=axis, dtype=dtype,\n"
      ]
     },
     "metadata": {},
     "output_type": "display_data"
    },
    {
     "data": {
      "text/html": [
       "<pre style=\"white-space:pre;overflow-x:auto;line-height:normal;font-family:Menlo,'DejaVu Sans Mono',consolas,'Courier New',monospace\">/home/user/stage-lucas/lib/python3.10/site-packages/numpy/core/_methods.py:192: RuntimeWarning: invalid value \n",
       "encountered in scalar divide\n",
       "  ret = ret.dtype.type(ret / rcount)\n",
       "</pre>\n"
      ],
      "text/plain": [
       "/home/user/stage-lucas/lib/python3.10/site-packages/numpy/core/_methods.py:192: RuntimeWarning: invalid value \n",
       "encountered in scalar divide\n",
       "  ret = ret.dtype.type(ret / rcount)\n"
      ]
     },
     "metadata": {},
     "output_type": "display_data"
    },
    {
     "data": {
      "text/html": [
       "<pre style=\"white-space:pre;overflow-x:auto;line-height:normal;font-family:Menlo,'DejaVu Sans Mono',consolas,'Courier New',monospace\"><span style=\"color: #7fbfbf; text-decoration-color: #7fbfbf\">[01:15:42 PM] </span><span style=\"color: #000080; text-decoration-color: #000080\">INFO    </span> Finished tile extraction for <span style=\"color: #008000; text-decoration-color: #008000\">16B1100-V</span> (88203 tiles of 228096 possible)                     \n",
       "</pre>\n"
      ],
      "text/plain": [
       "\u001b[2;36m[01:15:42 PM]\u001b[0m\u001b[2;36m \u001b[0m\u001b[34mINFO    \u001b[0m Finished tile extraction for \u001b[32m16B1100-V\u001b[0m (88203 tiles of 228096 possible)                     \n"
      ]
     },
     "metadata": {},
     "output_type": "display_data"
    },
    {
     "data": {
      "text/html": [
       "<pre style=\"white-space:pre;overflow-x:auto;line-height:normal;font-family:Menlo,'DejaVu Sans Mono',consolas,'Courier New',monospace\"><span style=\"color: #7fbfbf; text-decoration-color: #7fbfbf\">              </span><span style=\"color: #000080; text-decoration-color: #000080\">INFO    </span> No ROI for 20B1090-V, using whole slide.                                                    \n",
       "</pre>\n"
      ],
      "text/plain": [
       "\u001b[2;36m             \u001b[0m\u001b[2;36m \u001b[0m\u001b[34mINFO    \u001b[0m No ROI for 20B1090-V, using whole slide.                                                    \n"
      ]
     },
     "metadata": {},
     "output_type": "display_data"
    },
    {
     "data": {
      "text/html": [
       "<pre style=\"white-space:pre;overflow-x:auto;line-height:normal;font-family:Menlo,'DejaVu Sans Mono',consolas,'Courier New',monospace\">/home/user/stage-lucas/lib/python3.10/site-packages/numpy/core/fromnumeric.py:3464: RuntimeWarning: Mean of empty \n",
       "slice.\n",
       "  return _methods._mean(a, axis=axis, dtype=dtype,\n",
       "</pre>\n"
      ],
      "text/plain": [
       "/home/user/stage-lucas/lib/python3.10/site-packages/numpy/core/fromnumeric.py:3464: RuntimeWarning: Mean of empty \n",
       "slice.\n",
       "  return _methods._mean(a, axis=axis, dtype=dtype,\n"
      ]
     },
     "metadata": {},
     "output_type": "display_data"
    },
    {
     "data": {
      "text/html": [
       "<pre style=\"white-space:pre;overflow-x:auto;line-height:normal;font-family:Menlo,'DejaVu Sans Mono',consolas,'Courier New',monospace\">/home/user/stage-lucas/lib/python3.10/site-packages/numpy/core/_methods.py:192: RuntimeWarning: invalid value \n",
       "encountered in scalar divide\n",
       "  ret = ret.dtype.type(ret / rcount)\n",
       "</pre>\n"
      ],
      "text/plain": [
       "/home/user/stage-lucas/lib/python3.10/site-packages/numpy/core/_methods.py:192: RuntimeWarning: invalid value \n",
       "encountered in scalar divide\n",
       "  ret = ret.dtype.type(ret / rcount)\n"
      ]
     },
     "metadata": {},
     "output_type": "display_data"
    },
    {
     "data": {
      "text/html": [
       "<pre style=\"white-space:pre;overflow-x:auto;line-height:normal;font-family:Menlo,'DejaVu Sans Mono',consolas,'Courier New',monospace\"><span style=\"color: #7fbfbf; text-decoration-color: #7fbfbf\">[01:18:17 PM] </span><span style=\"color: #000080; text-decoration-color: #000080\">INFO    </span> Finished tile extraction for <span style=\"color: #008000; text-decoration-color: #008000\">20B1090-V</span> (32334 tiles of 82944 possible)                      \n",
       "</pre>\n"
      ],
      "text/plain": [
       "\u001b[2;36m[01:18:17 PM]\u001b[0m\u001b[2;36m \u001b[0m\u001b[34mINFO    \u001b[0m Finished tile extraction for \u001b[32m20B1090-V\u001b[0m (32334 tiles of 82944 possible)                      \n"
      ]
     },
     "metadata": {},
     "output_type": "display_data"
    },
    {
     "data": {
      "text/html": [
       "<pre style=\"white-space:pre;overflow-x:auto;line-height:normal;font-family:Menlo,'DejaVu Sans Mono',consolas,'Courier New',monospace\"><span style=\"color: #7fbfbf; text-decoration-color: #7fbfbf\">              </span><span style=\"color: #000080; text-decoration-color: #000080\">INFO    </span> No ROI for 19B1241-V, using whole slide.                                                    \n",
       "</pre>\n"
      ],
      "text/plain": [
       "\u001b[2;36m             \u001b[0m\u001b[2;36m \u001b[0m\u001b[34mINFO    \u001b[0m No ROI for 19B1241-V, using whole slide.                                                    \n"
      ]
     },
     "metadata": {},
     "output_type": "display_data"
    },
    {
     "data": {
      "text/html": [
       "<pre style=\"white-space:pre;overflow-x:auto;line-height:normal;font-family:Menlo,'DejaVu Sans Mono',consolas,'Courier New',monospace\">/home/user/stage-lucas/lib/python3.10/site-packages/numpy/core/fromnumeric.py:3464: RuntimeWarning: Mean of empty \n",
       "slice.\n",
       "  return _methods._mean(a, axis=axis, dtype=dtype,\n",
       "</pre>\n"
      ],
      "text/plain": [
       "/home/user/stage-lucas/lib/python3.10/site-packages/numpy/core/fromnumeric.py:3464: RuntimeWarning: Mean of empty \n",
       "slice.\n",
       "  return _methods._mean(a, axis=axis, dtype=dtype,\n"
      ]
     },
     "metadata": {},
     "output_type": "display_data"
    },
    {
     "data": {
      "text/html": [
       "<pre style=\"white-space:pre;overflow-x:auto;line-height:normal;font-family:Menlo,'DejaVu Sans Mono',consolas,'Courier New',monospace\">/home/user/stage-lucas/lib/python3.10/site-packages/numpy/core/_methods.py:192: RuntimeWarning: invalid value \n",
       "encountered in scalar divide\n",
       "  ret = ret.dtype.type(ret / rcount)\n",
       "</pre>\n"
      ],
      "text/plain": [
       "/home/user/stage-lucas/lib/python3.10/site-packages/numpy/core/_methods.py:192: RuntimeWarning: invalid value \n",
       "encountered in scalar divide\n",
       "  ret = ret.dtype.type(ret / rcount)\n"
      ]
     },
     "metadata": {},
     "output_type": "display_data"
    },
    {
     "data": {
      "text/html": [
       "<pre style=\"white-space:pre;overflow-x:auto;line-height:normal;font-family:Menlo,'DejaVu Sans Mono',consolas,'Courier New',monospace\"><span style=\"color: #7fbfbf; text-decoration-color: #7fbfbf\">[01:24:05 PM] </span><span style=\"color: #000080; text-decoration-color: #000080\">INFO    </span> Finished tile extraction for <span style=\"color: #008000; text-decoration-color: #008000\">19B1241-V</span> (72531 tiles of 138240 possible)                     \n",
       "</pre>\n"
      ],
      "text/plain": [
       "\u001b[2;36m[01:24:05 PM]\u001b[0m\u001b[2;36m \u001b[0m\u001b[34mINFO    \u001b[0m Finished tile extraction for \u001b[32m19B1241-V\u001b[0m (72531 tiles of 138240 possible)                     \n"
      ]
     },
     "metadata": {},
     "output_type": "display_data"
    },
    {
     "data": {
      "text/html": [
       "<pre style=\"white-space:pre;overflow-x:auto;line-height:normal;font-family:Menlo,'DejaVu Sans Mono',consolas,'Courier New',monospace\"><span style=\"color: #7fbfbf; text-decoration-color: #7fbfbf\">              </span><span style=\"color: #000080; text-decoration-color: #000080\">INFO    </span> No ROI for 16B0440-V, using whole slide.                                                    \n",
       "</pre>\n"
      ],
      "text/plain": [
       "\u001b[2;36m             \u001b[0m\u001b[2;36m \u001b[0m\u001b[34mINFO    \u001b[0m No ROI for 16B0440-V, using whole slide.                                                    \n"
      ]
     },
     "metadata": {},
     "output_type": "display_data"
    },
    {
     "data": {
      "text/html": [
       "<pre style=\"white-space:pre;overflow-x:auto;line-height:normal;font-family:Menlo,'DejaVu Sans Mono',consolas,'Courier New',monospace\"><span style=\"color: #7fbfbf; text-decoration-color: #7fbfbf\">[01:28:15 PM] </span><span style=\"color: #000080; text-decoration-color: #000080\">INFO    </span> Finished tile extraction for <span style=\"color: #008000; text-decoration-color: #008000\">16B0440-V</span> (43258 tiles of 43702 possible)                      \n",
       "</pre>\n"
      ],
      "text/plain": [
       "\u001b[2;36m[01:28:15 PM]\u001b[0m\u001b[2;36m \u001b[0m\u001b[34mINFO    \u001b[0m Finished tile extraction for \u001b[32m16B0440-V\u001b[0m (43258 tiles of 43702 possible)                      \n"
      ]
     },
     "metadata": {},
     "output_type": "display_data"
    },
    {
     "data": {
      "text/html": [
       "<pre style=\"white-space:pre;overflow-x:auto;line-height:normal;font-family:Menlo,'DejaVu Sans Mono',consolas,'Courier New',monospace\"><span style=\"color: #7fbfbf; text-decoration-color: #7fbfbf\">[01:28:16 PM] </span><span style=\"color: #000080; text-decoration-color: #000080\">INFO    </span> No ROI for 16B0311-V, using whole slide.                                                    \n",
       "</pre>\n"
      ],
      "text/plain": [
       "\u001b[2;36m[01:28:16 PM]\u001b[0m\u001b[2;36m \u001b[0m\u001b[34mINFO    \u001b[0m No ROI for 16B0311-V, using whole slide.                                                    \n"
      ]
     },
     "metadata": {},
     "output_type": "display_data"
    },
    {
     "data": {
      "text/html": [
       "<pre style=\"white-space:pre;overflow-x:auto;line-height:normal;font-family:Menlo,'DejaVu Sans Mono',consolas,'Courier New',monospace\"><span style=\"color: #7fbfbf; text-decoration-color: #7fbfbf\">[01:32:19 PM] </span><span style=\"color: #000080; text-decoration-color: #000080\">INFO    </span> Finished tile extraction for <span style=\"color: #008000; text-decoration-color: #008000\">16B0311-V</span> (56497 tiles of 56917 possible)                      \n",
       "</pre>\n"
      ],
      "text/plain": [
       "\u001b[2;36m[01:32:19 PM]\u001b[0m\u001b[2;36m \u001b[0m\u001b[34mINFO    \u001b[0m Finished tile extraction for \u001b[32m16B0311-V\u001b[0m (56497 tiles of 56917 possible)                      \n"
      ]
     },
     "metadata": {},
     "output_type": "display_data"
    },
    {
     "data": {
      "text/html": [
       "<pre style=\"white-space:pre;overflow-x:auto;line-height:normal;font-family:Menlo,'DejaVu Sans Mono',consolas,'Courier New',monospace\"><span style=\"color: #7fbfbf; text-decoration-color: #7fbfbf\">              </span><span style=\"color: #000080; text-decoration-color: #000080\">INFO    </span> No ROI for 19B2381-V, using whole slide.                                                    \n",
       "</pre>\n"
      ],
      "text/plain": [
       "\u001b[2;36m             \u001b[0m\u001b[2;36m \u001b[0m\u001b[34mINFO    \u001b[0m No ROI for 19B2381-V, using whole slide.                                                    \n"
      ]
     },
     "metadata": {},
     "output_type": "display_data"
    },
    {
     "data": {
      "text/html": [
       "<pre style=\"white-space:pre;overflow-x:auto;line-height:normal;font-family:Menlo,'DejaVu Sans Mono',consolas,'Courier New',monospace\"><span style=\"color: #7fbfbf; text-decoration-color: #7fbfbf\">[01:33:07 PM] </span><span style=\"color: #000080; text-decoration-color: #000080\">INFO    </span> Finished tile extraction for <span style=\"color: #008000; text-decoration-color: #008000\">19B2381-V</span> (9808 tiles of 10022 possible)                       \n",
       "</pre>\n"
      ],
      "text/plain": [
       "\u001b[2;36m[01:33:07 PM]\u001b[0m\u001b[2;36m \u001b[0m\u001b[34mINFO    \u001b[0m Finished tile extraction for \u001b[32m19B2381-V\u001b[0m (9808 tiles of 10022 possible)                       \n"
      ]
     },
     "metadata": {},
     "output_type": "display_data"
    },
    {
     "data": {
      "text/html": [
       "<pre style=\"white-space:pre;overflow-x:auto;line-height:normal;font-family:Menlo,'DejaVu Sans Mono',consolas,'Courier New',monospace\"><span style=\"color: #7fbfbf; text-decoration-color: #7fbfbf\">              </span><span style=\"color: #000080; text-decoration-color: #000080\">INFO    </span> No ROI for 17B3436-V, using whole slide.                                                    \n",
       "</pre>\n"
      ],
      "text/plain": [
       "\u001b[2;36m             \u001b[0m\u001b[2;36m \u001b[0m\u001b[34mINFO    \u001b[0m No ROI for 17B3436-V, using whole slide.                                                    \n"
      ]
     },
     "metadata": {},
     "output_type": "display_data"
    },
    {
     "data": {
      "text/html": [
       "<pre style=\"white-space:pre;overflow-x:auto;line-height:normal;font-family:Menlo,'DejaVu Sans Mono',consolas,'Courier New',monospace\"><span style=\"color: #7fbfbf; text-decoration-color: #7fbfbf\">[01:36:08 PM] </span><span style=\"color: #000080; text-decoration-color: #000080\">INFO    </span> Finished tile extraction for <span style=\"color: #008000; text-decoration-color: #008000\">17B3436-V</span> (46663 tiles of 47113 possible)                      \n",
       "</pre>\n"
      ],
      "text/plain": [
       "\u001b[2;36m[01:36:08 PM]\u001b[0m\u001b[2;36m \u001b[0m\u001b[34mINFO    \u001b[0m Finished tile extraction for \u001b[32m17B3436-V\u001b[0m (46663 tiles of 47113 possible)                      \n"
      ]
     },
     "metadata": {},
     "output_type": "display_data"
    },
    {
     "data": {
      "text/html": [
       "<pre style=\"white-space:pre;overflow-x:auto;line-height:normal;font-family:Menlo,'DejaVu Sans Mono',consolas,'Courier New',monospace\"><span style=\"color: #7fbfbf; text-decoration-color: #7fbfbf\">              </span><span style=\"color: #000080; text-decoration-color: #000080\">INFO    </span> No ROI for 18B0293-V, using whole slide.                                                    \n",
       "</pre>\n"
      ],
      "text/plain": [
       "\u001b[2;36m             \u001b[0m\u001b[2;36m \u001b[0m\u001b[34mINFO    \u001b[0m No ROI for 18B0293-V, using whole slide.                                                    \n"
      ]
     },
     "metadata": {},
     "output_type": "display_data"
    },
    {
     "data": {
      "text/html": [
       "<pre style=\"white-space:pre;overflow-x:auto;line-height:normal;font-family:Menlo,'DejaVu Sans Mono',consolas,'Courier New',monospace\"><span style=\"color: #7fbfbf; text-decoration-color: #7fbfbf\">[01:37:30 PM] </span><span style=\"color: #000080; text-decoration-color: #000080\">INFO    </span> Finished tile extraction for <span style=\"color: #008000; text-decoration-color: #008000\">18B0293-V</span> (6120 tiles of 6221 possible)                        \n",
       "</pre>\n"
      ],
      "text/plain": [
       "\u001b[2;36m[01:37:30 PM]\u001b[0m\u001b[2;36m \u001b[0m\u001b[34mINFO    \u001b[0m Finished tile extraction for \u001b[32m18B0293-V\u001b[0m (6120 tiles of 6221 possible)                        \n"
      ]
     },
     "metadata": {},
     "output_type": "display_data"
    },
    {
     "data": {
      "text/html": [
       "<pre style=\"white-space:pre;overflow-x:auto;line-height:normal;font-family:Menlo,'DejaVu Sans Mono',consolas,'Courier New',monospace\"><span style=\"color: #7fbfbf; text-decoration-color: #7fbfbf\">[01:37:31 PM] </span><span style=\"color: #000080; text-decoration-color: #000080\">INFO    </span> No ROI for 20B0844-V, using whole slide.                                                    \n",
       "</pre>\n"
      ],
      "text/plain": [
       "\u001b[2;36m[01:37:31 PM]\u001b[0m\u001b[2;36m \u001b[0m\u001b[34mINFO    \u001b[0m No ROI for 20B0844-V, using whole slide.                                                    \n"
      ]
     },
     "metadata": {},
     "output_type": "display_data"
    },
    {
     "data": {
      "text/html": [
       "<pre style=\"white-space:pre;overflow-x:auto;line-height:normal;font-family:Menlo,'DejaVu Sans Mono',consolas,'Courier New',monospace\"><span style=\"color: #7fbfbf; text-decoration-color: #7fbfbf\">[01:40:05 PM] </span><span style=\"color: #000080; text-decoration-color: #000080\">INFO    </span> Finished tile extraction for <span style=\"color: #008000; text-decoration-color: #008000\">20B0844-V</span> (34537 tiles of 34600 possible)                      \n",
       "</pre>\n"
      ],
      "text/plain": [
       "\u001b[2;36m[01:40:05 PM]\u001b[0m\u001b[2;36m \u001b[0m\u001b[34mINFO    \u001b[0m Finished tile extraction for \u001b[32m20B0844-V\u001b[0m (34537 tiles of 34600 possible)                      \n"
      ]
     },
     "metadata": {},
     "output_type": "display_data"
    },
    {
     "data": {
      "text/html": [
       "<pre style=\"white-space:pre;overflow-x:auto;line-height:normal;font-family:Menlo,'DejaVu Sans Mono',consolas,'Courier New',monospace\"><span style=\"color: #7fbfbf; text-decoration-color: #7fbfbf\">              </span><span style=\"color: #000080; text-decoration-color: #000080\">INFO    </span> No ROI for 17B3173-V, using whole slide.                                                    \n",
       "</pre>\n"
      ],
      "text/plain": [
       "\u001b[2;36m             \u001b[0m\u001b[2;36m \u001b[0m\u001b[34mINFO    \u001b[0m No ROI for 17B3173-V, using whole slide.                                                    \n"
      ]
     },
     "metadata": {},
     "output_type": "display_data"
    },
    {
     "data": {
      "text/html": [
       "<pre style=\"white-space:pre;overflow-x:auto;line-height:normal;font-family:Menlo,'DejaVu Sans Mono',consolas,'Courier New',monospace\"><span style=\"color: #7fbfbf; text-decoration-color: #7fbfbf\">[01:41:54 PM] </span><span style=\"color: #000080; text-decoration-color: #000080\">INFO    </span> Finished tile extraction for <span style=\"color: #008000; text-decoration-color: #008000\">17B3173-V</span> (16470 tiles of 17210 possible)                      \n",
       "</pre>\n"
      ],
      "text/plain": [
       "\u001b[2;36m[01:41:54 PM]\u001b[0m\u001b[2;36m \u001b[0m\u001b[34mINFO    \u001b[0m Finished tile extraction for \u001b[32m17B3173-V\u001b[0m (16470 tiles of 17210 possible)                      \n"
      ]
     },
     "metadata": {},
     "output_type": "display_data"
    },
    {
     "data": {
      "text/html": [
       "<pre style=\"white-space:pre;overflow-x:auto;line-height:normal;font-family:Menlo,'DejaVu Sans Mono',consolas,'Courier New',monospace\"><span style=\"color: #7fbfbf; text-decoration-color: #7fbfbf\">              </span><span style=\"color: #000080; text-decoration-color: #000080\">INFO    </span> No ROI for 17B0702-V, using whole slide.                                                    \n",
       "</pre>\n"
      ],
      "text/plain": [
       "\u001b[2;36m             \u001b[0m\u001b[2;36m \u001b[0m\u001b[34mINFO    \u001b[0m No ROI for 17B0702-V, using whole slide.                                                    \n"
      ]
     },
     "metadata": {},
     "output_type": "display_data"
    },
    {
     "data": {
      "text/html": [
       "<pre style=\"white-space:pre;overflow-x:auto;line-height:normal;font-family:Menlo,'DejaVu Sans Mono',consolas,'Courier New',monospace\"><span style=\"color: #7fbfbf; text-decoration-color: #7fbfbf\">[01:43:20 PM] </span><span style=\"color: #000080; text-decoration-color: #000080\">INFO    </span> Finished tile extraction for <span style=\"color: #008000; text-decoration-color: #008000\">17B0702-V</span> (13026 tiles of 13146 possible)                      \n",
       "</pre>\n"
      ],
      "text/plain": [
       "\u001b[2;36m[01:43:20 PM]\u001b[0m\u001b[2;36m \u001b[0m\u001b[34mINFO    \u001b[0m Finished tile extraction for \u001b[32m17B0702-V\u001b[0m (13026 tiles of 13146 possible)                      \n"
      ]
     },
     "metadata": {},
     "output_type": "display_data"
    },
    {
     "data": {
      "text/html": [
       "<pre style=\"white-space:pre;overflow-x:auto;line-height:normal;font-family:Menlo,'DejaVu Sans Mono',consolas,'Courier New',monospace\"><span style=\"color: #7fbfbf; text-decoration-color: #7fbfbf\">[01:43:21 PM] </span><span style=\"color: #000080; text-decoration-color: #000080\">INFO    </span> No ROI for 18B2826-V, using whole slide.                                                    \n",
       "</pre>\n"
      ],
      "text/plain": [
       "\u001b[2;36m[01:43:21 PM]\u001b[0m\u001b[2;36m \u001b[0m\u001b[34mINFO    \u001b[0m No ROI for 18B2826-V, using whole slide.                                                    \n"
      ]
     },
     "metadata": {},
     "output_type": "display_data"
    },
    {
     "data": {
      "text/html": [
       "<pre style=\"white-space:pre;overflow-x:auto;line-height:normal;font-family:Menlo,'DejaVu Sans Mono',consolas,'Courier New',monospace\">/home/user/stage-lucas/lib/python3.10/site-packages/numpy/core/fromnumeric.py:3464: RuntimeWarning: Mean of empty \n",
       "slice.\n",
       "  return _methods._mean(a, axis=axis, dtype=dtype,\n",
       "</pre>\n"
      ],
      "text/plain": [
       "/home/user/stage-lucas/lib/python3.10/site-packages/numpy/core/fromnumeric.py:3464: RuntimeWarning: Mean of empty \n",
       "slice.\n",
       "  return _methods._mean(a, axis=axis, dtype=dtype,\n"
      ]
     },
     "metadata": {},
     "output_type": "display_data"
    },
    {
     "data": {
      "text/html": [
       "<pre style=\"white-space:pre;overflow-x:auto;line-height:normal;font-family:Menlo,'DejaVu Sans Mono',consolas,'Courier New',monospace\">/home/user/stage-lucas/lib/python3.10/site-packages/numpy/core/_methods.py:192: RuntimeWarning: invalid value \n",
       "encountered in scalar divide\n",
       "  ret = ret.dtype.type(ret / rcount)\n",
       "</pre>\n"
      ],
      "text/plain": [
       "/home/user/stage-lucas/lib/python3.10/site-packages/numpy/core/_methods.py:192: RuntimeWarning: invalid value \n",
       "encountered in scalar divide\n",
       "  ret = ret.dtype.type(ret / rcount)\n"
      ]
     },
     "metadata": {},
     "output_type": "display_data"
    },
    {
     "data": {
      "text/html": [
       "<pre style=\"white-space:pre;overflow-x:auto;line-height:normal;font-family:Menlo,'DejaVu Sans Mono',consolas,'Courier New',monospace\"><span style=\"color: #7fbfbf; text-decoration-color: #7fbfbf\">[01:44:13 PM] </span><span style=\"color: #000080; text-decoration-color: #000080\">INFO    </span> Finished tile extraction for <span style=\"color: #008000; text-decoration-color: #008000\">18B2826-V</span> (6312 tiles of 49152 possible)                       \n",
       "</pre>\n"
      ],
      "text/plain": [
       "\u001b[2;36m[01:44:13 PM]\u001b[0m\u001b[2;36m \u001b[0m\u001b[34mINFO    \u001b[0m Finished tile extraction for \u001b[32m18B2826-V\u001b[0m (6312 tiles of 49152 possible)                       \n"
      ]
     },
     "metadata": {},
     "output_type": "display_data"
    },
    {
     "data": {
      "text/html": [
       "<pre style=\"white-space:pre;overflow-x:auto;line-height:normal;font-family:Menlo,'DejaVu Sans Mono',consolas,'Courier New',monospace\"><span style=\"color: #7fbfbf; text-decoration-color: #7fbfbf\">[01:44:14 PM] </span><span style=\"color: #000080; text-decoration-color: #000080\">INFO    </span> No ROI for 18B2840-V, using whole slide.                                                    \n",
       "</pre>\n"
      ],
      "text/plain": [
       "\u001b[2;36m[01:44:14 PM]\u001b[0m\u001b[2;36m \u001b[0m\u001b[34mINFO    \u001b[0m No ROI for 18B2840-V, using whole slide.                                                    \n"
      ]
     },
     "metadata": {},
     "output_type": "display_data"
    },
    {
     "data": {
      "text/html": [
       "<pre style=\"white-space:pre;overflow-x:auto;line-height:normal;font-family:Menlo,'DejaVu Sans Mono',consolas,'Courier New',monospace\">/home/user/stage-lucas/lib/python3.10/site-packages/numpy/core/fromnumeric.py:3464: RuntimeWarning: Mean of empty \n",
       "slice.\n",
       "  return _methods._mean(a, axis=axis, dtype=dtype,\n",
       "</pre>\n"
      ],
      "text/plain": [
       "/home/user/stage-lucas/lib/python3.10/site-packages/numpy/core/fromnumeric.py:3464: RuntimeWarning: Mean of empty \n",
       "slice.\n",
       "  return _methods._mean(a, axis=axis, dtype=dtype,\n"
      ]
     },
     "metadata": {},
     "output_type": "display_data"
    },
    {
     "data": {
      "text/html": [
       "<pre style=\"white-space:pre;overflow-x:auto;line-height:normal;font-family:Menlo,'DejaVu Sans Mono',consolas,'Courier New',monospace\">/home/user/stage-lucas/lib/python3.10/site-packages/numpy/core/_methods.py:192: RuntimeWarning: invalid value \n",
       "encountered in scalar divide\n",
       "  ret = ret.dtype.type(ret / rcount)\n",
       "</pre>\n"
      ],
      "text/plain": [
       "/home/user/stage-lucas/lib/python3.10/site-packages/numpy/core/_methods.py:192: RuntimeWarning: invalid value \n",
       "encountered in scalar divide\n",
       "  ret = ret.dtype.type(ret / rcount)\n"
      ]
     },
     "metadata": {},
     "output_type": "display_data"
    },
    {
     "data": {
      "text/html": [
       "<pre style=\"white-space:pre;overflow-x:auto;line-height:normal;font-family:Menlo,'DejaVu Sans Mono',consolas,'Courier New',monospace\"><span style=\"color: #7fbfbf; text-decoration-color: #7fbfbf\">[01:47:15 PM] </span><span style=\"color: #000080; text-decoration-color: #000080\">INFO    </span> Finished tile extraction for <span style=\"color: #008000; text-decoration-color: #008000\">18B2840-V</span> (24344 tiles of 118272 possible)                     \n",
       "</pre>\n"
      ],
      "text/plain": [
       "\u001b[2;36m[01:47:15 PM]\u001b[0m\u001b[2;36m \u001b[0m\u001b[34mINFO    \u001b[0m Finished tile extraction for \u001b[32m18B2840-V\u001b[0m (24344 tiles of 118272 possible)                     \n"
      ]
     },
     "metadata": {},
     "output_type": "display_data"
    },
    {
     "data": {
      "text/html": [
       "<pre style=\"white-space:pre;overflow-x:auto;line-height:normal;font-family:Menlo,'DejaVu Sans Mono',consolas,'Courier New',monospace\"><span style=\"color: #7fbfbf; text-decoration-color: #7fbfbf\">              </span><span style=\"color: #000080; text-decoration-color: #000080\">INFO    </span> No ROI for 17B2660-V, using whole slide.                                                    \n",
       "</pre>\n"
      ],
      "text/plain": [
       "\u001b[2;36m             \u001b[0m\u001b[2;36m \u001b[0m\u001b[34mINFO    \u001b[0m No ROI for 17B2660-V, using whole slide.                                                    \n"
      ]
     },
     "metadata": {},
     "output_type": "display_data"
    },
    {
     "data": {
      "text/html": [
       "<pre style=\"white-space:pre;overflow-x:auto;line-height:normal;font-family:Menlo,'DejaVu Sans Mono',consolas,'Courier New',monospace\"><span style=\"color: #7fbfbf; text-decoration-color: #7fbfbf\">[01:51:17 PM] </span><span style=\"color: #000080; text-decoration-color: #000080\">INFO    </span> Finished tile extraction for <span style=\"color: #008000; text-decoration-color: #008000\">17B2660-V</span> (49579 tiles of 50520 possible)                      \n",
       "</pre>\n"
      ],
      "text/plain": [
       "\u001b[2;36m[01:51:17 PM]\u001b[0m\u001b[2;36m \u001b[0m\u001b[34mINFO    \u001b[0m Finished tile extraction for \u001b[32m17B2660-V\u001b[0m (49579 tiles of 50520 possible)                      \n"
      ]
     },
     "metadata": {},
     "output_type": "display_data"
    },
    {
     "data": {
      "text/html": [
       "<pre style=\"white-space:pre;overflow-x:auto;line-height:normal;font-family:Menlo,'DejaVu Sans Mono',consolas,'Courier New',monospace\"><span style=\"color: #7fbfbf; text-decoration-color: #7fbfbf\">              </span><span style=\"color: #000080; text-decoration-color: #000080\">INFO    </span> No ROI for 20B0692-V, using whole slide.                                                    \n",
       "</pre>\n"
      ],
      "text/plain": [
       "\u001b[2;36m             \u001b[0m\u001b[2;36m \u001b[0m\u001b[34mINFO    \u001b[0m No ROI for 20B0692-V, using whole slide.                                                    \n"
      ]
     },
     "metadata": {},
     "output_type": "display_data"
    },
    {
     "data": {
      "text/html": [
       "<pre style=\"white-space:pre;overflow-x:auto;line-height:normal;font-family:Menlo,'DejaVu Sans Mono',consolas,'Courier New',monospace\">/home/user/stage-lucas/lib/python3.10/site-packages/numpy/core/fromnumeric.py:3464: RuntimeWarning: Mean of empty \n",
       "slice.\n",
       "  return _methods._mean(a, axis=axis, dtype=dtype,\n",
       "</pre>\n"
      ],
      "text/plain": [
       "/home/user/stage-lucas/lib/python3.10/site-packages/numpy/core/fromnumeric.py:3464: RuntimeWarning: Mean of empty \n",
       "slice.\n",
       "  return _methods._mean(a, axis=axis, dtype=dtype,\n"
      ]
     },
     "metadata": {},
     "output_type": "display_data"
    },
    {
     "data": {
      "text/html": [
       "<pre style=\"white-space:pre;overflow-x:auto;line-height:normal;font-family:Menlo,'DejaVu Sans Mono',consolas,'Courier New',monospace\">/home/user/stage-lucas/lib/python3.10/site-packages/numpy/core/_methods.py:192: RuntimeWarning: invalid value \n",
       "encountered in scalar divide\n",
       "  ret = ret.dtype.type(ret / rcount)\n",
       "</pre>\n"
      ],
      "text/plain": [
       "/home/user/stage-lucas/lib/python3.10/site-packages/numpy/core/_methods.py:192: RuntimeWarning: invalid value \n",
       "encountered in scalar divide\n",
       "  ret = ret.dtype.type(ret / rcount)\n"
      ]
     },
     "metadata": {},
     "output_type": "display_data"
    },
    {
     "data": {
      "text/html": [
       "<pre style=\"white-space:pre;overflow-x:auto;line-height:normal;font-family:Menlo,'DejaVu Sans Mono',consolas,'Courier New',monospace\"><span style=\"color: #7fbfbf; text-decoration-color: #7fbfbf\">[01:53:18 PM] </span><span style=\"color: #000080; text-decoration-color: #000080\">INFO    </span> Finished tile extraction for <span style=\"color: #008000; text-decoration-color: #008000\">20B0692-V</span> (26185 tiles of 67584 possible)                      \n",
       "</pre>\n"
      ],
      "text/plain": [
       "\u001b[2;36m[01:53:18 PM]\u001b[0m\u001b[2;36m \u001b[0m\u001b[34mINFO    \u001b[0m Finished tile extraction for \u001b[32m20B0692-V\u001b[0m (26185 tiles of 67584 possible)                      \n"
      ]
     },
     "metadata": {},
     "output_type": "display_data"
    },
    {
     "data": {
      "text/html": [
       "<pre style=\"white-space:pre;overflow-x:auto;line-height:normal;font-family:Menlo,'DejaVu Sans Mono',consolas,'Courier New',monospace\"><span style=\"color: #7fbfbf; text-decoration-color: #7fbfbf\">[01:53:19 PM] </span><span style=\"color: #000080; text-decoration-color: #000080\">INFO    </span> No ROI for 20B1200-V, using whole slide.                                                    \n",
       "</pre>\n"
      ],
      "text/plain": [
       "\u001b[2;36m[01:53:19 PM]\u001b[0m\u001b[2;36m \u001b[0m\u001b[34mINFO    \u001b[0m No ROI for 20B1200-V, using whole slide.                                                    \n"
      ]
     },
     "metadata": {},
     "output_type": "display_data"
    },
    {
     "data": {
      "text/html": [
       "<pre style=\"white-space:pre;overflow-x:auto;line-height:normal;font-family:Menlo,'DejaVu Sans Mono',consolas,'Courier New',monospace\">/home/user/stage-lucas/lib/python3.10/site-packages/numpy/core/fromnumeric.py:3464: RuntimeWarning: Mean of empty \n",
       "slice.\n",
       "  return _methods._mean(a, axis=axis, dtype=dtype,\n",
       "</pre>\n"
      ],
      "text/plain": [
       "/home/user/stage-lucas/lib/python3.10/site-packages/numpy/core/fromnumeric.py:3464: RuntimeWarning: Mean of empty \n",
       "slice.\n",
       "  return _methods._mean(a, axis=axis, dtype=dtype,\n"
      ]
     },
     "metadata": {},
     "output_type": "display_data"
    },
    {
     "data": {
      "text/html": [
       "<pre style=\"white-space:pre;overflow-x:auto;line-height:normal;font-family:Menlo,'DejaVu Sans Mono',consolas,'Courier New',monospace\">/home/user/stage-lucas/lib/python3.10/site-packages/numpy/core/_methods.py:192: RuntimeWarning: invalid value \n",
       "encountered in scalar divide\n",
       "  ret = ret.dtype.type(ret / rcount)\n",
       "</pre>\n"
      ],
      "text/plain": [
       "/home/user/stage-lucas/lib/python3.10/site-packages/numpy/core/_methods.py:192: RuntimeWarning: invalid value \n",
       "encountered in scalar divide\n",
       "  ret = ret.dtype.type(ret / rcount)\n"
      ]
     },
     "metadata": {},
     "output_type": "display_data"
    },
    {
     "data": {
      "text/html": [
       "<pre style=\"white-space:pre;overflow-x:auto;line-height:normal;font-family:Menlo,'DejaVu Sans Mono',consolas,'Courier New',monospace\"><span style=\"color: #7fbfbf; text-decoration-color: #7fbfbf\">[01:54:08 PM] </span><span style=\"color: #000080; text-decoration-color: #000080\">INFO    </span> Finished tile extraction for <span style=\"color: #008000; text-decoration-color: #008000\">20B1200-V</span> (4343 tiles of 41472 possible)                       \n",
       "</pre>\n"
      ],
      "text/plain": [
       "\u001b[2;36m[01:54:08 PM]\u001b[0m\u001b[2;36m \u001b[0m\u001b[34mINFO    \u001b[0m Finished tile extraction for \u001b[32m20B1200-V\u001b[0m (4343 tiles of 41472 possible)                       \n"
      ]
     },
     "metadata": {},
     "output_type": "display_data"
    },
    {
     "data": {
      "text/html": [
       "<pre style=\"white-space:pre;overflow-x:auto;line-height:normal;font-family:Menlo,'DejaVu Sans Mono',consolas,'Courier New',monospace\"><span style=\"color: #7fbfbf; text-decoration-color: #7fbfbf\">[01:54:09 PM] </span><span style=\"color: #000080; text-decoration-color: #000080\">INFO    </span> No ROI for 17B3044-V, using whole slide.                                                    \n",
       "</pre>\n"
      ],
      "text/plain": [
       "\u001b[2;36m[01:54:09 PM]\u001b[0m\u001b[2;36m \u001b[0m\u001b[34mINFO    \u001b[0m No ROI for 17B3044-V, using whole slide.                                                    \n"
      ]
     },
     "metadata": {},
     "output_type": "display_data"
    },
    {
     "data": {
      "text/html": [
       "<pre style=\"white-space:pre;overflow-x:auto;line-height:normal;font-family:Menlo,'DejaVu Sans Mono',consolas,'Courier New',monospace\"><span style=\"color: #7fbfbf; text-decoration-color: #7fbfbf\">[01:57:50 PM] </span><span style=\"color: #000080; text-decoration-color: #000080\">INFO    </span> Finished tile extraction for <span style=\"color: #008000; text-decoration-color: #008000\">17B3044-V</span> (48837 tiles of 49652 possible)                      \n",
       "</pre>\n"
      ],
      "text/plain": [
       "\u001b[2;36m[01:57:50 PM]\u001b[0m\u001b[2;36m \u001b[0m\u001b[34mINFO    \u001b[0m Finished tile extraction for \u001b[32m17B3044-V\u001b[0m (48837 tiles of 49652 possible)                      \n"
      ]
     },
     "metadata": {},
     "output_type": "display_data"
    },
    {
     "data": {
      "text/html": [
       "<pre style=\"white-space:pre;overflow-x:auto;line-height:normal;font-family:Menlo,'DejaVu Sans Mono',consolas,'Courier New',monospace\"><span style=\"color: #7fbfbf; text-decoration-color: #7fbfbf\">[01:57:51 PM] </span><span style=\"color: #000080; text-decoration-color: #000080\">INFO    </span> No ROI for 18B3530-V, using whole slide.                                                    \n",
       "</pre>\n"
      ],
      "text/plain": [
       "\u001b[2;36m[01:57:51 PM]\u001b[0m\u001b[2;36m \u001b[0m\u001b[34mINFO    \u001b[0m No ROI for 18B3530-V, using whole slide.                                                    \n"
      ]
     },
     "metadata": {},
     "output_type": "display_data"
    },
    {
     "data": {
      "text/html": [
       "<pre style=\"white-space:pre;overflow-x:auto;line-height:normal;font-family:Menlo,'DejaVu Sans Mono',consolas,'Courier New',monospace\"><span style=\"color: #7fbfbf; text-decoration-color: #7fbfbf\">[02:08:03 PM] </span><span style=\"color: #000080; text-decoration-color: #000080\">INFO    </span> Finished tile extraction for <span style=\"color: #008000; text-decoration-color: #008000\">18B3530-V</span> (144845 tiles of 145648 possible)                    \n",
       "</pre>\n"
      ],
      "text/plain": [
       "\u001b[2;36m[02:08:03 PM]\u001b[0m\u001b[2;36m \u001b[0m\u001b[34mINFO    \u001b[0m Finished tile extraction for \u001b[32m18B3530-V\u001b[0m (144845 tiles of 145648 possible)                    \n"
      ]
     },
     "metadata": {},
     "output_type": "display_data"
    },
    {
     "data": {
      "text/html": [
       "<pre style=\"white-space:pre;overflow-x:auto;line-height:normal;font-family:Menlo,'DejaVu Sans Mono',consolas,'Courier New',monospace\"><span style=\"color: #7fbfbf; text-decoration-color: #7fbfbf\">[02:08:04 PM] </span><span style=\"color: #000080; text-decoration-color: #000080\">INFO    </span> No ROI for 16B0460-V, using whole slide.                                                    \n",
       "</pre>\n"
      ],
      "text/plain": [
       "\u001b[2;36m[02:08:04 PM]\u001b[0m\u001b[2;36m \u001b[0m\u001b[34mINFO    \u001b[0m No ROI for 16B0460-V, using whole slide.                                                    \n"
      ]
     },
     "metadata": {},
     "output_type": "display_data"
    },
    {
     "data": {
      "text/html": [
       "<pre style=\"white-space:pre;overflow-x:auto;line-height:normal;font-family:Menlo,'DejaVu Sans Mono',consolas,'Courier New',monospace\"><span style=\"color: #7fbfbf; text-decoration-color: #7fbfbf\">[02:09:11 PM] </span><span style=\"color: #000080; text-decoration-color: #000080\">INFO    </span> Finished tile extraction for <span style=\"color: #008000; text-decoration-color: #008000\">16B0460-V</span> (23132 tiles of 23402 possible)                      \n",
       "</pre>\n"
      ],
      "text/plain": [
       "\u001b[2;36m[02:09:11 PM]\u001b[0m\u001b[2;36m \u001b[0m\u001b[34mINFO    \u001b[0m Finished tile extraction for \u001b[32m16B0460-V\u001b[0m (23132 tiles of 23402 possible)                      \n"
      ]
     },
     "metadata": {},
     "output_type": "display_data"
    },
    {
     "data": {
      "text/html": [
       "<pre style=\"white-space:pre;overflow-x:auto;line-height:normal;font-family:Menlo,'DejaVu Sans Mono',consolas,'Courier New',monospace\"><span style=\"color: #7fbfbf; text-decoration-color: #7fbfbf\">              </span><span style=\"color: #000080; text-decoration-color: #000080\">INFO    </span> No ROI for 19B1678-V, using whole slide.                                                    \n",
       "</pre>\n"
      ],
      "text/plain": [
       "\u001b[2;36m             \u001b[0m\u001b[2;36m \u001b[0m\u001b[34mINFO    \u001b[0m No ROI for 19B1678-V, using whole slide.                                                    \n"
      ]
     },
     "metadata": {},
     "output_type": "display_data"
    },
    {
     "data": {
      "text/html": [
       "<pre style=\"white-space:pre;overflow-x:auto;line-height:normal;font-family:Menlo,'DejaVu Sans Mono',consolas,'Courier New',monospace\">/home/user/stage-lucas/lib/python3.10/site-packages/numpy/core/fromnumeric.py:3464: RuntimeWarning: Mean of empty \n",
       "slice.\n",
       "  return _methods._mean(a, axis=axis, dtype=dtype,\n",
       "</pre>\n"
      ],
      "text/plain": [
       "/home/user/stage-lucas/lib/python3.10/site-packages/numpy/core/fromnumeric.py:3464: RuntimeWarning: Mean of empty \n",
       "slice.\n",
       "  return _methods._mean(a, axis=axis, dtype=dtype,\n"
      ]
     },
     "metadata": {},
     "output_type": "display_data"
    },
    {
     "data": {
      "text/html": [
       "<pre style=\"white-space:pre;overflow-x:auto;line-height:normal;font-family:Menlo,'DejaVu Sans Mono',consolas,'Courier New',monospace\">/home/user/stage-lucas/lib/python3.10/site-packages/numpy/core/_methods.py:192: RuntimeWarning: invalid value \n",
       "encountered in scalar divide\n",
       "  ret = ret.dtype.type(ret / rcount)\n",
       "</pre>\n"
      ],
      "text/plain": [
       "/home/user/stage-lucas/lib/python3.10/site-packages/numpy/core/_methods.py:192: RuntimeWarning: invalid value \n",
       "encountered in scalar divide\n",
       "  ret = ret.dtype.type(ret / rcount)\n"
      ]
     },
     "metadata": {},
     "output_type": "display_data"
    },
    {
     "data": {
      "text/html": [
       "<pre style=\"white-space:pre;overflow-x:auto;line-height:normal;font-family:Menlo,'DejaVu Sans Mono',consolas,'Courier New',monospace\"><span style=\"color: #7fbfbf; text-decoration-color: #7fbfbf\">[02:18:01 PM] </span><span style=\"color: #000080; text-decoration-color: #000080\">INFO    </span> Finished tile extraction for <span style=\"color: #008000; text-decoration-color: #008000\">19B1678-V</span> (81550 tiles of 196608 possible)                     \n",
       "</pre>\n"
      ],
      "text/plain": [
       "\u001b[2;36m[02:18:01 PM]\u001b[0m\u001b[2;36m \u001b[0m\u001b[34mINFO    \u001b[0m Finished tile extraction for \u001b[32m19B1678-V\u001b[0m (81550 tiles of 196608 possible)                     \n"
      ]
     },
     "metadata": {},
     "output_type": "display_data"
    },
    {
     "data": {
      "text/html": [
       "<pre style=\"white-space:pre;overflow-x:auto;line-height:normal;font-family:Menlo,'DejaVu Sans Mono',consolas,'Courier New',monospace\"><span style=\"color: #7fbfbf; text-decoration-color: #7fbfbf\">[02:18:02 PM] </span><span style=\"color: #000080; text-decoration-color: #000080\">INFO    </span> No ROI for 19B2703-V, using whole slide.                                                    \n",
       "</pre>\n"
      ],
      "text/plain": [
       "\u001b[2;36m[02:18:02 PM]\u001b[0m\u001b[2;36m \u001b[0m\u001b[34mINFO    \u001b[0m No ROI for 19B2703-V, using whole slide.                                                    \n"
      ]
     },
     "metadata": {},
     "output_type": "display_data"
    },
    {
     "data": {
      "text/html": [
       "<pre style=\"white-space:pre;overflow-x:auto;line-height:normal;font-family:Menlo,'DejaVu Sans Mono',consolas,'Courier New',monospace\"><span style=\"color: #7fbfbf; text-decoration-color: #7fbfbf\">[02:22:07 PM] </span><span style=\"color: #000080; text-decoration-color: #000080\">INFO    </span> Finished tile extraction for <span style=\"color: #008000; text-decoration-color: #008000\">19B2703-V</span> (47299 tiles of 47550 possible)                      \n",
       "</pre>\n"
      ],
      "text/plain": [
       "\u001b[2;36m[02:22:07 PM]\u001b[0m\u001b[2;36m \u001b[0m\u001b[34mINFO    \u001b[0m Finished tile extraction for \u001b[32m19B2703-V\u001b[0m (47299 tiles of 47550 possible)                      \n"
      ]
     },
     "metadata": {},
     "output_type": "display_data"
    },
    {
     "data": {
      "text/html": [
       "<pre style=\"white-space:pre;overflow-x:auto;line-height:normal;font-family:Menlo,'DejaVu Sans Mono',consolas,'Courier New',monospace\"><span style=\"color: #7fbfbf; text-decoration-color: #7fbfbf\">[02:22:09 PM] </span><span style=\"color: #000080; text-decoration-color: #000080\">INFO    </span> No ROI for 18B2205-V, using whole slide.                                                    \n",
       "</pre>\n"
      ],
      "text/plain": [
       "\u001b[2;36m[02:22:09 PM]\u001b[0m\u001b[2;36m \u001b[0m\u001b[34mINFO    \u001b[0m No ROI for 18B2205-V, using whole slide.                                                    \n"
      ]
     },
     "metadata": {},
     "output_type": "display_data"
    },
    {
     "data": {
      "text/html": [
       "<pre style=\"white-space:pre;overflow-x:auto;line-height:normal;font-family:Menlo,'DejaVu Sans Mono',consolas,'Courier New',monospace\">/home/user/stage-lucas/lib/python3.10/site-packages/numpy/core/fromnumeric.py:3464: RuntimeWarning: Mean of empty \n",
       "slice.\n",
       "  return _methods._mean(a, axis=axis, dtype=dtype,\n",
       "</pre>\n"
      ],
      "text/plain": [
       "/home/user/stage-lucas/lib/python3.10/site-packages/numpy/core/fromnumeric.py:3464: RuntimeWarning: Mean of empty \n",
       "slice.\n",
       "  return _methods._mean(a, axis=axis, dtype=dtype,\n"
      ]
     },
     "metadata": {},
     "output_type": "display_data"
    },
    {
     "data": {
      "text/html": [
       "<pre style=\"white-space:pre;overflow-x:auto;line-height:normal;font-family:Menlo,'DejaVu Sans Mono',consolas,'Courier New',monospace\">/home/user/stage-lucas/lib/python3.10/site-packages/numpy/core/_methods.py:192: RuntimeWarning: invalid value \n",
       "encountered in scalar divide\n",
       "  ret = ret.dtype.type(ret / rcount)\n",
       "</pre>\n"
      ],
      "text/plain": [
       "/home/user/stage-lucas/lib/python3.10/site-packages/numpy/core/_methods.py:192: RuntimeWarning: invalid value \n",
       "encountered in scalar divide\n",
       "  ret = ret.dtype.type(ret / rcount)\n"
      ]
     },
     "metadata": {},
     "output_type": "display_data"
    },
    {
     "data": {
      "text/html": [
       "<pre style=\"white-space:pre;overflow-x:auto;line-height:normal;font-family:Menlo,'DejaVu Sans Mono',consolas,'Courier New',monospace\"><span style=\"color: #7fbfbf; text-decoration-color: #7fbfbf\">[02:52:13 PM] </span><span style=\"color: #000080; text-decoration-color: #000080\">INFO    </span> Finished tile extraction for <span style=\"color: #008000; text-decoration-color: #008000\">18B2205-V</span> (167335 tiles of 388608 possible)                    \n",
       "</pre>\n"
      ],
      "text/plain": [
       "\u001b[2;36m[02:52:13 PM]\u001b[0m\u001b[2;36m \u001b[0m\u001b[34mINFO    \u001b[0m Finished tile extraction for \u001b[32m18B2205-V\u001b[0m (167335 tiles of 388608 possible)                    \n"
      ]
     },
     "metadata": {},
     "output_type": "display_data"
    },
    {
     "data": {
      "text/html": [
       "<pre style=\"white-space:pre;overflow-x:auto;line-height:normal;font-family:Menlo,'DejaVu Sans Mono',consolas,'Courier New',monospace\"><span style=\"color: #7fbfbf; text-decoration-color: #7fbfbf\">[02:52:14 PM] </span><span style=\"color: #000080; text-decoration-color: #000080\">INFO    </span> No ROI for 19B2922-V, using whole slide.                                                    \n",
       "</pre>\n"
      ],
      "text/plain": [
       "\u001b[2;36m[02:52:14 PM]\u001b[0m\u001b[2;36m \u001b[0m\u001b[34mINFO    \u001b[0m No ROI for 19B2922-V, using whole slide.                                                    \n"
      ]
     },
     "metadata": {},
     "output_type": "display_data"
    },
    {
     "data": {
      "text/html": [
       "<pre style=\"white-space:pre;overflow-x:auto;line-height:normal;font-family:Menlo,'DejaVu Sans Mono',consolas,'Courier New',monospace\">/home/user/stage-lucas/lib/python3.10/site-packages/numpy/core/fromnumeric.py:3464: RuntimeWarning: Mean of empty \n",
       "slice.\n",
       "  return _methods._mean(a, axis=axis, dtype=dtype,\n",
       "</pre>\n"
      ],
      "text/plain": [
       "/home/user/stage-lucas/lib/python3.10/site-packages/numpy/core/fromnumeric.py:3464: RuntimeWarning: Mean of empty \n",
       "slice.\n",
       "  return _methods._mean(a, axis=axis, dtype=dtype,\n"
      ]
     },
     "metadata": {},
     "output_type": "display_data"
    },
    {
     "data": {
      "text/html": [
       "<pre style=\"white-space:pre;overflow-x:auto;line-height:normal;font-family:Menlo,'DejaVu Sans Mono',consolas,'Courier New',monospace\">/home/user/stage-lucas/lib/python3.10/site-packages/numpy/core/_methods.py:192: RuntimeWarning: invalid value \n",
       "encountered in scalar divide\n",
       "  ret = ret.dtype.type(ret / rcount)\n",
       "</pre>\n"
      ],
      "text/plain": [
       "/home/user/stage-lucas/lib/python3.10/site-packages/numpy/core/_methods.py:192: RuntimeWarning: invalid value \n",
       "encountered in scalar divide\n",
       "  ret = ret.dtype.type(ret / rcount)\n"
      ]
     },
     "metadata": {},
     "output_type": "display_data"
    },
    {
     "data": {
      "text/html": [
       "<pre style=\"white-space:pre;overflow-x:auto;line-height:normal;font-family:Menlo,'DejaVu Sans Mono',consolas,'Courier New',monospace\"><span style=\"color: #7fbfbf; text-decoration-color: #7fbfbf\">[02:52:59 PM] </span><span style=\"color: #000080; text-decoration-color: #000080\">INFO    </span> Finished tile extraction for <span style=\"color: #008000; text-decoration-color: #008000\">19B2922-V</span> (3335 tiles of 46080 possible)                       \n",
       "</pre>\n"
      ],
      "text/plain": [
       "\u001b[2;36m[02:52:59 PM]\u001b[0m\u001b[2;36m \u001b[0m\u001b[34mINFO    \u001b[0m Finished tile extraction for \u001b[32m19B2922-V\u001b[0m (3335 tiles of 46080 possible)                       \n"
      ]
     },
     "metadata": {},
     "output_type": "display_data"
    },
    {
     "data": {
      "text/html": [
       "<pre style=\"white-space:pre;overflow-x:auto;line-height:normal;font-family:Menlo,'DejaVu Sans Mono',consolas,'Courier New',monospace\"><span style=\"color: #7fbfbf; text-decoration-color: #7fbfbf\">              </span><span style=\"color: #000080; text-decoration-color: #000080\">INFO    </span> No ROI for 17B0952-V, using whole slide.                                                    \n",
       "</pre>\n"
      ],
      "text/plain": [
       "\u001b[2;36m             \u001b[0m\u001b[2;36m \u001b[0m\u001b[34mINFO    \u001b[0m No ROI for 17B0952-V, using whole slide.                                                    \n"
      ]
     },
     "metadata": {},
     "output_type": "display_data"
    },
    {
     "data": {
      "text/html": [
       "<pre style=\"white-space:pre;overflow-x:auto;line-height:normal;font-family:Menlo,'DejaVu Sans Mono',consolas,'Courier New',monospace\">/home/user/stage-lucas/lib/python3.10/site-packages/numpy/core/fromnumeric.py:3464: RuntimeWarning: Mean of empty \n",
       "slice.\n",
       "  return _methods._mean(a, axis=axis, dtype=dtype,\n",
       "</pre>\n"
      ],
      "text/plain": [
       "/home/user/stage-lucas/lib/python3.10/site-packages/numpy/core/fromnumeric.py:3464: RuntimeWarning: Mean of empty \n",
       "slice.\n",
       "  return _methods._mean(a, axis=axis, dtype=dtype,\n"
      ]
     },
     "metadata": {},
     "output_type": "display_data"
    },
    {
     "data": {
      "text/html": [
       "<pre style=\"white-space:pre;overflow-x:auto;line-height:normal;font-family:Menlo,'DejaVu Sans Mono',consolas,'Courier New',monospace\">/home/user/stage-lucas/lib/python3.10/site-packages/numpy/core/_methods.py:192: RuntimeWarning: invalid value \n",
       "encountered in scalar divide\n",
       "  ret = ret.dtype.type(ret / rcount)\n",
       "</pre>\n"
      ],
      "text/plain": [
       "/home/user/stage-lucas/lib/python3.10/site-packages/numpy/core/_methods.py:192: RuntimeWarning: invalid value \n",
       "encountered in scalar divide\n",
       "  ret = ret.dtype.type(ret / rcount)\n"
      ]
     },
     "metadata": {},
     "output_type": "display_data"
    },
    {
     "data": {
      "text/html": [
       "<pre style=\"white-space:pre;overflow-x:auto;line-height:normal;font-family:Menlo,'DejaVu Sans Mono',consolas,'Courier New',monospace\"><span style=\"color: #7fbfbf; text-decoration-color: #7fbfbf\">[03:00:06 PM] </span><span style=\"color: #000080; text-decoration-color: #000080\">INFO    </span> Finished tile extraction for <span style=\"color: #008000; text-decoration-color: #008000\">17B0952-V</span> (79820 tiles of 153600 possible)                     \n",
       "</pre>\n"
      ],
      "text/plain": [
       "\u001b[2;36m[03:00:06 PM]\u001b[0m\u001b[2;36m \u001b[0m\u001b[34mINFO    \u001b[0m Finished tile extraction for \u001b[32m17B0952-V\u001b[0m (79820 tiles of 153600 possible)                     \n"
      ]
     },
     "metadata": {},
     "output_type": "display_data"
    },
    {
     "data": {
      "text/html": [
       "<pre style=\"white-space:pre;overflow-x:auto;line-height:normal;font-family:Menlo,'DejaVu Sans Mono',consolas,'Courier New',monospace\"><span style=\"color: #7fbfbf; text-decoration-color: #7fbfbf\">[03:00:07 PM] </span><span style=\"color: #000080; text-decoration-color: #000080\">INFO    </span> No ROI for 20B0966-V, using whole slide.                                                    \n",
       "</pre>\n"
      ],
      "text/plain": [
       "\u001b[2;36m[03:00:07 PM]\u001b[0m\u001b[2;36m \u001b[0m\u001b[34mINFO    \u001b[0m No ROI for 20B0966-V, using whole slide.                                                    \n"
      ]
     },
     "metadata": {},
     "output_type": "display_data"
    },
    {
     "data": {
      "text/html": [
       "<pre style=\"white-space:pre;overflow-x:auto;line-height:normal;font-family:Menlo,'DejaVu Sans Mono',consolas,'Courier New',monospace\">/home/user/stage-lucas/lib/python3.10/site-packages/numpy/core/fromnumeric.py:3464: RuntimeWarning: Mean of empty \n",
       "slice.\n",
       "  return _methods._mean(a, axis=axis, dtype=dtype,\n",
       "</pre>\n"
      ],
      "text/plain": [
       "/home/user/stage-lucas/lib/python3.10/site-packages/numpy/core/fromnumeric.py:3464: RuntimeWarning: Mean of empty \n",
       "slice.\n",
       "  return _methods._mean(a, axis=axis, dtype=dtype,\n"
      ]
     },
     "metadata": {},
     "output_type": "display_data"
    },
    {
     "data": {
      "text/html": [
       "<pre style=\"white-space:pre;overflow-x:auto;line-height:normal;font-family:Menlo,'DejaVu Sans Mono',consolas,'Courier New',monospace\">/home/user/stage-lucas/lib/python3.10/site-packages/numpy/core/_methods.py:192: RuntimeWarning: invalid value \n",
       "encountered in scalar divide\n",
       "  ret = ret.dtype.type(ret / rcount)\n",
       "</pre>\n"
      ],
      "text/plain": [
       "/home/user/stage-lucas/lib/python3.10/site-packages/numpy/core/_methods.py:192: RuntimeWarning: invalid value \n",
       "encountered in scalar divide\n",
       "  ret = ret.dtype.type(ret / rcount)\n"
      ]
     },
     "metadata": {},
     "output_type": "display_data"
    },
    {
     "data": {
      "text/html": [
       "<pre style=\"white-space:pre;overflow-x:auto;line-height:normal;font-family:Menlo,'DejaVu Sans Mono',consolas,'Courier New',monospace\"><span style=\"color: #7fbfbf; text-decoration-color: #7fbfbf\">[03:02:56 PM] </span><span style=\"color: #000080; text-decoration-color: #000080\">INFO    </span> Finished tile extraction for <span style=\"color: #008000; text-decoration-color: #008000\">20B0966-V</span> (25431 tiles of 87552 possible)                      \n",
       "</pre>\n"
      ],
      "text/plain": [
       "\u001b[2;36m[03:02:56 PM]\u001b[0m\u001b[2;36m \u001b[0m\u001b[34mINFO    \u001b[0m Finished tile extraction for \u001b[32m20B0966-V\u001b[0m (25431 tiles of 87552 possible)                      \n"
      ]
     },
     "metadata": {},
     "output_type": "display_data"
    },
    {
     "data": {
      "text/html": [
       "<pre style=\"white-space:pre;overflow-x:auto;line-height:normal;font-family:Menlo,'DejaVu Sans Mono',consolas,'Courier New',monospace\"><span style=\"color: #7fbfbf; text-decoration-color: #7fbfbf\">[03:02:57 PM] </span><span style=\"color: #000080; text-decoration-color: #000080\">INFO    </span> No ROI for 16B1796-V, using whole slide.                                                    \n",
       "</pre>\n"
      ],
      "text/plain": [
       "\u001b[2;36m[03:02:57 PM]\u001b[0m\u001b[2;36m \u001b[0m\u001b[34mINFO    \u001b[0m No ROI for 16B1796-V, using whole slide.                                                    \n"
      ]
     },
     "metadata": {},
     "output_type": "display_data"
    },
    {
     "data": {
      "text/html": [
       "<pre style=\"white-space:pre;overflow-x:auto;line-height:normal;font-family:Menlo,'DejaVu Sans Mono',consolas,'Courier New',monospace\">/home/user/stage-lucas/lib/python3.10/site-packages/numpy/core/fromnumeric.py:3464: RuntimeWarning: Mean of empty \n",
       "slice.\n",
       "  return _methods._mean(a, axis=axis, dtype=dtype,\n",
       "</pre>\n"
      ],
      "text/plain": [
       "/home/user/stage-lucas/lib/python3.10/site-packages/numpy/core/fromnumeric.py:3464: RuntimeWarning: Mean of empty \n",
       "slice.\n",
       "  return _methods._mean(a, axis=axis, dtype=dtype,\n"
      ]
     },
     "metadata": {},
     "output_type": "display_data"
    },
    {
     "data": {
      "text/html": [
       "<pre style=\"white-space:pre;overflow-x:auto;line-height:normal;font-family:Menlo,'DejaVu Sans Mono',consolas,'Courier New',monospace\">/home/user/stage-lucas/lib/python3.10/site-packages/numpy/core/_methods.py:192: RuntimeWarning: invalid value \n",
       "encountered in scalar divide\n",
       "  ret = ret.dtype.type(ret / rcount)\n",
       "</pre>\n"
      ],
      "text/plain": [
       "/home/user/stage-lucas/lib/python3.10/site-packages/numpy/core/_methods.py:192: RuntimeWarning: invalid value \n",
       "encountered in scalar divide\n",
       "  ret = ret.dtype.type(ret / rcount)\n"
      ]
     },
     "metadata": {},
     "output_type": "display_data"
    },
    {
     "data": {
      "text/html": [
       "<pre style=\"white-space:pre;overflow-x:auto;line-height:normal;font-family:Menlo,'DejaVu Sans Mono',consolas,'Courier New',monospace\"><span style=\"color: #7fbfbf; text-decoration-color: #7fbfbf\">[03:12:27 PM] </span><span style=\"color: #000080; text-decoration-color: #000080\">INFO    </span> Finished tile extraction for <span style=\"color: #008000; text-decoration-color: #008000\">16B1796-V</span> (101279 tiles of 207360 possible)                    \n",
       "</pre>\n"
      ],
      "text/plain": [
       "\u001b[2;36m[03:12:27 PM]\u001b[0m\u001b[2;36m \u001b[0m\u001b[34mINFO    \u001b[0m Finished tile extraction for \u001b[32m16B1796-V\u001b[0m (101279 tiles of 207360 possible)                    \n"
      ]
     },
     "metadata": {},
     "output_type": "display_data"
    },
    {
     "data": {
      "text/html": [
       "<pre style=\"white-space:pre;overflow-x:auto;line-height:normal;font-family:Menlo,'DejaVu Sans Mono',consolas,'Courier New',monospace\"><span style=\"color: #7fbfbf; text-decoration-color: #7fbfbf\">              </span><span style=\"color: #000080; text-decoration-color: #000080\">INFO    </span> No ROI for 19B1706-V, using whole slide.                                                    \n",
       "</pre>\n"
      ],
      "text/plain": [
       "\u001b[2;36m             \u001b[0m\u001b[2;36m \u001b[0m\u001b[34mINFO    \u001b[0m No ROI for 19B1706-V, using whole slide.                                                    \n"
      ]
     },
     "metadata": {},
     "output_type": "display_data"
    },
    {
     "data": {
      "text/html": [
       "<pre style=\"white-space:pre;overflow-x:auto;line-height:normal;font-family:Menlo,'DejaVu Sans Mono',consolas,'Courier New',monospace\">/home/user/stage-lucas/lib/python3.10/site-packages/numpy/core/fromnumeric.py:3464: RuntimeWarning: Mean of empty \n",
       "slice.\n",
       "  return _methods._mean(a, axis=axis, dtype=dtype,\n",
       "</pre>\n"
      ],
      "text/plain": [
       "/home/user/stage-lucas/lib/python3.10/site-packages/numpy/core/fromnumeric.py:3464: RuntimeWarning: Mean of empty \n",
       "slice.\n",
       "  return _methods._mean(a, axis=axis, dtype=dtype,\n"
      ]
     },
     "metadata": {},
     "output_type": "display_data"
    },
    {
     "data": {
      "text/html": [
       "<pre style=\"white-space:pre;overflow-x:auto;line-height:normal;font-family:Menlo,'DejaVu Sans Mono',consolas,'Courier New',monospace\">/home/user/stage-lucas/lib/python3.10/site-packages/numpy/core/_methods.py:192: RuntimeWarning: invalid value \n",
       "encountered in scalar divide\n",
       "  ret = ret.dtype.type(ret / rcount)\n",
       "</pre>\n"
      ],
      "text/plain": [
       "/home/user/stage-lucas/lib/python3.10/site-packages/numpy/core/_methods.py:192: RuntimeWarning: invalid value \n",
       "encountered in scalar divide\n",
       "  ret = ret.dtype.type(ret / rcount)\n"
      ]
     },
     "metadata": {},
     "output_type": "display_data"
    },
    {
     "data": {
      "text/html": [
       "<pre style=\"white-space:pre;overflow-x:auto;line-height:normal;font-family:Menlo,'DejaVu Sans Mono',consolas,'Courier New',monospace\"><span style=\"color: #7fbfbf; text-decoration-color: #7fbfbf\">[03:22:08 PM] </span><span style=\"color: #000080; text-decoration-color: #000080\">INFO    </span> Finished tile extraction for <span style=\"color: #008000; text-decoration-color: #008000\">19B1706-V</span> (45531 tiles of 248832 possible)                     \n",
       "</pre>\n"
      ],
      "text/plain": [
       "\u001b[2;36m[03:22:08 PM]\u001b[0m\u001b[2;36m \u001b[0m\u001b[34mINFO    \u001b[0m Finished tile extraction for \u001b[32m19B1706-V\u001b[0m (45531 tiles of 248832 possible)                     \n"
      ]
     },
     "metadata": {},
     "output_type": "display_data"
    },
    {
     "data": {
      "text/html": [
       "<pre style=\"white-space:pre;overflow-x:auto;line-height:normal;font-family:Menlo,'DejaVu Sans Mono',consolas,'Courier New',monospace\"><span style=\"color: #7fbfbf; text-decoration-color: #7fbfbf\">              </span><span style=\"color: #000080; text-decoration-color: #000080\">INFO    </span> No ROI for 17B0388-V, using whole slide.                                                    \n",
       "</pre>\n"
      ],
      "text/plain": [
       "\u001b[2;36m             \u001b[0m\u001b[2;36m \u001b[0m\u001b[34mINFO    \u001b[0m No ROI for 17B0388-V, using whole slide.                                                    \n"
      ]
     },
     "metadata": {},
     "output_type": "display_data"
    },
    {
     "data": {
      "text/html": [
       "<pre style=\"white-space:pre;overflow-x:auto;line-height:normal;font-family:Menlo,'DejaVu Sans Mono',consolas,'Courier New',monospace\">/home/user/stage-lucas/lib/python3.10/site-packages/numpy/core/fromnumeric.py:3464: RuntimeWarning: Mean of empty \n",
       "slice.\n",
       "  return _methods._mean(a, axis=axis, dtype=dtype,\n",
       "</pre>\n"
      ],
      "text/plain": [
       "/home/user/stage-lucas/lib/python3.10/site-packages/numpy/core/fromnumeric.py:3464: RuntimeWarning: Mean of empty \n",
       "slice.\n",
       "  return _methods._mean(a, axis=axis, dtype=dtype,\n"
      ]
     },
     "metadata": {},
     "output_type": "display_data"
    },
    {
     "data": {
      "text/html": [
       "<pre style=\"white-space:pre;overflow-x:auto;line-height:normal;font-family:Menlo,'DejaVu Sans Mono',consolas,'Courier New',monospace\">/home/user/stage-lucas/lib/python3.10/site-packages/numpy/core/_methods.py:192: RuntimeWarning: invalid value \n",
       "encountered in scalar divide\n",
       "  ret = ret.dtype.type(ret / rcount)\n",
       "</pre>\n"
      ],
      "text/plain": [
       "/home/user/stage-lucas/lib/python3.10/site-packages/numpy/core/_methods.py:192: RuntimeWarning: invalid value \n",
       "encountered in scalar divide\n",
       "  ret = ret.dtype.type(ret / rcount)\n"
      ]
     },
     "metadata": {},
     "output_type": "display_data"
    },
    {
     "data": {
      "text/html": [
       "<pre style=\"white-space:pre;overflow-x:auto;line-height:normal;font-family:Menlo,'DejaVu Sans Mono',consolas,'Courier New',monospace\"><span style=\"color: #7fbfbf; text-decoration-color: #7fbfbf\">[03:35:18 PM] </span><span style=\"color: #000080; text-decoration-color: #000080\">INFO    </span> Finished tile extraction for <span style=\"color: #008000; text-decoration-color: #008000\">17B0388-V</span> (45930 tiles of 290304 possible)                     \n",
       "</pre>\n"
      ],
      "text/plain": [
       "\u001b[2;36m[03:35:18 PM]\u001b[0m\u001b[2;36m \u001b[0m\u001b[34mINFO    \u001b[0m Finished tile extraction for \u001b[32m17B0388-V\u001b[0m (45930 tiles of 290304 possible)                     \n"
      ]
     },
     "metadata": {},
     "output_type": "display_data"
    },
    {
     "data": {
      "text/html": [
       "<pre style=\"white-space:pre;overflow-x:auto;line-height:normal;font-family:Menlo,'DejaVu Sans Mono',consolas,'Courier New',monospace\"><span style=\"color: #7fbfbf; text-decoration-color: #7fbfbf\">              </span><span style=\"color: #000080; text-decoration-color: #000080\">INFO    </span> No ROI for 18B3399-V, using whole slide.                                                    \n",
       "</pre>\n"
      ],
      "text/plain": [
       "\u001b[2;36m             \u001b[0m\u001b[2;36m \u001b[0m\u001b[34mINFO    \u001b[0m No ROI for 18B3399-V, using whole slide.                                                    \n"
      ]
     },
     "metadata": {},
     "output_type": "display_data"
    },
    {
     "data": {
      "text/html": [
       "<pre style=\"white-space:pre;overflow-x:auto;line-height:normal;font-family:Menlo,'DejaVu Sans Mono',consolas,'Courier New',monospace\">/home/user/stage-lucas/lib/python3.10/site-packages/numpy/core/fromnumeric.py:3464: RuntimeWarning: Mean of empty \n",
       "slice.\n",
       "  return _methods._mean(a, axis=axis, dtype=dtype,\n",
       "</pre>\n"
      ],
      "text/plain": [
       "/home/user/stage-lucas/lib/python3.10/site-packages/numpy/core/fromnumeric.py:3464: RuntimeWarning: Mean of empty \n",
       "slice.\n",
       "  return _methods._mean(a, axis=axis, dtype=dtype,\n"
      ]
     },
     "metadata": {},
     "output_type": "display_data"
    },
    {
     "data": {
      "text/html": [
       "<pre style=\"white-space:pre;overflow-x:auto;line-height:normal;font-family:Menlo,'DejaVu Sans Mono',consolas,'Courier New',monospace\">/home/user/stage-lucas/lib/python3.10/site-packages/numpy/core/_methods.py:192: RuntimeWarning: invalid value \n",
       "encountered in scalar divide\n",
       "  ret = ret.dtype.type(ret / rcount)\n",
       "</pre>\n"
      ],
      "text/plain": [
       "/home/user/stage-lucas/lib/python3.10/site-packages/numpy/core/_methods.py:192: RuntimeWarning: invalid value \n",
       "encountered in scalar divide\n",
       "  ret = ret.dtype.type(ret / rcount)\n"
      ]
     },
     "metadata": {},
     "output_type": "display_data"
    },
    {
     "data": {
      "text/html": [
       "<pre style=\"white-space:pre;overflow-x:auto;line-height:normal;font-family:Menlo,'DejaVu Sans Mono',consolas,'Courier New',monospace\"><span style=\"color: #7fbfbf; text-decoration-color: #7fbfbf\">[03:38:25 PM] </span><span style=\"color: #000080; text-decoration-color: #000080\">INFO    </span> Finished tile extraction for <span style=\"color: #008000; text-decoration-color: #008000\">18B3399-V</span> (18506 tiles of 122880 possible)                     \n",
       "</pre>\n"
      ],
      "text/plain": [
       "\u001b[2;36m[03:38:25 PM]\u001b[0m\u001b[2;36m \u001b[0m\u001b[34mINFO    \u001b[0m Finished tile extraction for \u001b[32m18B3399-V\u001b[0m (18506 tiles of 122880 possible)                     \n"
      ]
     },
     "metadata": {},
     "output_type": "display_data"
    },
    {
     "data": {
      "text/html": [
       "<pre style=\"white-space:pre;overflow-x:auto;line-height:normal;font-family:Menlo,'DejaVu Sans Mono',consolas,'Courier New',monospace\"><span style=\"color: #7fbfbf; text-decoration-color: #7fbfbf\">              </span><span style=\"color: #000080; text-decoration-color: #000080\">INFO    </span> No ROI for 18B1215-V, using whole slide.                                                    \n",
       "</pre>\n"
      ],
      "text/plain": [
       "\u001b[2;36m             \u001b[0m\u001b[2;36m \u001b[0m\u001b[34mINFO    \u001b[0m No ROI for 18B1215-V, using whole slide.                                                    \n"
      ]
     },
     "metadata": {},
     "output_type": "display_data"
    },
    {
     "data": {
      "text/html": [
       "<pre style=\"white-space:pre;overflow-x:auto;line-height:normal;font-family:Menlo,'DejaVu Sans Mono',consolas,'Courier New',monospace\"><span style=\"color: #7fbfbf; text-decoration-color: #7fbfbf\">[03:39:27 PM] </span><span style=\"color: #000080; text-decoration-color: #000080\">INFO    </span> Finished tile extraction for <span style=\"color: #008000; text-decoration-color: #008000\">18B1215-V</span> (4873 tiles of 4897 possible)                        \n",
       "</pre>\n"
      ],
      "text/plain": [
       "\u001b[2;36m[03:39:27 PM]\u001b[0m\u001b[2;36m \u001b[0m\u001b[34mINFO    \u001b[0m Finished tile extraction for \u001b[32m18B1215-V\u001b[0m (4873 tiles of 4897 possible)                        \n"
      ]
     },
     "metadata": {},
     "output_type": "display_data"
    },
    {
     "data": {
      "text/html": [
       "<pre style=\"white-space:pre;overflow-x:auto;line-height:normal;font-family:Menlo,'DejaVu Sans Mono',consolas,'Courier New',monospace\"><span style=\"color: #7fbfbf; text-decoration-color: #7fbfbf\">              </span><span style=\"color: #000080; text-decoration-color: #000080\">INFO    </span> No ROI for 19B2519-V, using whole slide.                                                    \n",
       "</pre>\n"
      ],
      "text/plain": [
       "\u001b[2;36m             \u001b[0m\u001b[2;36m \u001b[0m\u001b[34mINFO    \u001b[0m No ROI for 19B2519-V, using whole slide.                                                    \n"
      ]
     },
     "metadata": {},
     "output_type": "display_data"
    },
    {
     "data": {
      "text/html": [
       "<pre style=\"white-space:pre;overflow-x:auto;line-height:normal;font-family:Menlo,'DejaVu Sans Mono',consolas,'Courier New',monospace\">/home/user/stage-lucas/lib/python3.10/site-packages/numpy/core/fromnumeric.py:3464: RuntimeWarning: Mean of empty \n",
       "slice.\n",
       "  return _methods._mean(a, axis=axis, dtype=dtype,\n",
       "</pre>\n"
      ],
      "text/plain": [
       "/home/user/stage-lucas/lib/python3.10/site-packages/numpy/core/fromnumeric.py:3464: RuntimeWarning: Mean of empty \n",
       "slice.\n",
       "  return _methods._mean(a, axis=axis, dtype=dtype,\n"
      ]
     },
     "metadata": {},
     "output_type": "display_data"
    },
    {
     "data": {
      "text/html": [
       "<pre style=\"white-space:pre;overflow-x:auto;line-height:normal;font-family:Menlo,'DejaVu Sans Mono',consolas,'Courier New',monospace\">/home/user/stage-lucas/lib/python3.10/site-packages/numpy/core/_methods.py:192: RuntimeWarning: invalid value \n",
       "encountered in scalar divide\n",
       "  ret = ret.dtype.type(ret / rcount)\n",
       "</pre>\n"
      ],
      "text/plain": [
       "/home/user/stage-lucas/lib/python3.10/site-packages/numpy/core/_methods.py:192: RuntimeWarning: invalid value \n",
       "encountered in scalar divide\n",
       "  ret = ret.dtype.type(ret / rcount)\n"
      ]
     },
     "metadata": {},
     "output_type": "display_data"
    },
    {
     "data": {
      "text/html": [
       "<pre style=\"white-space:pre;overflow-x:auto;line-height:normal;font-family:Menlo,'DejaVu Sans Mono',consolas,'Courier New',monospace\"><span style=\"color: #7fbfbf; text-decoration-color: #7fbfbf\">[03:39:46 PM] </span><span style=\"color: #000080; text-decoration-color: #000080\">INFO    </span> Finished tile extraction for <span style=\"color: #008000; text-decoration-color: #008000\">19B2519-V</span> (2256 tiles of 15360 possible)                       \n",
       "</pre>\n"
      ],
      "text/plain": [
       "\u001b[2;36m[03:39:46 PM]\u001b[0m\u001b[2;36m \u001b[0m\u001b[34mINFO    \u001b[0m Finished tile extraction for \u001b[32m19B2519-V\u001b[0m (2256 tiles of 15360 possible)                       \n"
      ]
     },
     "metadata": {},
     "output_type": "display_data"
    },
    {
     "data": {
      "text/html": [
       "<pre style=\"white-space:pre;overflow-x:auto;line-height:normal;font-family:Menlo,'DejaVu Sans Mono',consolas,'Courier New',monospace\"><span style=\"color: #7fbfbf; text-decoration-color: #7fbfbf\">              </span><span style=\"color: #000080; text-decoration-color: #000080\">INFO    </span> No ROI for 17B3422-V, using whole slide.                                                    \n",
       "</pre>\n"
      ],
      "text/plain": [
       "\u001b[2;36m             \u001b[0m\u001b[2;36m \u001b[0m\u001b[34mINFO    \u001b[0m No ROI for 17B3422-V, using whole slide.                                                    \n"
      ]
     },
     "metadata": {},
     "output_type": "display_data"
    },
    {
     "data": {
      "text/html": [
       "<pre style=\"white-space:pre;overflow-x:auto;line-height:normal;font-family:Menlo,'DejaVu Sans Mono',consolas,'Courier New',monospace\"><span style=\"color: #7fbfbf; text-decoration-color: #7fbfbf\">[03:42:23 PM] </span><span style=\"color: #000080; text-decoration-color: #000080\">INFO    </span> Finished tile extraction for <span style=\"color: #008000; text-decoration-color: #008000\">17B3422-V</span> (36114 tiles of 36256 possible)                      \n",
       "</pre>\n"
      ],
      "text/plain": [
       "\u001b[2;36m[03:42:23 PM]\u001b[0m\u001b[2;36m \u001b[0m\u001b[34mINFO    \u001b[0m Finished tile extraction for \u001b[32m17B3422-V\u001b[0m (36114 tiles of 36256 possible)                      \n"
      ]
     },
     "metadata": {},
     "output_type": "display_data"
    },
    {
     "data": {
      "text/html": [
       "<pre style=\"white-space:pre;overflow-x:auto;line-height:normal;font-family:Menlo,'DejaVu Sans Mono',consolas,'Courier New',monospace\"><span style=\"color: #7fbfbf; text-decoration-color: #7fbfbf\">              </span><span style=\"color: #000080; text-decoration-color: #000080\">INFO    </span> No ROI for 20B1055-V, using whole slide.                                                    \n",
       "</pre>\n"
      ],
      "text/plain": [
       "\u001b[2;36m             \u001b[0m\u001b[2;36m \u001b[0m\u001b[34mINFO    \u001b[0m No ROI for 20B1055-V, using whole slide.                                                    \n"
      ]
     },
     "metadata": {},
     "output_type": "display_data"
    },
    {
     "data": {
      "text/html": [
       "<pre style=\"white-space:pre;overflow-x:auto;line-height:normal;font-family:Menlo,'DejaVu Sans Mono',consolas,'Courier New',monospace\"><span style=\"color: #7fbfbf; text-decoration-color: #7fbfbf\">[03:44:18 PM] </span><span style=\"color: #000080; text-decoration-color: #000080\">INFO    </span> Finished tile extraction for <span style=\"color: #008000; text-decoration-color: #008000\">20B1055-V</span> (26051 tiles of 26364 possible)                      \n",
       "</pre>\n"
      ],
      "text/plain": [
       "\u001b[2;36m[03:44:18 PM]\u001b[0m\u001b[2;36m \u001b[0m\u001b[34mINFO    \u001b[0m Finished tile extraction for \u001b[32m20B1055-V\u001b[0m (26051 tiles of 26364 possible)                      \n"
      ]
     },
     "metadata": {},
     "output_type": "display_data"
    },
    {
     "data": {
      "text/html": [
       "<pre style=\"white-space:pre;overflow-x:auto;line-height:normal;font-family:Menlo,'DejaVu Sans Mono',consolas,'Courier New',monospace\"><span style=\"color: #7fbfbf; text-decoration-color: #7fbfbf\">              </span><span style=\"color: #000080; text-decoration-color: #000080\">INFO    </span> No ROI for 20B0009-V, using whole slide.                                                    \n",
       "</pre>\n"
      ],
      "text/plain": [
       "\u001b[2;36m             \u001b[0m\u001b[2;36m \u001b[0m\u001b[34mINFO    \u001b[0m No ROI for 20B0009-V, using whole slide.                                                    \n"
      ]
     },
     "metadata": {},
     "output_type": "display_data"
    },
    {
     "data": {
      "text/html": [
       "<pre style=\"white-space:pre;overflow-x:auto;line-height:normal;font-family:Menlo,'DejaVu Sans Mono',consolas,'Courier New',monospace\"><span style=\"color: #7fbfbf; text-decoration-color: #7fbfbf\">[03:56:05 PM] </span><span style=\"color: #000080; text-decoration-color: #000080\">INFO    </span> Finished tile extraction for <span style=\"color: #008000; text-decoration-color: #008000\">20B0009-V</span> (136184 tiles of 136765 possible)                    \n",
       "</pre>\n"
      ],
      "text/plain": [
       "\u001b[2;36m[03:56:05 PM]\u001b[0m\u001b[2;36m \u001b[0m\u001b[34mINFO    \u001b[0m Finished tile extraction for \u001b[32m20B0009-V\u001b[0m (136184 tiles of 136765 possible)                    \n"
      ]
     },
     "metadata": {},
     "output_type": "display_data"
    },
    {
     "data": {
      "text/html": [
       "<pre style=\"white-space:pre;overflow-x:auto;line-height:normal;font-family:Menlo,'DejaVu Sans Mono',consolas,'Courier New',monospace\"><span style=\"color: #7fbfbf; text-decoration-color: #7fbfbf\">[03:56:06 PM] </span><span style=\"color: #000080; text-decoration-color: #000080\">INFO    </span> No ROI for 20B0913-V, using whole slide.                                                    \n",
       "</pre>\n"
      ],
      "text/plain": [
       "\u001b[2;36m[03:56:06 PM]\u001b[0m\u001b[2;36m \u001b[0m\u001b[34mINFO    \u001b[0m No ROI for 20B0913-V, using whole slide.                                                    \n"
      ]
     },
     "metadata": {},
     "output_type": "display_data"
    },
    {
     "data": {
      "text/html": [
       "<pre style=\"white-space:pre;overflow-x:auto;line-height:normal;font-family:Menlo,'DejaVu Sans Mono',consolas,'Courier New',monospace\"><span style=\"color: #7fbfbf; text-decoration-color: #7fbfbf\">[03:56:39 PM] </span><span style=\"color: #000080; text-decoration-color: #000080\">INFO    </span> Finished tile extraction for <span style=\"color: #008000; text-decoration-color: #008000\">20B0913-V</span> (7527 tiles of 7702 possible)                        \n",
       "</pre>\n"
      ],
      "text/plain": [
       "\u001b[2;36m[03:56:39 PM]\u001b[0m\u001b[2;36m \u001b[0m\u001b[34mINFO    \u001b[0m Finished tile extraction for \u001b[32m20B0913-V\u001b[0m (7527 tiles of 7702 possible)                        \n"
      ]
     },
     "metadata": {},
     "output_type": "display_data"
    },
    {
     "data": {
      "text/html": [
       "<pre style=\"white-space:pre;overflow-x:auto;line-height:normal;font-family:Menlo,'DejaVu Sans Mono',consolas,'Courier New',monospace\"><span style=\"color: #7fbfbf; text-decoration-color: #7fbfbf\">              </span><span style=\"color: #000080; text-decoration-color: #000080\">INFO    </span> No ROI for 16B1334-V, using whole slide.                                                    \n",
       "</pre>\n"
      ],
      "text/plain": [
       "\u001b[2;36m             \u001b[0m\u001b[2;36m \u001b[0m\u001b[34mINFO    \u001b[0m No ROI for 16B1334-V, using whole slide.                                                    \n"
      ]
     },
     "metadata": {},
     "output_type": "display_data"
    },
    {
     "data": {
      "text/html": [
       "<pre style=\"white-space:pre;overflow-x:auto;line-height:normal;font-family:Menlo,'DejaVu Sans Mono',consolas,'Courier New',monospace\">/home/user/stage-lucas/lib/python3.10/site-packages/numpy/core/fromnumeric.py:3464: RuntimeWarning: Mean of empty \n",
       "slice.\n",
       "  return _methods._mean(a, axis=axis, dtype=dtype,\n",
       "</pre>\n"
      ],
      "text/plain": [
       "/home/user/stage-lucas/lib/python3.10/site-packages/numpy/core/fromnumeric.py:3464: RuntimeWarning: Mean of empty \n",
       "slice.\n",
       "  return _methods._mean(a, axis=axis, dtype=dtype,\n"
      ]
     },
     "metadata": {},
     "output_type": "display_data"
    },
    {
     "data": {
      "text/html": [
       "<pre style=\"white-space:pre;overflow-x:auto;line-height:normal;font-family:Menlo,'DejaVu Sans Mono',consolas,'Courier New',monospace\">/home/user/stage-lucas/lib/python3.10/site-packages/numpy/core/_methods.py:192: RuntimeWarning: invalid value \n",
       "encountered in scalar divide\n",
       "  ret = ret.dtype.type(ret / rcount)\n",
       "</pre>\n"
      ],
      "text/plain": [
       "/home/user/stage-lucas/lib/python3.10/site-packages/numpy/core/_methods.py:192: RuntimeWarning: invalid value \n",
       "encountered in scalar divide\n",
       "  ret = ret.dtype.type(ret / rcount)\n"
      ]
     },
     "metadata": {},
     "output_type": "display_data"
    },
    {
     "data": {
      "text/html": [
       "<pre style=\"white-space:pre;overflow-x:auto;line-height:normal;font-family:Menlo,'DejaVu Sans Mono',consolas,'Courier New',monospace\"><span style=\"color: #7fbfbf; text-decoration-color: #7fbfbf\">[03:57:20 PM] </span><span style=\"color: #000080; text-decoration-color: #000080\">INFO    </span> Finished tile extraction for <span style=\"color: #008000; text-decoration-color: #008000\">16B1334-V</span> (7051 tiles of 29952 possible)                       \n",
       "</pre>\n"
      ],
      "text/plain": [
       "\u001b[2;36m[03:57:20 PM]\u001b[0m\u001b[2;36m \u001b[0m\u001b[34mINFO    \u001b[0m Finished tile extraction for \u001b[32m16B1334-V\u001b[0m (7051 tiles of 29952 possible)                       \n"
      ]
     },
     "metadata": {},
     "output_type": "display_data"
    },
    {
     "data": {
      "text/html": [
       "<pre style=\"white-space:pre;overflow-x:auto;line-height:normal;font-family:Menlo,'DejaVu Sans Mono',consolas,'Courier New',monospace\"><span style=\"color: #7fbfbf; text-decoration-color: #7fbfbf\">[03:57:21 PM] </span><span style=\"color: #000080; text-decoration-color: #000080\">INFO    </span> No ROI for 17B0568-V, using whole slide.                                                    \n",
       "</pre>\n"
      ],
      "text/plain": [
       "\u001b[2;36m[03:57:21 PM]\u001b[0m\u001b[2;36m \u001b[0m\u001b[34mINFO    \u001b[0m No ROI for 17B0568-V, using whole slide.                                                    \n"
      ]
     },
     "metadata": {},
     "output_type": "display_data"
    },
    {
     "data": {
      "text/html": [
       "<pre style=\"white-space:pre;overflow-x:auto;line-height:normal;font-family:Menlo,'DejaVu Sans Mono',consolas,'Courier New',monospace\">/home/user/stage-lucas/lib/python3.10/site-packages/numpy/core/fromnumeric.py:3464: RuntimeWarning: Mean of empty \n",
       "slice.\n",
       "  return _methods._mean(a, axis=axis, dtype=dtype,\n",
       "</pre>\n"
      ],
      "text/plain": [
       "/home/user/stage-lucas/lib/python3.10/site-packages/numpy/core/fromnumeric.py:3464: RuntimeWarning: Mean of empty \n",
       "slice.\n",
       "  return _methods._mean(a, axis=axis, dtype=dtype,\n"
      ]
     },
     "metadata": {},
     "output_type": "display_data"
    },
    {
     "data": {
      "text/html": [
       "<pre style=\"white-space:pre;overflow-x:auto;line-height:normal;font-family:Menlo,'DejaVu Sans Mono',consolas,'Courier New',monospace\">/home/user/stage-lucas/lib/python3.10/site-packages/numpy/core/_methods.py:192: RuntimeWarning: invalid value \n",
       "encountered in scalar divide\n",
       "  ret = ret.dtype.type(ret / rcount)\n",
       "</pre>\n"
      ],
      "text/plain": [
       "/home/user/stage-lucas/lib/python3.10/site-packages/numpy/core/_methods.py:192: RuntimeWarning: invalid value \n",
       "encountered in scalar divide\n",
       "  ret = ret.dtype.type(ret / rcount)\n"
      ]
     },
     "metadata": {},
     "output_type": "display_data"
    },
    {
     "data": {
      "text/html": [
       "<pre style=\"white-space:pre;overflow-x:auto;line-height:normal;font-family:Menlo,'DejaVu Sans Mono',consolas,'Courier New',monospace\"><span style=\"color: #7fbfbf; text-decoration-color: #7fbfbf\">[04:01:45 PM] </span><span style=\"color: #000080; text-decoration-color: #000080\">INFO    </span> Finished tile extraction for <span style=\"color: #008000; text-decoration-color: #008000\">17B0568-V</span> (39902 tiles of 123648 possible)                     \n",
       "</pre>\n"
      ],
      "text/plain": [
       "\u001b[2;36m[04:01:45 PM]\u001b[0m\u001b[2;36m \u001b[0m\u001b[34mINFO    \u001b[0m Finished tile extraction for \u001b[32m17B0568-V\u001b[0m (39902 tiles of 123648 possible)                     \n"
      ]
     },
     "metadata": {},
     "output_type": "display_data"
    },
    {
     "data": {
      "text/html": [
       "<pre style=\"white-space:pre;overflow-x:auto;line-height:normal;font-family:Menlo,'DejaVu Sans Mono',consolas,'Courier New',monospace\"><span style=\"color: #7fbfbf; text-decoration-color: #7fbfbf\">              </span><span style=\"color: #000080; text-decoration-color: #000080\">INFO    </span> No ROI for 19B3856-V, using whole slide.                                                    \n",
       "</pre>\n"
      ],
      "text/plain": [
       "\u001b[2;36m             \u001b[0m\u001b[2;36m \u001b[0m\u001b[34mINFO    \u001b[0m No ROI for 19B3856-V, using whole slide.                                                    \n"
      ]
     },
     "metadata": {},
     "output_type": "display_data"
    },
    {
     "data": {
      "text/html": [
       "<pre style=\"white-space:pre;overflow-x:auto;line-height:normal;font-family:Menlo,'DejaVu Sans Mono',consolas,'Courier New',monospace\"><span style=\"color: #7fbfbf; text-decoration-color: #7fbfbf\">[04:08:25 PM] </span><span style=\"color: #000080; text-decoration-color: #000080\">INFO    </span> Finished tile extraction for <span style=\"color: #008000; text-decoration-color: #008000\">19B3856-V</span> (94758 tiles of 94891 possible)                      \n",
       "</pre>\n"
      ],
      "text/plain": [
       "\u001b[2;36m[04:08:25 PM]\u001b[0m\u001b[2;36m \u001b[0m\u001b[34mINFO    \u001b[0m Finished tile extraction for \u001b[32m19B3856-V\u001b[0m (94758 tiles of 94891 possible)                      \n"
      ]
     },
     "metadata": {},
     "output_type": "display_data"
    },
    {
     "data": {
      "text/html": [
       "<pre style=\"white-space:pre;overflow-x:auto;line-height:normal;font-family:Menlo,'DejaVu Sans Mono',consolas,'Courier New',monospace\"></pre>\n"
      ],
      "text/plain": []
     },
     "metadata": {},
     "output_type": "display_data"
    },
    {
     "data": {
      "text/html": [
       "<pre style=\"white-space:pre;overflow-x:auto;line-height:normal;font-family:Menlo,'DejaVu Sans Mono',consolas,'Courier New',monospace\">\n",
       "</pre>\n"
      ],
      "text/plain": [
       "\n"
      ]
     },
     "metadata": {},
     "output_type": "display_data"
    },
    {
     "data": {
      "text/html": [
       "<pre style=\"white-space:pre;overflow-x:auto;line-height:normal;font-family:Menlo,'DejaVu Sans Mono',consolas,'Courier New',monospace\"><span style=\"color: #7fbfbf; text-decoration-color: #7fbfbf\">              </span><span style=\"color: #000080; text-decoration-color: #000080\">INFO    </span> Generating PDF (this may take some time)...                                                 \n",
       "</pre>\n"
      ],
      "text/plain": [
       "\u001b[2;36m             \u001b[0m\u001b[2;36m \u001b[0m\u001b[34mINFO    \u001b[0m Generating PDF (this may take some time)...                                                 \n"
      ]
     },
     "metadata": {},
     "output_type": "display_data"
    },
    {
     "name": "stderr",
     "output_type": "stream",
     "text": [
      "/home/user/stage-lucas/lib/python3.10/site-packages/fpdf/fpdf.py:1919: UserWarning: Substituting font arial by core font helvetica\n",
      "  warnings.warn(\n",
      "findfont: Font family 'Arial' not found.\n",
      "findfont: Font family 'Arial' not found.\n",
      "findfont: Font family 'Arial' not found.\n",
      "findfont: Font family 'Arial' not found.\n",
      "findfont: Font family 'Arial' not found.\n",
      "findfont: Font family 'Arial' not found.\n",
      "findfont: Font family 'Arial' not found.\n",
      "/home/user/stage-lucas/lib/python3.10/site-packages/fpdf/fpdf.py:1919: UserWarning: Substituting font arial by core font helvetica\n",
      "  warnings.warn(\n"
     ]
    },
    {
     "name": "stdout",
     "output_type": "stream",
     "text": [
      "Updating CSV for 57 reports.\n"
     ]
    },
    {
     "data": {
      "application/vnd.jupyter.widget-view+json": {
       "model_id": "c043a5166a8c494f8c7d1ba78776fc00",
       "version_major": 2,
       "version_minor": 0
      },
      "text/plain": [
       "Output()"
      ]
     },
     "metadata": {},
     "output_type": "display_data"
    },
    {
     "data": {
      "text/html": [
       "<pre style=\"white-space:pre;overflow-x:auto;line-height:normal;font-family:Menlo,'DejaVu Sans Mono',consolas,'Courier New',monospace\"></pre>\n"
      ],
      "text/plain": []
     },
     "metadata": {},
     "output_type": "display_data"
    },
    {
     "data": {
      "text/html": [
       "<pre style=\"white-space:pre;overflow-x:auto;line-height:normal;font-family:Menlo,'DejaVu Sans Mono',consolas,'Courier New',monospace\">\n",
       "</pre>\n"
      ],
      "text/plain": [
       "\n"
      ]
     },
     "metadata": {},
     "output_type": "display_data"
    },
    {
     "data": {
      "application/vnd.jupyter.widget-view+json": {
       "model_id": "21d395473317423eb37b01826d33d8cf",
       "version_major": 2,
       "version_minor": 0
      },
      "text/plain": [
       "Output()"
      ]
     },
     "metadata": {},
     "output_type": "display_data"
    },
    {
     "data": {
      "text/html": [
       "<pre style=\"white-space:pre;overflow-x:auto;line-height:normal;font-family:Menlo,'DejaVu Sans Mono',consolas,'Courier New',monospace\"></pre>\n"
      ],
      "text/plain": []
     },
     "metadata": {},
     "output_type": "display_data"
    },
    {
     "data": {
      "text/html": [
       "<pre style=\"white-space:pre;overflow-x:auto;line-height:normal;font-family:Menlo,'DejaVu Sans Mono',consolas,'Courier New',monospace\">\n",
       "</pre>\n"
      ],
      "text/plain": [
       "\n"
      ]
     },
     "metadata": {},
     "output_type": "display_data"
    },
    {
     "data": {
      "text/plain": [
       "{'0_V/20B0715-V.ndpi': <slideflow.slide.report.SlideReport at 0x7f3a7e7b80d0>,\n",
       " '0_V/17B2392-V.ndpi': <slideflow.slide.report.SlideReport at 0x7f3a7dec0ee0>,\n",
       " '0_V/18B3529-V.ndpi': <slideflow.slide.report.SlideReport at 0x7f3a7dea67a0>,\n",
       " '0_V/18B1466-V.ndpi': <slideflow.slide.report.SlideReport at 0x7f3a7e797f70>,\n",
       " '0_V/18B0543-V.ndpi': <slideflow.slide.report.SlideReport at 0x7f3a7e159060>,\n",
       " '0_V/19B3906-V.ndpi': <slideflow.slide.report.SlideReport at 0x7f3a80c6e5c0>,\n",
       " '0_V/17B0492-V.ndpi': <slideflow.slide.report.SlideReport at 0x7f3a7dea48b0>,\n",
       " '0_V/20B0597-V.ndpi': <slideflow.slide.report.SlideReport at 0x7f3a437866e0>,\n",
       " '0_V/18B0440-V.ndpi': <slideflow.slide.report.SlideReport at 0x7f3a42e77010>,\n",
       " '0_V/20B1369-V.ndpi': <slideflow.slide.report.SlideReport at 0x7f3a42e76c80>,\n",
       " '0_V/19B3612-V.ndpi': <slideflow.slide.report.SlideReport at 0x7f3a42e759f0>,\n",
       " '0_V/16B1229-V.ndpi': <slideflow.slide.report.SlideReport at 0x7f3a42e745b0>,\n",
       " '0_V/20B1068-V.ndpi': <slideflow.slide.report.SlideReport at 0x7f3a7e159570>,\n",
       " '0_V/19B0996-V.ndpi': <slideflow.slide.report.SlideReport at 0x7f3a7e159660>,\n",
       " '0_V/16B1199-V.ndpi': <slideflow.slide.report.SlideReport at 0x7f3a7e159150>,\n",
       " '0_V/17B3010-V.ndpi': <slideflow.slide.report.SlideReport at 0x7f3a437f6230>,\n",
       " '0_V/19B1102-V.ndpi': <slideflow.slide.report.SlideReport at 0x7f3a437f65c0>,\n",
       " '0_V/19B3424-V.ndpi': <slideflow.slide.report.SlideReport at 0x7f3a437f66b0>,\n",
       " '0_V/18B3183-V.ndpi': <slideflow.slide.report.SlideReport at 0x7f3a437f5b70>,\n",
       " '0_V/16B1100-V.ndpi': <slideflow.slide.report.SlideReport at 0x7f3a7e0157e0>,\n",
       " '0_V/20B1090-V.ndpi': <slideflow.slide.report.SlideReport at 0x7f3a7e1142e0>,\n",
       " '0_V/19B1241-V.ndpi': <slideflow.slide.report.SlideReport at 0x7f3a7e114d90>,\n",
       " '0_V/16B0440-V.ndpi': <slideflow.slide.report.SlideReport at 0x7f3a7e113c40>,\n",
       " '0_V/16B0311-V.ndpi': <slideflow.slide.report.SlideReport at 0x7f3a7e113880>,\n",
       " '0_V/19B2381-V.ndpi': <slideflow.slide.report.SlideReport at 0x7f3a7e113e50>,\n",
       " '0_V/17B3436-V.ndpi': <slideflow.slide.report.SlideReport at 0x7f3a7e7374f0>,\n",
       " '0_V/18B0293-V.ndpi': <slideflow.slide.report.SlideReport at 0x7f3a7e7ab220>,\n",
       " '0_V/20B0844-V.ndpi': <slideflow.slide.report.SlideReport at 0x7f3a7e7a9d50>,\n",
       " '0_V/17B3173-V.ndpi': <slideflow.slide.report.SlideReport at 0x7f3a7e7ab370>,\n",
       " '0_V/17B0702-V.ndpi': <slideflow.slide.report.SlideReport at 0x7f3a7e7ab580>,\n",
       " '0_V/18B2826-V.ndpi': <slideflow.slide.report.SlideReport at 0x7f3a7e8d8250>,\n",
       " '0_V/18B2840-V.ndpi': <slideflow.slide.report.SlideReport at 0x7f3a7e8d82e0>,\n",
       " '0_V/17B2660-V.ndpi': <slideflow.slide.report.SlideReport at 0x7f3a7fedda80>,\n",
       " '0_V/20B0692-V.ndpi': <slideflow.slide.report.SlideReport at 0x7f3a7fead720>,\n",
       " '0_V/20B1200-V.ndpi': <slideflow.slide.report.SlideReport at 0x7f3a7e847cd0>,\n",
       " '0_V/17B3044-V.ndpi': <slideflow.slide.report.SlideReport at 0x7f3a7e846800>,\n",
       " '0_V/18B3530-V.ndpi': <slideflow.slide.report.SlideReport at 0x7f3a7e845960>,\n",
       " '0_V/16B0460-V.ndpi': <slideflow.slide.report.SlideReport at 0x7f3a7e844040>,\n",
       " '0_V/19B1678-V.ndpi': <slideflow.slide.report.SlideReport at 0x7f3a7e8477c0>,\n",
       " '0_V/19B2703-V.ndpi': <slideflow.slide.report.SlideReport at 0x7f3a7e8461d0>,\n",
       " '0_V/18B2205-V.ndpi': <slideflow.slide.report.SlideReport at 0x7f3a7e8440d0>,\n",
       " '0_V/19B2922-V.ndpi': <slideflow.slide.report.SlideReport at 0x7f3a802ae020>,\n",
       " '0_V/17B0952-V.ndpi': <slideflow.slide.report.SlideReport at 0x7f3a802ae860>,\n",
       " '0_V/20B0966-V.ndpi': <slideflow.slide.report.SlideReport at 0x7f3a802acfa0>,\n",
       " '0_V/16B1796-V.ndpi': <slideflow.slide.report.SlideReport at 0x7f3a7e82f760>,\n",
       " '0_V/19B1706-V.ndpi': <slideflow.slide.report.SlideReport at 0x7f3a7e82f4f0>,\n",
       " '0_V/17B0388-V.ndpi': <slideflow.slide.report.SlideReport at 0x7f3a7e82eb00>,\n",
       " '0_V/18B3399-V.ndpi': <slideflow.slide.report.SlideReport at 0x7f3a7e82df90>,\n",
       " '0_V/18B1215-V.ndpi': <slideflow.slide.report.SlideReport at 0x7f3a7e82c970>,\n",
       " '0_V/19B2519-V.ndpi': <slideflow.slide.report.SlideReport at 0x7f3a7e82d4b0>,\n",
       " '0_V/17B3422-V.ndpi': <slideflow.slide.report.SlideReport at 0x7f3a7e82d810>,\n",
       " '0_V/20B1055-V.ndpi': <slideflow.slide.report.SlideReport at 0x7f3a7e82c880>,\n",
       " '0_V/20B0009-V.ndpi': <slideflow.slide.report.SlideReport at 0x7f3a7e850a60>,\n",
       " '0_V/20B0913-V.ndpi': <slideflow.slide.report.SlideReport at 0x7f3a7e850250>,\n",
       " '0_V/16B1334-V.ndpi': <slideflow.slide.report.SlideReport at 0x7f3a7e851090>,\n",
       " '0_V/17B0568-V.ndpi': <slideflow.slide.report.SlideReport at 0x7f3a7e852ce0>,\n",
       " '0_V/19B3856-V.ndpi': <slideflow.slide.report.SlideReport at 0x7f3a7e852e30>}"
      ]
     },
     "execution_count": 36,
     "metadata": {},
     "output_type": "execute_result"
    },
    {
     "data": {
      "text/plain": [
       "<Figure size 640x480 with 0 Axes>"
      ]
     },
     "metadata": {},
     "output_type": "display_data"
    }
   ],
   "source": [
    "dataset.extract_tiles(qc='otsu')"
   ]
  },
  {
   "attachments": {},
   "cell_type": "markdown",
   "metadata": {},
   "source": [
    "#### Extract features"
   ]
  },
  {
   "cell_type": "code",
   "execution_count": 30,
   "metadata": {},
   "outputs": [
    {
     "data": {
      "text/html": [
       "<pre style=\"white-space:pre;overflow-x:auto;line-height:normal;font-family:Menlo,'DejaVu Sans Mono',consolas,'Courier New',monospace\"><span style=\"color: #7fbfbf; text-decoration-color: #7fbfbf\">[12:00:08 PM] </span><span style=\"color: #000080; text-decoration-color: #000080\">INFO    </span> Feature extractor resnet50_imagenet available in both Tensorflow and PyTorch backends; using\n",
       "<span style=\"color: #7fbfbf; text-decoration-color: #7fbfbf\">              </span>         active backend torch                                                                        \n",
       "</pre>\n"
      ],
      "text/plain": [
       "\u001b[2;36m[12:00:08 PM]\u001b[0m\u001b[2;36m \u001b[0m\u001b[34mINFO    \u001b[0m Feature extractor resnet50_imagenet available in both Tensorflow and PyTorch backends; using\n",
       "\u001b[2;36m              \u001b[0m         active backend torch                                                                        \n"
      ]
     },
     "metadata": {},
     "output_type": "display_data"
    },
    {
     "data": {
      "text/html": [
       "<pre style=\"white-space:pre;overflow-x:auto;line-height:normal;font-family:Menlo,'DejaVu Sans Mono',consolas,'Courier New',monospace\"><span style=\"color: #7fbfbf; text-decoration-color: #7fbfbf\">              </span><span style=\"color: #000080; text-decoration-color: #000080\">INFO    </span> Using pretraining: <span style=\"color: #008000; text-decoration-color: #008000\">imagenet</span>                                                                 \n",
       "</pre>\n"
      ],
      "text/plain": [
       "\u001b[2;36m             \u001b[0m\u001b[2;36m \u001b[0m\u001b[34mINFO    \u001b[0m Using pretraining: \u001b[32mimagenet\u001b[0m                                                                 \n"
      ]
     },
     "metadata": {},
     "output_type": "display_data"
    },
    {
     "name": "stderr",
     "output_type": "stream",
     "text": [
      "Downloading: \"https://download.pytorch.org/models/resnet50-11ad3fa6.pth\" to /home/user/.cache/torch/hub/checkpoints/resnet50-11ad3fa6.pth\n",
      "100%|██████████| 97.8M/97.8M [00:07<00:00, 13.1MB/s]\n",
      "                                                            \r"
     ]
    },
    {
     "data": {
      "application/vnd.jupyter.widget-view+json": {
       "model_id": "86f5b8cb741f4e79a86d807718307f99",
       "version_major": 2,
       "version_minor": 0
      },
      "text/plain": [
       "Output()"
      ]
     },
     "metadata": {},
     "output_type": "display_data"
    },
    {
     "data": {
      "text/html": [
       "<pre style=\"white-space:pre;overflow-x:auto;line-height:normal;font-family:Menlo,'DejaVu Sans Mono',consolas,'Courier New',monospace\"></pre>\n"
      ],
      "text/plain": []
     },
     "metadata": {},
     "output_type": "display_data"
    },
    {
     "data": {
      "text/html": [
       "<pre style=\"white-space:pre;overflow-x:auto;line-height:normal;font-family:Menlo,'DejaVu Sans Mono',consolas,'Courier New',monospace\">\n",
       "</pre>\n"
      ],
      "text/plain": [
       "\n"
      ]
     },
     "metadata": {},
     "output_type": "display_data"
    },
    {
     "data": {
      "text/html": [
       "<pre style=\"white-space:pre;overflow-x:auto;line-height:normal;font-family:Menlo,'DejaVu Sans Mono',consolas,'Courier New',monospace\"><span style=\"color: #7fbfbf; text-decoration-color: #7fbfbf\">[12:00:19 PM] </span><span style=\"color: #000080; text-decoration-color: #000080\">INFO    </span> Calculating activations for 57 tfrecords (layers=['postconv'])                              \n",
       "</pre>\n"
      ],
      "text/plain": [
       "\u001b[2;36m[12:00:19 PM]\u001b[0m\u001b[2;36m \u001b[0m\u001b[34mINFO    \u001b[0m Calculating activations for 57 tfrecords (layers=['postconv'])                              \n"
      ]
     },
     "metadata": {},
     "output_type": "display_data"
    },
    {
     "data": {
      "text/html": [
       "<pre style=\"white-space:pre;overflow-x:auto;line-height:normal;font-family:Menlo,'DejaVu Sans Mono',consolas,'Courier New',monospace\"><span style=\"color: #7fbfbf; text-decoration-color: #7fbfbf\">              </span><span style=\"color: #000080; text-decoration-color: #000080\">INFO    </span> Generating from <span style=\"color: #008000; text-decoration-color: #008000\">&lt;TorchImagenetLayerExtractor model=resnet50 layers=['postconv'] </span>            \n",
       "<span style=\"color: #7fbfbf; text-decoration-color: #7fbfbf\">              </span>         <span style=\"color: #008000; text-decoration-color: #008000\">n_features=2048&gt;</span>                                                                            \n",
       "</pre>\n"
      ],
      "text/plain": [
       "\u001b[2;36m             \u001b[0m\u001b[2;36m \u001b[0m\u001b[34mINFO    \u001b[0m Generating from \u001b[32m<TorchImagenetLayerExtractor model=resnet50 layers=['postconv'] \u001b[0m            \n",
       "\u001b[2;36m              \u001b[0m         \u001b[32mn_features=2048>\u001b[0m                                                                            \n"
      ]
     },
     "metadata": {},
     "output_type": "display_data"
    },
    {
     "data": {
      "application/vnd.jupyter.widget-view+json": {
       "model_id": "b2a19af9a1db4e91b40c77ac4634cfcc",
       "version_major": 2,
       "version_minor": 0
      },
      "text/plain": [
       "Output()"
      ]
     },
     "metadata": {},
     "output_type": "display_data"
    },
    {
     "data": {
      "text/html": [
       "<pre style=\"white-space:pre;overflow-x:auto;line-height:normal;font-family:Menlo,'DejaVu Sans Mono',consolas,'Courier New',monospace\"></pre>\n"
      ],
      "text/plain": []
     },
     "metadata": {},
     "output_type": "display_data"
    },
    {
     "data": {
      "text/html": [
       "<pre style=\"white-space:pre;overflow-x:auto;line-height:normal;font-family:Menlo,'DejaVu Sans Mono',consolas,'Courier New',monospace\">\n",
       "</pre>\n"
      ],
      "text/plain": [
       "\n"
      ]
     },
     "metadata": {},
     "output_type": "display_data"
    },
    {
     "data": {
      "application/vnd.jupyter.widget-view+json": {
       "model_id": "768ec55f4b2b4510bd3413038f03e01c",
       "version_major": 2,
       "version_minor": 0
      },
      "text/plain": [
       "Output()"
      ]
     },
     "metadata": {},
     "output_type": "display_data"
    },
    {
     "data": {
      "text/html": [
       "<pre style=\"white-space:pre;overflow-x:auto;line-height:normal;font-family:Menlo,'DejaVu Sans Mono',consolas,'Courier New',monospace\"></pre>\n"
      ],
      "text/plain": []
     },
     "metadata": {},
     "output_type": "display_data"
    },
    {
     "data": {
      "text/html": [
       "<pre style=\"white-space:pre;overflow-x:auto;line-height:normal;font-family:Menlo,'DejaVu Sans Mono',consolas,'Courier New',monospace\">\n",
       "</pre>\n"
      ],
      "text/plain": [
       "\n"
      ]
     },
     "metadata": {},
     "output_type": "display_data"
    },
    {
     "ename": "TypeError",
     "evalue": "DatasetFeatures.__init__() missing 1 required positional argument: 'dataset'",
     "output_type": "error",
     "traceback": [
      "\u001b[0;31m---------------------------------------------------------------------------\u001b[0m",
      "\u001b[0;31mTypeError\u001b[0m                                 Traceback (most recent call last)",
      "Cell \u001b[0;32mIn[30], line 11\u001b[0m\n\u001b[1;32m      8\u001b[0m \u001b[39m# Calculate features for this dataset.\u001b[39;00m\n\u001b[1;32m      9\u001b[0m features \u001b[39m=\u001b[39m sf\u001b[39m.\u001b[39mDatasetFeatures(resnet50, dataset)\n\u001b[0;32m---> 11\u001b[0m features \u001b[39m=\u001b[39m sf\u001b[39m.\u001b[39;49mDatasetFeatures(\u001b[39m.\u001b[39;49m\u001b[39m.\u001b[39;49m\u001b[39m.\u001b[39;49m)\n\u001b[1;32m     12\u001b[0m features\u001b[39m.\u001b[39mto_torch(\u001b[39m'\u001b[39m\u001b[39mbags_folde\u001b[39m\u001b[39m'\u001b[39m)\n",
      "\u001b[0;31mTypeError\u001b[0m: DatasetFeatures.__init__() missing 1 required positional argument: 'dataset'"
     ]
    }
   ],
   "source": [
    "from slideflow.model import build_feature_extractor\n",
    "\n",
    "resnet50 = build_feature_extractor(\n",
    "    'resnet50_imagenet',\n",
    "    tile_px=224\n",
    ")\n",
    "\n",
    "# Calculate features for this dataset.\n",
    "features = sf.DatasetFeatures(resnet50, dataset)"
   ]
  },
  {
   "cell_type": "code",
   "execution_count": 31,
   "metadata": {},
   "outputs": [
    {
     "data": {
      "application/vnd.jupyter.widget-view+json": {
       "model_id": "5ec73729b4f1464db09e2b12159e12a3",
       "version_major": 2,
       "version_minor": 0
      },
      "text/plain": [
       "Output()"
      ]
     },
     "metadata": {},
     "output_type": "display_data"
    },
    {
     "data": {
      "text/html": [
       "<pre style=\"white-space:pre;overflow-x:auto;line-height:normal;font-family:Menlo,'DejaVu Sans Mono',consolas,'Courier New',monospace\"></pre>\n"
      ],
      "text/plain": []
     },
     "metadata": {},
     "output_type": "display_data"
    },
    {
     "data": {
      "text/html": [
       "<pre style=\"white-space:pre;overflow-x:auto;line-height:normal;font-family:Menlo,'DejaVu Sans Mono',consolas,'Courier New',monospace\">\n",
       "</pre>\n"
      ],
      "text/plain": [
       "\n"
      ]
     },
     "metadata": {},
     "output_type": "display_data"
    },
    {
     "data": {
      "text/html": [
       "<pre style=\"white-space:pre;overflow-x:auto;line-height:normal;font-family:Menlo,'DejaVu Sans Mono',consolas,'Courier New',monospace\"><span style=\"color: #7fbfbf; text-decoration-color: #7fbfbf\">[04:27:51 PM] </span><span style=\"color: #000080; text-decoration-color: #000080\">INFO    </span> Activations exported in Torch format to bags_folder                                         \n",
       "</pre>\n"
      ],
      "text/plain": [
       "\u001b[2;36m[04:27:51 PM]\u001b[0m\u001b[2;36m \u001b[0m\u001b[34mINFO    \u001b[0m Activations exported in Torch format to bags_folder                                         \n"
      ]
     },
     "metadata": {},
     "output_type": "display_data"
    }
   ],
   "source": [
    "features.to_torch('bags_folder')"
   ]
  },
  {
   "attachments": {},
   "cell_type": "markdown",
   "metadata": {},
   "source": [
    "#### Model configuration"
   ]
  },
  {
   "cell_type": "code",
   "execution_count": 32,
   "metadata": {},
   "outputs": [],
   "source": [
    "from slideflow.mil import mil_config\n",
    "\n",
    "config = mil_config('clam_sb', lr=1e-3, trainer='clam')"
   ]
  },
  {
   "attachments": {},
   "cell_type": "markdown",
   "metadata": {},
   "source": [
    "#### Model training"
   ]
  },
  {
   "attachments": {},
   "cell_type": "markdown",
   "metadata": {},
   "source": [
    "Esto es lo que no funciona. Da problemas en la parte de splits:\n",
    "AnnotationsError: Missing column site."
   ]
  },
  {
   "cell_type": "code",
   "execution_count": null,
   "metadata": {},
   "outputs": [],
   "source": [
    "# Prepare a project and dataset\n",
    "full_dataset = dataset = project.dataset(tile_px=224, tile_um='45x')\n",
    "\n",
    "# Split the dataset using three-fold, site-preserved cross-validation\n",
    "splits = full_dataset.kfold_split(\n",
    "    k=3,\n",
    "    labels='category',\n",
    "    preserved_site=True\n",
    ")\n",
    "\n",
    "# Train on each cross-fold\n",
    "for train, val in splits:\n",
    "    project.train_mil(\n",
    "        config=config,\n",
    "        outcomes='category',\n",
    "        train_dataset=train_dataset,\n",
    "        val_dataset=val,\n",
    "        bags='bags_folder',\n",
    "        attention_heatmaps=True,\n",
    "        cmap='magma',\n",
    "        interpolation=None\n",
    "    )"
   ]
  },
  {
   "attachments": {},
   "cell_type": "markdown",
   "metadata": {},
   "source": [
    "Asi que he intentado hacer esto. Simplemente dividir el dataset manualmente pero da fallos en el entrenamiento."
   ]
  },
  {
   "cell_type": "code",
   "execution_count": 38,
   "metadata": {},
   "outputs": [],
   "source": [
    "train_dataset = project.dataset(tile_px=299, tile_um=302, filters={'dataset': 'train'})\n",
    "eval_dataset = project.dataset(tile_px=299, tile_um=302, filters={'dataset': 'eval'})"
   ]
  },
  {
   "cell_type": "code",
   "execution_count": 39,
   "metadata": {},
   "outputs": [
    {
     "data": {
      "text/html": [
       "<pre style=\"white-space:pre;overflow-x:auto;line-height:normal;font-family:Menlo,'DejaVu Sans Mono',consolas,'Courier New',monospace\"><span style=\"color: #7fbfbf; text-decoration-color: #7fbfbf\">[04:35:17 PM] </span><span style=\"color: #000080; text-decoration-color: #000080\">INFO    </span> Training FastAI MIL model with config:                                                      \n",
       "</pre>\n"
      ],
      "text/plain": [
       "\u001b[2;36m[04:35:17 PM]\u001b[0m\u001b[2;36m \u001b[0m\u001b[34mINFO    \u001b[0m Training FastAI MIL model with config:                                                      \n"
      ]
     },
     "metadata": {},
     "output_type": "display_data"
    },
    {
     "data": {
      "text/html": [
       "<pre style=\"white-space:pre;overflow-x:auto;line-height:normal;font-family:Menlo,'DejaVu Sans Mono',consolas,'Courier New',monospace\"><span style=\"color: #7fbfbf; text-decoration-color: #7fbfbf\">              </span><span style=\"color: #000080; text-decoration-color: #000080\">INFO    </span> TrainerConfigCLAM(                                                                          \n",
       "<span style=\"color: #7fbfbf; text-decoration-color: #7fbfbf\">              </span>           num_splits=1                                                                              \n",
       "<span style=\"color: #7fbfbf; text-decoration-color: #7fbfbf\">              </span>           k=3                                                                                       \n",
       "<span style=\"color: #7fbfbf; text-decoration-color: #7fbfbf\">              </span>           k_start=-1                                                                                \n",
       "<span style=\"color: #7fbfbf; text-decoration-color: #7fbfbf\">              </span>           k_end=-1                                                                                  \n",
       "<span style=\"color: #7fbfbf; text-decoration-color: #7fbfbf\">              </span>           max_epochs=20                                                                             \n",
       "<span style=\"color: #7fbfbf; text-decoration-color: #7fbfbf\">              </span>           lr=0.001                                                                                  \n",
       "<span style=\"color: #7fbfbf; text-decoration-color: #7fbfbf\">              </span>           reg=1e-05                                                                                 \n",
       "<span style=\"color: #7fbfbf; text-decoration-color: #7fbfbf\">              </span>           label_frac=1                                                                              \n",
       "<span style=\"color: #7fbfbf; text-decoration-color: #7fbfbf\">              </span>           weighted_sample=False                                                                     \n",
       "<span style=\"color: #7fbfbf; text-decoration-color: #7fbfbf\">              </span>           log_data=False                                                                            \n",
       "<span style=\"color: #7fbfbf; text-decoration-color: #7fbfbf\">              </span>           testing=False                                                                             \n",
       "<span style=\"color: #7fbfbf; text-decoration-color: #7fbfbf\">              </span>           early_stopping=False                                                                      \n",
       "<span style=\"color: #7fbfbf; text-decoration-color: #7fbfbf\">              </span>           subtyping=False                                                                           \n",
       "<span style=\"color: #7fbfbf; text-decoration-color: #7fbfbf\">              </span>           seed=1                                                                                    \n",
       "<span style=\"color: #7fbfbf; text-decoration-color: #7fbfbf\">              </span>           results_dir=None                                                                          \n",
       "<span style=\"color: #7fbfbf; text-decoration-color: #7fbfbf\">              </span>           n_classes=None                                                                            \n",
       "<span style=\"color: #7fbfbf; text-decoration-color: #7fbfbf\">              </span>           split_dir=None                                                                            \n",
       "<span style=\"color: #7fbfbf; text-decoration-color: #7fbfbf\">              </span>           data_root_dir=None                                                                        \n",
       "<span style=\"color: #7fbfbf; text-decoration-color: #7fbfbf\">              </span>           micro_average=False                                                                       \n",
       "<span style=\"color: #7fbfbf; text-decoration-color: #7fbfbf\">              </span>           model='clam_sb'                                                                           \n",
       "<span style=\"color: #7fbfbf; text-decoration-color: #7fbfbf\">              </span>           model_size='small'                                                                        \n",
       "<span style=\"color: #7fbfbf; text-decoration-color: #7fbfbf\">              </span>           bag_loss='ce'                                                                             \n",
       "<span style=\"color: #7fbfbf; text-decoration-color: #7fbfbf\">              </span>           bag_weight=0.7                                                                            \n",
       "<span style=\"color: #7fbfbf; text-decoration-color: #7fbfbf\">              </span>           dropout=False                                                                             \n",
       "<span style=\"color: #7fbfbf; text-decoration-color: #7fbfbf\">              </span>           opt='adam'                                                                                \n",
       "<span style=\"color: #7fbfbf; text-decoration-color: #7fbfbf\">              </span>           inst_loss='ce'                                                                            \n",
       "<span style=\"color: #7fbfbf; text-decoration-color: #7fbfbf\">              </span>           no_inst_cluster=False                                                                     \n",
       "<span style=\"color: #7fbfbf; text-decoration-color: #7fbfbf\">              </span>           B=8                                                                                       \n",
       "<span style=\"color: #7fbfbf; text-decoration-color: #7fbfbf\">              </span>         )                                                                                           \n",
       "</pre>\n"
      ],
      "text/plain": [
       "\u001b[2;36m             \u001b[0m\u001b[2;36m \u001b[0m\u001b[34mINFO    \u001b[0m TrainerConfigCLAM(                                                                          \n",
       "\u001b[2;36m              \u001b[0m           num_splits=1                                                                              \n",
       "\u001b[2;36m              \u001b[0m           k=3                                                                                       \n",
       "\u001b[2;36m              \u001b[0m           k_start=-1                                                                                \n",
       "\u001b[2;36m              \u001b[0m           k_end=-1                                                                                  \n",
       "\u001b[2;36m              \u001b[0m           max_epochs=20                                                                             \n",
       "\u001b[2;36m              \u001b[0m           lr=0.001                                                                                  \n",
       "\u001b[2;36m              \u001b[0m           reg=1e-05                                                                                 \n",
       "\u001b[2;36m              \u001b[0m           label_frac=1                                                                              \n",
       "\u001b[2;36m              \u001b[0m           weighted_sample=False                                                                     \n",
       "\u001b[2;36m              \u001b[0m           log_data=False                                                                            \n",
       "\u001b[2;36m              \u001b[0m           testing=False                                                                             \n",
       "\u001b[2;36m              \u001b[0m           early_stopping=False                                                                      \n",
       "\u001b[2;36m              \u001b[0m           subtyping=False                                                                           \n",
       "\u001b[2;36m              \u001b[0m           seed=1                                                                                    \n",
       "\u001b[2;36m              \u001b[0m           results_dir=None                                                                          \n",
       "\u001b[2;36m              \u001b[0m           n_classes=None                                                                            \n",
       "\u001b[2;36m              \u001b[0m           split_dir=None                                                                            \n",
       "\u001b[2;36m              \u001b[0m           data_root_dir=None                                                                        \n",
       "\u001b[2;36m              \u001b[0m           micro_average=False                                                                       \n",
       "\u001b[2;36m              \u001b[0m           model='clam_sb'                                                                           \n",
       "\u001b[2;36m              \u001b[0m           model_size='small'                                                                        \n",
       "\u001b[2;36m              \u001b[0m           bag_loss='ce'                                                                             \n",
       "\u001b[2;36m              \u001b[0m           bag_weight=0.7                                                                            \n",
       "\u001b[2;36m              \u001b[0m           dropout=False                                                                             \n",
       "\u001b[2;36m              \u001b[0m           opt='adam'                                                                                \n",
       "\u001b[2;36m              \u001b[0m           inst_loss='ce'                                                                            \n",
       "\u001b[2;36m              \u001b[0m           no_inst_cluster=False                                                                     \n",
       "\u001b[2;36m              \u001b[0m           B=8                                                                                       \n",
       "\u001b[2;36m              \u001b[0m         )                                                                                           \n"
      ]
     },
     "metadata": {},
     "output_type": "display_data"
    },
    {
     "data": {
      "text/html": [
       "<pre style=\"white-space:pre;overflow-x:auto;line-height:normal;font-family:Menlo,'DejaVu Sans Mono',consolas,'Courier New',monospace\"><span style=\"color: #7fbfbf; text-decoration-color: #7fbfbf\">              </span><span style=\"color: #800000; text-decoration-color: #800000\">WARNING </span> <span style=\"color: #808000; text-decoration-color: #808000\">Bags missing for 10 slides.</span>                                                                 \n",
       "</pre>\n"
      ],
      "text/plain": [
       "\u001b[2;36m             \u001b[0m\u001b[2;36m \u001b[0m\u001b[31mWARNING \u001b[0m \u001b[33mBags missing for 10 slides.\u001b[0m                                                                 \n"
      ]
     },
     "metadata": {},
     "output_type": "display_data"
    },
    {
     "data": {
      "text/html": [
       "<pre style=\"white-space:pre;overflow-x:auto;line-height:normal;font-family:Menlo,'DejaVu Sans Mono',consolas,'Courier New',monospace\"><span style=\"color: #7fbfbf; text-decoration-color: #7fbfbf\">[04:35:18 PM] </span><span style=\"color: #800000; text-decoration-color: #800000\">WARNING </span> <span style=\"color: #808000; text-decoration-color: #808000\">Bags missing for 2 slides.</span>                                                                  \n",
       "</pre>\n"
      ],
      "text/plain": [
       "\u001b[2;36m[04:35:18 PM]\u001b[0m\u001b[2;36m \u001b[0m\u001b[31mWARNING \u001b[0m \u001b[33mBags missing for 2 slides.\u001b[0m                                                                  \n"
      ]
     },
     "metadata": {},
     "output_type": "display_data"
    },
    {
     "name": "stderr",
     "output_type": "stream",
     "text": [
      "/home/user/stage-lucas/lib/python3.10/site-packages/slideflow/mil/clam/datasets/dataset_generic.py:134: SettingWithCopyWarning: \n",
      "A value is trying to be set on a copy of a slice from a DataFrame.\n",
      "Try using .loc[row_indexer,col_indexer] = value instead\n",
      "\n",
      "See the caveats in the documentation: https://pandas.pydata.org/pandas-docs/stable/user_guide/indexing.html#returning-a-view-versus-a-copy\n",
      "  data['label'] = data[label_col].copy()\n"
     ]
    },
    {
     "data": {
      "text/html": [
       "<pre style=\"white-space:pre;overflow-x:auto;line-height:normal;font-family:Menlo,'DejaVu Sans Mono',consolas,'Courier New',monospace\"><span style=\"color: #7fbfbf; text-decoration-color: #7fbfbf\">              </span><span style=\"color: #000080; text-decoration-color: #000080\">INFO    </span> Dataset summary                                                                             \n",
       "</pre>\n"
      ],
      "text/plain": [
       "\u001b[2;36m             \u001b[0m\u001b[2;36m \u001b[0m\u001b[34mINFO    \u001b[0m Dataset summary                                                                             \n"
      ]
     },
     "metadata": {},
     "output_type": "display_data"
    },
    {
     "data": {
      "text/html": [
       "<pre style=\"white-space:pre;overflow-x:auto;line-height:normal;font-family:Menlo,'DejaVu Sans Mono',consolas,'Courier New',monospace\"><span style=\"color: #7fbfbf; text-decoration-color: #7fbfbf\">              </span><span style=\"color: #000080; text-decoration-color: #000080\">INFO    </span> Outcome: category                                                                           \n",
       "</pre>\n"
      ],
      "text/plain": [
       "\u001b[2;36m             \u001b[0m\u001b[2;36m \u001b[0m\u001b[34mINFO    \u001b[0m Outcome: category                                                                           \n"
      ]
     },
     "metadata": {},
     "output_type": "display_data"
    },
    {
     "data": {
      "text/html": [
       "<pre style=\"white-space:pre;overflow-x:auto;line-height:normal;font-family:Menlo,'DejaVu Sans Mono',consolas,'Courier New',monospace\"><span style=\"color: #7fbfbf; text-decoration-color: #7fbfbf\">              </span><span style=\"color: #000080; text-decoration-color: #000080\">INFO    </span> Labels:  {'0': 0, '1': 1}                                                                   \n",
       "</pre>\n"
      ],
      "text/plain": [
       "\u001b[2;36m             \u001b[0m\u001b[2;36m \u001b[0m\u001b[34mINFO    \u001b[0m Labels:  {'0': 0, '1': 1}                                                                   \n"
      ]
     },
     "metadata": {},
     "output_type": "display_data"
    },
    {
     "data": {
      "text/html": [
       "<pre style=\"white-space:pre;overflow-x:auto;line-height:normal;font-family:Menlo,'DejaVu Sans Mono',consolas,'Courier New',monospace\"><span style=\"color: #7fbfbf; text-decoration-color: #7fbfbf\">              </span><span style=\"color: #000080; text-decoration-color: #000080\">INFO    </span> Patient in class 0: 34                                                                      \n",
       "</pre>\n"
      ],
      "text/plain": [
       "\u001b[2;36m             \u001b[0m\u001b[2;36m \u001b[0m\u001b[34mINFO    \u001b[0m Patient in class 0: 34                                                                      \n"
      ]
     },
     "metadata": {},
     "output_type": "display_data"
    },
    {
     "data": {
      "text/html": [
       "<pre style=\"white-space:pre;overflow-x:auto;line-height:normal;font-family:Menlo,'DejaVu Sans Mono',consolas,'Courier New',monospace\"><span style=\"color: #7fbfbf; text-decoration-color: #7fbfbf\">              </span><span style=\"color: #000080; text-decoration-color: #000080\">INFO    </span> Slides  in class 0: 34                                                                      \n",
       "</pre>\n"
      ],
      "text/plain": [
       "\u001b[2;36m             \u001b[0m\u001b[2;36m \u001b[0m\u001b[34mINFO    \u001b[0m Slides  in class 0: 34                                                                      \n"
      ]
     },
     "metadata": {},
     "output_type": "display_data"
    },
    {
     "data": {
      "text/html": [
       "<pre style=\"white-space:pre;overflow-x:auto;line-height:normal;font-family:Menlo,'DejaVu Sans Mono',consolas,'Courier New',monospace\"><span style=\"color: #7fbfbf; text-decoration-color: #7fbfbf\">              </span><span style=\"color: #000080; text-decoration-color: #000080\">INFO    </span> Patient in class 1: 21                                                                      \n",
       "</pre>\n"
      ],
      "text/plain": [
       "\u001b[2;36m             \u001b[0m\u001b[2;36m \u001b[0m\u001b[34mINFO    \u001b[0m Patient in class 1: 21                                                                      \n"
      ]
     },
     "metadata": {},
     "output_type": "display_data"
    },
    {
     "data": {
      "text/html": [
       "<pre style=\"white-space:pre;overflow-x:auto;line-height:normal;font-family:Menlo,'DejaVu Sans Mono',consolas,'Courier New',monospace\"><span style=\"color: #7fbfbf; text-decoration-color: #7fbfbf\">              </span><span style=\"color: #000080; text-decoration-color: #000080\">INFO    </span> Slides  in class 1: 21                                                                      \n",
       "</pre>\n"
      ],
      "text/plain": [
       "\u001b[2;36m             \u001b[0m\u001b[2;36m \u001b[0m\u001b[34mINFO    \u001b[0m Slides  in class 1: 21                                                                      \n"
      ]
     },
     "metadata": {},
     "output_type": "display_data"
    },
    {
     "name": "stderr",
     "output_type": "stream",
     "text": [
      "/home/user/stage-lucas/lib/python3.10/site-packages/slideflow/mil/clam/datasets/dataset_generic.py:134: SettingWithCopyWarning: \n",
      "A value is trying to be set on a copy of a slice from a DataFrame.\n",
      "Try using .loc[row_indexer,col_indexer] = value instead\n",
      "\n",
      "See the caveats in the documentation: https://pandas.pydata.org/pandas-docs/stable/user_guide/indexing.html#returning-a-view-versus-a-copy\n",
      "  data['label'] = data[label_col].copy()\n"
     ]
    },
    {
     "data": {
      "text/html": [
       "<pre style=\"white-space:pre;overflow-x:auto;line-height:normal;font-family:Menlo,'DejaVu Sans Mono',consolas,'Courier New',monospace\"><span style=\"color: #7fbfbf; text-decoration-color: #7fbfbf\">              </span><span style=\"color: #000080; text-decoration-color: #000080\">INFO    </span> Dataset summary                                                                             \n",
       "</pre>\n"
      ],
      "text/plain": [
       "\u001b[2;36m             \u001b[0m\u001b[2;36m \u001b[0m\u001b[34mINFO    \u001b[0m Dataset summary                                                                             \n"
      ]
     },
     "metadata": {},
     "output_type": "display_data"
    },
    {
     "data": {
      "text/html": [
       "<pre style=\"white-space:pre;overflow-x:auto;line-height:normal;font-family:Menlo,'DejaVu Sans Mono',consolas,'Courier New',monospace\"><span style=\"color: #7fbfbf; text-decoration-color: #7fbfbf\">              </span><span style=\"color: #000080; text-decoration-color: #000080\">INFO    </span> Outcome: category                                                                           \n",
       "</pre>\n"
      ],
      "text/plain": [
       "\u001b[2;36m             \u001b[0m\u001b[2;36m \u001b[0m\u001b[34mINFO    \u001b[0m Outcome: category                                                                           \n"
      ]
     },
     "metadata": {},
     "output_type": "display_data"
    },
    {
     "data": {
      "text/html": [
       "<pre style=\"white-space:pre;overflow-x:auto;line-height:normal;font-family:Menlo,'DejaVu Sans Mono',consolas,'Courier New',monospace\"><span style=\"color: #7fbfbf; text-decoration-color: #7fbfbf\">              </span><span style=\"color: #000080; text-decoration-color: #000080\">INFO    </span> Labels:  {'0': 0, '1': 1}                                                                   \n",
       "</pre>\n"
      ],
      "text/plain": [
       "\u001b[2;36m             \u001b[0m\u001b[2;36m \u001b[0m\u001b[34mINFO    \u001b[0m Labels:  {'0': 0, '1': 1}                                                                   \n"
      ]
     },
     "metadata": {},
     "output_type": "display_data"
    },
    {
     "data": {
      "text/html": [
       "<pre style=\"white-space:pre;overflow-x:auto;line-height:normal;font-family:Menlo,'DejaVu Sans Mono',consolas,'Courier New',monospace\"><span style=\"color: #7fbfbf; text-decoration-color: #7fbfbf\">              </span><span style=\"color: #000080; text-decoration-color: #000080\">INFO    </span> Patient in class 0: 7                                                                       \n",
       "</pre>\n"
      ],
      "text/plain": [
       "\u001b[2;36m             \u001b[0m\u001b[2;36m \u001b[0m\u001b[34mINFO    \u001b[0m Patient in class 0: 7                                                                       \n"
      ]
     },
     "metadata": {},
     "output_type": "display_data"
    },
    {
     "data": {
      "text/html": [
       "<pre style=\"white-space:pre;overflow-x:auto;line-height:normal;font-family:Menlo,'DejaVu Sans Mono',consolas,'Courier New',monospace\"><span style=\"color: #7fbfbf; text-decoration-color: #7fbfbf\">              </span><span style=\"color: #000080; text-decoration-color: #000080\">INFO    </span> Slides  in class 0: 7                                                                       \n",
       "</pre>\n"
      ],
      "text/plain": [
       "\u001b[2;36m             \u001b[0m\u001b[2;36m \u001b[0m\u001b[34mINFO    \u001b[0m Slides  in class 0: 7                                                                       \n"
      ]
     },
     "metadata": {},
     "output_type": "display_data"
    },
    {
     "data": {
      "text/html": [
       "<pre style=\"white-space:pre;overflow-x:auto;line-height:normal;font-family:Menlo,'DejaVu Sans Mono',consolas,'Courier New',monospace\"><span style=\"color: #7fbfbf; text-decoration-color: #7fbfbf\">              </span><span style=\"color: #000080; text-decoration-color: #000080\">INFO    </span> Patient in class 1: 7                                                                       \n",
       "</pre>\n"
      ],
      "text/plain": [
       "\u001b[2;36m             \u001b[0m\u001b[2;36m \u001b[0m\u001b[34mINFO    \u001b[0m Patient in class 1: 7                                                                       \n"
      ]
     },
     "metadata": {},
     "output_type": "display_data"
    },
    {
     "data": {
      "text/html": [
       "<pre style=\"white-space:pre;overflow-x:auto;line-height:normal;font-family:Menlo,'DejaVu Sans Mono',consolas,'Courier New',monospace\"><span style=\"color: #7fbfbf; text-decoration-color: #7fbfbf\">              </span><span style=\"color: #000080; text-decoration-color: #000080\">INFO    </span> Slides  in class 1: 7                                                                       \n",
       "</pre>\n"
      ],
      "text/plain": [
       "\u001b[2;36m             \u001b[0m\u001b[2;36m \u001b[0m\u001b[34mINFO    \u001b[0m Slides  in class 1: 7                                                                       \n"
      ]
     },
     "metadata": {},
     "output_type": "display_data"
    },
    {
     "data": {
      "text/html": [
       "<pre style=\"white-space:pre;overflow-x:auto;line-height:normal;font-family:Menlo,'DejaVu Sans Mono',consolas,'Courier New',monospace\"><span style=\"color: #7fbfbf; text-decoration-color: #7fbfbf\">              </span><span style=\"color: #800000; text-decoration-color: #800000\">WARNING </span> <span style=\"color: #808000; text-decoration-color: #808000\">First dimension of model size (1024) does not match features (2048). Updating model size to </span>\n",
       "<span style=\"color: #7fbfbf; text-decoration-color: #7fbfbf\">              </span>         <span style=\"color: #808000; text-decoration-color: #808000\">[2048, 512, 256]. </span>                                                                          \n",
       "</pre>\n"
      ],
      "text/plain": [
       "\u001b[2;36m             \u001b[0m\u001b[2;36m \u001b[0m\u001b[31mWARNING \u001b[0m \u001b[33mFirst dimension of model size (1024) does not match features (2048). Updating model size to \u001b[0m\n",
       "\u001b[2;36m              \u001b[0m         \u001b[33m[2048, 512, 256]. \u001b[0m                                                                          \n"
      ]
     },
     "metadata": {},
     "output_type": "display_data"
    },
    {
     "data": {
      "text/html": [
       "<pre style=\"white-space:pre;overflow-x:auto;line-height:normal;font-family:Menlo,'DejaVu Sans Mono',consolas,'Courier New',monospace\"><span style=\"color: #7fbfbf; text-decoration-color: #7fbfbf\">              </span><span style=\"color: #000080; text-decoration-color: #000080\">INFO    </span> <span style=\"font-weight: bold\">=== Training Fold 1 ===</span>                                                                     \n",
       "</pre>\n"
      ],
      "text/plain": [
       "\u001b[2;36m             \u001b[0m\u001b[2;36m \u001b[0m\u001b[34mINFO    \u001b[0m \u001b[1m=== Training Fold 1 ===\u001b[0m                                                                     \n"
      ]
     },
     "metadata": {},
     "output_type": "display_data"
    },
    {
     "data": {
      "text/html": [
       "<pre style=\"white-space:pre;overflow-x:auto;line-height:normal;font-family:Menlo,'DejaVu Sans Mono',consolas,'Courier New',monospace\"><span style=\"color: #7fbfbf; text-decoration-color: #7fbfbf\">              </span><span style=\"color: #000080; text-decoration-color: #000080\">INFO    </span> Training on 55 samples, validating on 14, testing on 14                                     \n",
       "</pre>\n"
      ],
      "text/plain": [
       "\u001b[2;36m             \u001b[0m\u001b[2;36m \u001b[0m\u001b[34mINFO    \u001b[0m Training on 55 samples, validating on 14, testing on 14                                     \n"
      ]
     },
     "metadata": {},
     "output_type": "display_data"
    },
    {
     "data": {
      "text/html": [
       "<pre style=\"white-space:pre;overflow-x:auto;line-height:normal;font-family:Menlo,'DejaVu Sans Mono',consolas,'Courier New',monospace\"><span style=\"color: #7fbfbf; text-decoration-color: #7fbfbf\">              </span><span style=\"color: #000080; text-decoration-color: #000080\">INFO    </span> CLAM_SB(                                                                                    \n",
       "<span style=\"color: #7fbfbf; text-decoration-color: #7fbfbf\">              </span>           (attention_net): Sequential(                                                              \n",
       "<span style=\"color: #7fbfbf; text-decoration-color: #7fbfbf\">              </span>             (0): Linear(in_features=2048, out_features=512, bias=True)                              \n",
       "<span style=\"color: #7fbfbf; text-decoration-color: #7fbfbf\">              </span>             (1): ReLU()                                                                             \n",
       "<span style=\"color: #7fbfbf; text-decoration-color: #7fbfbf\">              </span>             (2): Attn_Net_Gated(                                                                    \n",
       "<span style=\"color: #7fbfbf; text-decoration-color: #7fbfbf\">              </span>               (attention_a): Sequential(                                                            \n",
       "<span style=\"color: #7fbfbf; text-decoration-color: #7fbfbf\">              </span>                 (0): Linear(in_features=512, out_features=256, bias=True)                           \n",
       "<span style=\"color: #7fbfbf; text-decoration-color: #7fbfbf\">              </span>                 (1): Tanh()                                                                         \n",
       "<span style=\"color: #7fbfbf; text-decoration-color: #7fbfbf\">              </span>               )                                                                                     \n",
       "<span style=\"color: #7fbfbf; text-decoration-color: #7fbfbf\">              </span>               (attention_b): Sequential(                                                            \n",
       "<span style=\"color: #7fbfbf; text-decoration-color: #7fbfbf\">              </span>                 (0): Linear(in_features=512, out_features=256, bias=True)                           \n",
       "<span style=\"color: #7fbfbf; text-decoration-color: #7fbfbf\">              </span>                 (1): Sigmoid()                                                                      \n",
       "<span style=\"color: #7fbfbf; text-decoration-color: #7fbfbf\">              </span>               )                                                                                     \n",
       "<span style=\"color: #7fbfbf; text-decoration-color: #7fbfbf\">              </span>               (attention_c): Linear(in_features=256, out_features=1, bias=True)                     \n",
       "<span style=\"color: #7fbfbf; text-decoration-color: #7fbfbf\">              </span>             )                                                                                       \n",
       "<span style=\"color: #7fbfbf; text-decoration-color: #7fbfbf\">              </span>           )                                                                                         \n",
       "<span style=\"color: #7fbfbf; text-decoration-color: #7fbfbf\">              </span>           (instance_classifiers): ModuleList(                                                       \n",
       "<span style=\"color: #7fbfbf; text-decoration-color: #7fbfbf\">              </span>             (0-1): 2 x Linear(in_features=512, out_features=2, bias=True)                           \n",
       "<span style=\"color: #7fbfbf; text-decoration-color: #7fbfbf\">              </span>           )                                                                                         \n",
       "<span style=\"color: #7fbfbf; text-decoration-color: #7fbfbf\">              </span>           (instance_loss_fn): CrossEntropyLoss()                                                    \n",
       "<span style=\"color: #7fbfbf; text-decoration-color: #7fbfbf\">              </span>           (classifiers): Linear(in_features=512, out_features=2, bias=True)                         \n",
       "<span style=\"color: #7fbfbf; text-decoration-color: #7fbfbf\">              </span>         )                                                                                           \n",
       "<span style=\"color: #7fbfbf; text-decoration-color: #7fbfbf\">              </span>         Total parameters: 1315079                                                                   \n",
       "<span style=\"color: #7fbfbf; text-decoration-color: #7fbfbf\">              </span>         Total trainable parameters: 1315079                                                         \n",
       "</pre>\n"
      ],
      "text/plain": [
       "\u001b[2;36m             \u001b[0m\u001b[2;36m \u001b[0m\u001b[34mINFO    \u001b[0m CLAM_SB(                                                                                    \n",
       "\u001b[2;36m              \u001b[0m           (attention_net): Sequential(                                                              \n",
       "\u001b[2;36m              \u001b[0m             (0): Linear(in_features=2048, out_features=512, bias=True)                              \n",
       "\u001b[2;36m              \u001b[0m             (1): ReLU()                                                                             \n",
       "\u001b[2;36m              \u001b[0m             (2): Attn_Net_Gated(                                                                    \n",
       "\u001b[2;36m              \u001b[0m               (attention_a): Sequential(                                                            \n",
       "\u001b[2;36m              \u001b[0m                 (0): Linear(in_features=512, out_features=256, bias=True)                           \n",
       "\u001b[2;36m              \u001b[0m                 (1): Tanh()                                                                         \n",
       "\u001b[2;36m              \u001b[0m               )                                                                                     \n",
       "\u001b[2;36m              \u001b[0m               (attention_b): Sequential(                                                            \n",
       "\u001b[2;36m              \u001b[0m                 (0): Linear(in_features=512, out_features=256, bias=True)                           \n",
       "\u001b[2;36m              \u001b[0m                 (1): Sigmoid()                                                                      \n",
       "\u001b[2;36m              \u001b[0m               )                                                                                     \n",
       "\u001b[2;36m              \u001b[0m               (attention_c): Linear(in_features=256, out_features=1, bias=True)                     \n",
       "\u001b[2;36m              \u001b[0m             )                                                                                       \n",
       "\u001b[2;36m              \u001b[0m           )                                                                                         \n",
       "\u001b[2;36m              \u001b[0m           (instance_classifiers): ModuleList(                                                       \n",
       "\u001b[2;36m              \u001b[0m             (0-1): 2 x Linear(in_features=512, out_features=2, bias=True)                           \n",
       "\u001b[2;36m              \u001b[0m           )                                                                                         \n",
       "\u001b[2;36m              \u001b[0m           (instance_loss_fn): CrossEntropyLoss()                                                    \n",
       "\u001b[2;36m              \u001b[0m           (classifiers): Linear(in_features=512, out_features=2, bias=True)                         \n",
       "\u001b[2;36m              \u001b[0m         )                                                                                           \n",
       "\u001b[2;36m              \u001b[0m         Total parameters: 1315079                                                                   \n",
       "\u001b[2;36m              \u001b[0m         Total trainable parameters: 1315079                                                         \n"
      ]
     },
     "metadata": {},
     "output_type": "display_data"
    },
    {
     "data": {
      "application/vnd.jupyter.widget-view+json": {
       "model_id": "5d546c13f2954fba914f5def26db0259",
       "version_major": 2,
       "version_minor": 0
      },
      "text/plain": [
       "Output()"
      ]
     },
     "metadata": {},
     "output_type": "display_data"
    },
    {
     "data": {
      "text/html": [
       "<pre style=\"white-space:pre;overflow-x:auto;line-height:normal;font-family:Menlo,'DejaVu Sans Mono',consolas,'Courier New',monospace\"></pre>\n"
      ],
      "text/plain": []
     },
     "metadata": {},
     "output_type": "display_data"
    },
    {
     "data": {
      "text/html": [
       "<pre style=\"white-space:pre;overflow-x:auto;line-height:normal;font-family:Menlo,'DejaVu Sans Mono',consolas,'Courier New',monospace\">\n",
       "</pre>\n"
      ],
      "text/plain": [
       "\n"
      ]
     },
     "metadata": {},
     "output_type": "display_data"
    },
    {
     "ename": "KeyError",
     "evalue": "Caught KeyError in DataLoader worker process 2.\nOriginal Traceback (most recent call last):\n  File \"/home/user/stage-lucas/lib/python3.10/site-packages/torch/utils/data/_utils/worker.py\", line 308, in _worker_loop\n    data = fetcher.fetch(index)\n  File \"/home/user/stage-lucas/lib/python3.10/site-packages/torch/utils/data/_utils/fetch.py\", line 51, in fetch\n    data = [self.dataset[idx] for idx in possibly_batched_index]\n  File \"/home/user/stage-lucas/lib/python3.10/site-packages/torch/utils/data/_utils/fetch.py\", line 51, in <listcomp>\n    data = [self.dataset[idx] for idx in possibly_batched_index]\n  File \"/home/user/stage-lucas/lib/python3.10/site-packages/slideflow/mil/clam/datasets/__init__.py\", line 31, in __getitem__\n    features = torch.load(self.pt_files[slide_id])\nKeyError: '21B2743-V'\n",
     "output_type": "error",
     "traceback": [
      "\u001b[0;31m---------------------------------------------------------------------------\u001b[0m",
      "\u001b[0;31mKeyError\u001b[0m                                  Traceback (most recent call last)",
      "Cell \u001b[0;32mIn[39], line 1\u001b[0m\n\u001b[0;32m----> 1\u001b[0m project\u001b[39m.\u001b[39;49mtrain_mil(\n\u001b[1;32m      2\u001b[0m     config\u001b[39m=\u001b[39;49mconfig,\n\u001b[1;32m      3\u001b[0m     outcomes\u001b[39m=\u001b[39;49m\u001b[39m'\u001b[39;49m\u001b[39mcategory\u001b[39;49m\u001b[39m'\u001b[39;49m,\n\u001b[1;32m      4\u001b[0m     train_dataset\u001b[39m=\u001b[39;49mtrain_dataset,\n\u001b[1;32m      5\u001b[0m     val_dataset\u001b[39m=\u001b[39;49meval_dataset,\n\u001b[1;32m      6\u001b[0m     bags\u001b[39m=\u001b[39;49m\u001b[39m'\u001b[39;49m\u001b[39mbags_folder\u001b[39;49m\u001b[39m'\u001b[39;49m,\n\u001b[1;32m      7\u001b[0m     attention_heatmaps\u001b[39m=\u001b[39;49m\u001b[39mTrue\u001b[39;49;00m,\n\u001b[1;32m      8\u001b[0m     cmap\u001b[39m=\u001b[39;49m\u001b[39m'\u001b[39;49m\u001b[39mmagma\u001b[39;49m\u001b[39m'\u001b[39;49m,\n\u001b[1;32m      9\u001b[0m     interpolation\u001b[39m=\u001b[39;49m\u001b[39mNone\u001b[39;49;00m\n\u001b[1;32m     10\u001b[0m )\n",
      "File \u001b[0;32m~/stage-lucas/lib/python3.10/site-packages/slideflow/project.py:3783\u001b[0m, in \u001b[0;36mProject.train_mil\u001b[0;34m(self, config, train_dataset, val_dataset, outcomes, bags, exp_label, **kwargs)\u001b[0m\n\u001b[1;32m   3749\u001b[0m \u001b[39m\u001b[39m\u001b[39mr\u001b[39m\u001b[39m\"\"\"Train a multi-instance learning model.\u001b[39;00m\n\u001b[1;32m   3750\u001b[0m \n\u001b[1;32m   3751\u001b[0m \u001b[39mArgs:\u001b[39;00m\n\u001b[0;32m   (...)\u001b[0m\n\u001b[1;32m   3779\u001b[0m \n\u001b[1;32m   3780\u001b[0m \u001b[39m\"\"\"\u001b[39;00m\n\u001b[1;32m   3781\u001b[0m \u001b[39mfrom\u001b[39;00m \u001b[39m.\u001b[39;00m\u001b[39mmil\u001b[39;00m \u001b[39mimport\u001b[39;00m train_mil\n\u001b[0;32m-> 3783\u001b[0m \u001b[39mreturn\u001b[39;00m train_mil(\n\u001b[1;32m   3784\u001b[0m     config,\n\u001b[1;32m   3785\u001b[0m     train_dataset,\n\u001b[1;32m   3786\u001b[0m     val_dataset,\n\u001b[1;32m   3787\u001b[0m     outcomes,\n\u001b[1;32m   3788\u001b[0m     bags,\n\u001b[1;32m   3789\u001b[0m     outdir\u001b[39m=\u001b[39;49mjoin(\u001b[39mself\u001b[39;49m\u001b[39m.\u001b[39;49mroot, \u001b[39m'\u001b[39;49m\u001b[39mmil\u001b[39;49m\u001b[39m'\u001b[39;49m),\n\u001b[1;32m   3790\u001b[0m     exp_label\u001b[39m=\u001b[39;49mexp_label,\n\u001b[1;32m   3791\u001b[0m     \u001b[39m*\u001b[39;49m\u001b[39m*\u001b[39;49mkwargs\n\u001b[1;32m   3792\u001b[0m )\n",
      "File \u001b[0;32m~/stage-lucas/lib/python3.10/site-packages/slideflow/mil/train/__init__.py:92\u001b[0m, in \u001b[0;36mtrain_mil\u001b[0;34m(config, train_dataset, val_dataset, outcomes, bags, outdir, exp_label, **kwargs)\u001b[0m\n\u001b[1;32m     89\u001b[0m outdir \u001b[39m=\u001b[39m sf\u001b[39m.\u001b[39mutil\u001b[39m.\u001b[39mcreate_new_model_dir(outdir, exp_label)\n\u001b[1;32m     90\u001b[0m sf\u001b[39m.\u001b[39mutil\u001b[39m.\u001b[39mwrite_json(config\u001b[39m.\u001b[39mjson_dump(), join(outdir, \u001b[39m'\u001b[39m\u001b[39mmil_params.json\u001b[39m\u001b[39m'\u001b[39m))\n\u001b[0;32m---> 92\u001b[0m \u001b[39mreturn\u001b[39;00m train_fn(\n\u001b[1;32m     93\u001b[0m     config,\n\u001b[1;32m     94\u001b[0m     train_dataset,\n\u001b[1;32m     95\u001b[0m     val_dataset,\n\u001b[1;32m     96\u001b[0m     outcomes,\n\u001b[1;32m     97\u001b[0m     bags,\n\u001b[1;32m     98\u001b[0m     outdir\u001b[39m=\u001b[39;49moutdir,\n\u001b[1;32m     99\u001b[0m     \u001b[39m*\u001b[39;49m\u001b[39m*\u001b[39;49mkwargs\n\u001b[1;32m    100\u001b[0m )\n",
      "File \u001b[0;32m~/stage-lucas/lib/python3.10/site-packages/slideflow/mil/train/__init__.py:215\u001b[0m, in \u001b[0;36mtrain_clam\u001b[0;34m(config, train_dataset, val_dataset, outcomes, bags, outdir, attention_heatmaps, **heatmap_kwargs)\u001b[0m\n\u001b[1;32m    213\u001b[0m \u001b[39m# Run CLAM\u001b[39;00m\n\u001b[1;32m    214\u001b[0m datasets \u001b[39m=\u001b[39m (train_mil_dataset, val_mil_dataset, val_mil_dataset)\n\u001b[0;32m--> 215\u001b[0m model, results, test_auc, val_auc, test_acc, val_acc \u001b[39m=\u001b[39m clam\u001b[39m.\u001b[39;49mtrain(\n\u001b[1;32m    216\u001b[0m     datasets, \u001b[39m0\u001b[39;49m, clam_args\n\u001b[1;32m    217\u001b[0m )\n\u001b[1;32m    219\u001b[0m \u001b[39m# Generate validation predictions\u001b[39;00m\n\u001b[1;32m    220\u001b[0m df, attention \u001b[39m=\u001b[39m predict_from_model(\n\u001b[1;32m    221\u001b[0m     model,\n\u001b[1;32m    222\u001b[0m     config,\n\u001b[0;32m   (...)\u001b[0m\n\u001b[1;32m    226\u001b[0m     attention\u001b[39m=\u001b[39m\u001b[39mTrue\u001b[39;00m\n\u001b[1;32m    227\u001b[0m )\n",
      "File \u001b[0;32m~/stage-lucas/lib/python3.10/site-packages/slideflow/mil/clam/utils/core_utils.py:185\u001b[0m, in \u001b[0;36mtrain\u001b[0;34m(datasets, cur, args)\u001b[0m\n\u001b[1;32m    183\u001b[0m \u001b[39mfor\u001b[39;00m epoch \u001b[39min\u001b[39;00m track(\u001b[39mrange\u001b[39m(args\u001b[39m.\u001b[39mmax_epochs), description\u001b[39m=\u001b[39m\u001b[39mf\u001b[39m\u001b[39m'\u001b[39m\u001b[39mTraining (fold \u001b[39m\u001b[39m{\u001b[39;00mcur\u001b[39m+\u001b[39m\u001b[39m1\u001b[39m\u001b[39m}\u001b[39;00m\u001b[39m)...\u001b[39m\u001b[39m'\u001b[39m, transient\u001b[39m=\u001b[39m\u001b[39mTrue\u001b[39;00m):\n\u001b[1;32m    184\u001b[0m     \u001b[39mif\u001b[39;00m args\u001b[39m.\u001b[39mmodel_type \u001b[39min\u001b[39;00m [\u001b[39m'\u001b[39m\u001b[39mclam_sb\u001b[39m\u001b[39m'\u001b[39m, \u001b[39m'\u001b[39m\u001b[39mclam_mb\u001b[39m\u001b[39m'\u001b[39m] \u001b[39mand\u001b[39;00m \u001b[39mnot\u001b[39;00m args\u001b[39m.\u001b[39mno_inst_cluster:\n\u001b[0;32m--> 185\u001b[0m         train_loop_clam(epoch, model, train_loader, optimizer, args\u001b[39m.\u001b[39;49mn_classes, args\u001b[39m.\u001b[39;49mbag_weight, writer, loss_fn)\n\u001b[1;32m    186\u001b[0m         stop \u001b[39m=\u001b[39m validate_clam(cur, epoch, model, val_loader, args\u001b[39m.\u001b[39mn_classes,\n\u001b[1;32m    187\u001b[0m             early_stopping, writer, loss_fn, args\u001b[39m.\u001b[39mresults_dir)\n\u001b[1;32m    189\u001b[0m     \u001b[39melse\u001b[39;00m:\n",
      "File \u001b[0;32m~/stage-lucas/lib/python3.10/site-packages/slideflow/mil/clam/utils/core_utils.py:237\u001b[0m, in \u001b[0;36mtrain_loop_clam\u001b[0;34m(epoch, model, loader, optimizer, n_classes, bag_weight, writer, loss_fn)\u001b[0m\n\u001b[1;32m    234\u001b[0m train_inst_loss \u001b[39m=\u001b[39m \u001b[39m0.\u001b[39m\n\u001b[1;32m    235\u001b[0m inst_count \u001b[39m=\u001b[39m \u001b[39m0\u001b[39m\n\u001b[0;32m--> 237\u001b[0m \u001b[39mfor\u001b[39;00m batch_idx, (data, label) \u001b[39min\u001b[39;00m \u001b[39menumerate\u001b[39m(loader):\n\u001b[1;32m    239\u001b[0m     data, label \u001b[39m=\u001b[39m data\u001b[39m.\u001b[39mto(device), label\u001b[39m.\u001b[39mto(device)\n\u001b[1;32m    240\u001b[0m     logits, instance_dict \u001b[39m=\u001b[39m model(data, label\u001b[39m=\u001b[39mlabel, instance_eval\u001b[39m=\u001b[39m\u001b[39mTrue\u001b[39;00m)\n",
      "File \u001b[0;32m~/stage-lucas/lib/python3.10/site-packages/torch/utils/data/dataloader.py:633\u001b[0m, in \u001b[0;36m_BaseDataLoaderIter.__next__\u001b[0;34m(self)\u001b[0m\n\u001b[1;32m    630\u001b[0m \u001b[39mif\u001b[39;00m \u001b[39mself\u001b[39m\u001b[39m.\u001b[39m_sampler_iter \u001b[39mis\u001b[39;00m \u001b[39mNone\u001b[39;00m:\n\u001b[1;32m    631\u001b[0m     \u001b[39m# TODO(https://github.com/pytorch/pytorch/issues/76750)\u001b[39;00m\n\u001b[1;32m    632\u001b[0m     \u001b[39mself\u001b[39m\u001b[39m.\u001b[39m_reset()  \u001b[39m# type: ignore[call-arg]\u001b[39;00m\n\u001b[0;32m--> 633\u001b[0m data \u001b[39m=\u001b[39m \u001b[39mself\u001b[39;49m\u001b[39m.\u001b[39;49m_next_data()\n\u001b[1;32m    634\u001b[0m \u001b[39mself\u001b[39m\u001b[39m.\u001b[39m_num_yielded \u001b[39m+\u001b[39m\u001b[39m=\u001b[39m \u001b[39m1\u001b[39m\n\u001b[1;32m    635\u001b[0m \u001b[39mif\u001b[39;00m \u001b[39mself\u001b[39m\u001b[39m.\u001b[39m_dataset_kind \u001b[39m==\u001b[39m _DatasetKind\u001b[39m.\u001b[39mIterable \u001b[39mand\u001b[39;00m \\\n\u001b[1;32m    636\u001b[0m         \u001b[39mself\u001b[39m\u001b[39m.\u001b[39m_IterableDataset_len_called \u001b[39mis\u001b[39;00m \u001b[39mnot\u001b[39;00m \u001b[39mNone\u001b[39;00m \u001b[39mand\u001b[39;00m \\\n\u001b[1;32m    637\u001b[0m         \u001b[39mself\u001b[39m\u001b[39m.\u001b[39m_num_yielded \u001b[39m>\u001b[39m \u001b[39mself\u001b[39m\u001b[39m.\u001b[39m_IterableDataset_len_called:\n",
      "File \u001b[0;32m~/stage-lucas/lib/python3.10/site-packages/torch/utils/data/dataloader.py:1325\u001b[0m, in \u001b[0;36m_MultiProcessingDataLoaderIter._next_data\u001b[0;34m(self)\u001b[0m\n\u001b[1;32m   1323\u001b[0m \u001b[39mif\u001b[39;00m \u001b[39mlen\u001b[39m(\u001b[39mself\u001b[39m\u001b[39m.\u001b[39m_task_info[\u001b[39mself\u001b[39m\u001b[39m.\u001b[39m_rcvd_idx]) \u001b[39m==\u001b[39m \u001b[39m2\u001b[39m:\n\u001b[1;32m   1324\u001b[0m     data \u001b[39m=\u001b[39m \u001b[39mself\u001b[39m\u001b[39m.\u001b[39m_task_info\u001b[39m.\u001b[39mpop(\u001b[39mself\u001b[39m\u001b[39m.\u001b[39m_rcvd_idx)[\u001b[39m1\u001b[39m]\n\u001b[0;32m-> 1325\u001b[0m     \u001b[39mreturn\u001b[39;00m \u001b[39mself\u001b[39;49m\u001b[39m.\u001b[39;49m_process_data(data)\n\u001b[1;32m   1327\u001b[0m \u001b[39massert\u001b[39;00m \u001b[39mnot\u001b[39;00m \u001b[39mself\u001b[39m\u001b[39m.\u001b[39m_shutdown \u001b[39mand\u001b[39;00m \u001b[39mself\u001b[39m\u001b[39m.\u001b[39m_tasks_outstanding \u001b[39m>\u001b[39m \u001b[39m0\u001b[39m\n\u001b[1;32m   1328\u001b[0m idx, data \u001b[39m=\u001b[39m \u001b[39mself\u001b[39m\u001b[39m.\u001b[39m_get_data()\n",
      "File \u001b[0;32m~/stage-lucas/lib/python3.10/site-packages/torch/utils/data/dataloader.py:1371\u001b[0m, in \u001b[0;36m_MultiProcessingDataLoaderIter._process_data\u001b[0;34m(self, data)\u001b[0m\n\u001b[1;32m   1369\u001b[0m \u001b[39mself\u001b[39m\u001b[39m.\u001b[39m_try_put_index()\n\u001b[1;32m   1370\u001b[0m \u001b[39mif\u001b[39;00m \u001b[39misinstance\u001b[39m(data, ExceptionWrapper):\n\u001b[0;32m-> 1371\u001b[0m     data\u001b[39m.\u001b[39;49mreraise()\n\u001b[1;32m   1372\u001b[0m \u001b[39mreturn\u001b[39;00m data\n",
      "File \u001b[0;32m~/stage-lucas/lib/python3.10/site-packages/torch/_utils.py:644\u001b[0m, in \u001b[0;36mExceptionWrapper.reraise\u001b[0;34m(self)\u001b[0m\n\u001b[1;32m    640\u001b[0m \u001b[39mexcept\u001b[39;00m \u001b[39mTypeError\u001b[39;00m:\n\u001b[1;32m    641\u001b[0m     \u001b[39m# If the exception takes multiple arguments, don't try to\u001b[39;00m\n\u001b[1;32m    642\u001b[0m     \u001b[39m# instantiate since we don't know how to\u001b[39;00m\n\u001b[1;32m    643\u001b[0m     \u001b[39mraise\u001b[39;00m \u001b[39mRuntimeError\u001b[39;00m(msg) \u001b[39mfrom\u001b[39;00m \u001b[39mNone\u001b[39;00m\n\u001b[0;32m--> 644\u001b[0m \u001b[39mraise\u001b[39;00m exception\n",
      "\u001b[0;31mKeyError\u001b[0m: Caught KeyError in DataLoader worker process 2.\nOriginal Traceback (most recent call last):\n  File \"/home/user/stage-lucas/lib/python3.10/site-packages/torch/utils/data/_utils/worker.py\", line 308, in _worker_loop\n    data = fetcher.fetch(index)\n  File \"/home/user/stage-lucas/lib/python3.10/site-packages/torch/utils/data/_utils/fetch.py\", line 51, in fetch\n    data = [self.dataset[idx] for idx in possibly_batched_index]\n  File \"/home/user/stage-lucas/lib/python3.10/site-packages/torch/utils/data/_utils/fetch.py\", line 51, in <listcomp>\n    data = [self.dataset[idx] for idx in possibly_batched_index]\n  File \"/home/user/stage-lucas/lib/python3.10/site-packages/slideflow/mil/clam/datasets/__init__.py\", line 31, in __getitem__\n    features = torch.load(self.pt_files[slide_id])\nKeyError: '21B2743-V'\n"
     ]
    }
   ],
   "source": [
    "project.train_mil(\n",
    "    config=config,\n",
    "    outcomes='category',\n",
    "    train_dataset=train_dataset,\n",
    "    val_dataset=eval_dataset,\n",
    "    bags='bags_folder',\n",
    "    attention_heatmaps=True,\n",
    "    cmap='magma',\n",
    "    interpolation=None\n",
    ")"
   ]
  },
  {
   "attachments": {},
   "cell_type": "markdown",
   "metadata": {},
   "source": [
    "#### Model evaluation"
   ]
  }
 ],
 "metadata": {
  "kernelspec": {
   "display_name": "stage-lucas",
   "language": "python",
   "name": "python3"
  },
  "language_info": {
   "codemirror_mode": {
    "name": "ipython",
    "version": 3
   },
   "file_extension": ".py",
   "mimetype": "text/x-python",
   "name": "python",
   "nbconvert_exporter": "python",
   "pygments_lexer": "ipython3",
   "version": "3.10.6"
  },
  "orig_nbformat": 4
 },
 "nbformat": 4,
 "nbformat_minor": 2
}
